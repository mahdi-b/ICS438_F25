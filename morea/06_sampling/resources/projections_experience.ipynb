{
 "cells": [
  {
   "cell_type": "code",
   "execution_count": null,
   "id": "0",
   "metadata": {},
   "outputs": [],
   "source": [
    "\n",
    "import matplotlib.pyplot as plt\n",
    "import numpy as np\n",
    "\n",
    "def plot_points(x, y, dot_size=10, grid_size=10, highlight=None):\n",
    "    \n",
    "    fig, ax = plt.subplots(figsize=(8, 8))\n",
    "    fig.patch.set_facecolor('lightgray')\n",
    "    ax.set_facecolor('lightgray')\n",
    "    \n",
    "    # Plot the points\n",
    "    ax.scatter(x, y, s=dot_size, color='blue', alpha=0.7)\n",
    "    \n",
    "    if highlight:\n",
    "        highlight_x, highlight_y = zip(*highlight)\n",
    "        ax.scatter(highlight_x, highlight_y, s=dot_size*10, color='red', alpha=0.7)\n",
    "    \n",
    "    ax.grid(True, which='both', linestyle='--', linewidth=0.5, color='black')\n",
    "    ax.set_aspect('equal', adjustable='box')\n",
    "    plt.xticks(np.arange(0, 101, 10))\n",
    "    plt.yticks(np.arange(0, 101, 10))\n",
    "    \n",
    "    plt.show()\n",
    "\n",
    "x = np.random.randint(0, 101, 1000)\n",
    "y = np.random.randint(0, 101, 1000)\n",
    "\n",
    "plot_points(x, y, dot_size=20, grid_size=15)\n"
   ]
  },
  {
   "cell_type": "code",
   "execution_count": null,
   "id": "1",
   "metadata": {},
   "outputs": [],
   "source": [
    "plot_points(x, y, dot_size=20, grid_size=15, highlight=[(12.2, 34.7)])\n"
   ]
  },
  {
   "cell_type": "code",
   "execution_count": null,
   "id": "2",
   "metadata": {},
   "outputs": [],
   "source": [
    "def get_cell_coordinates(pt, cell_size=10):\n",
    "    # Calculate the cell coordinates\n",
    "    cell_x = int(pt[0] // cell_size)\n",
    "    cell_y = int(pt[1] // cell_size)\n",
    "    return cell_x, cell_y"
   ]
  },
  {
   "cell_type": "code",
   "execution_count": null,
   "id": "3",
   "metadata": {},
   "outputs": [],
   "source": [
    "print(get_cell_coordinates((12.2, 34.7)))"
   ]
  },
  {
   "cell_type": "code",
   "execution_count": null,
   "id": "4",
   "metadata": {},
   "outputs": [],
   "source": [
    "X = np.array([1,2,3,4,5])\n",
    "X/2"
   ]
  },
  {
   "cell_type": "code",
   "execution_count": null,
   "id": "5",
   "metadata": {},
   "outputs": [],
   "source": [
    "a_s = np.array([(1,2), (2,2)])\n",
    "b = np.array((4,0))\n",
    "np.dot(a_s, b)"
   ]
  },
  {
   "cell_type": "code",
   "execution_count": null,
   "id": "6",
   "metadata": {},
   "outputs": [],
   "source": [
    "np.dot(, [0,4])"
   ]
  },
  {
   "cell_type": "code",
   "execution_count": null,
   "id": "7",
   "metadata": {},
   "outputs": [],
   "source": [
    "def vector_projection_length(vector, points):\n",
    "    dot_product = np.dot(points, vector)\n",
    "    vector_magnitude = np.linalg.norm(vector)\n",
    "    projection_length = np.floor(dot_product / vector_magnitude**2)\n",
    "    \n",
    "    return projection_length"
   ]
  },
  {
   "cell_type": "code",
   "execution_count": null,
   "id": "8",
   "metadata": {},
   "outputs": [],
   "source": [
    "vector = np.array([10, 0])\n",
    "point = np.array([10.2, 34.7])\n",
    "print(vector_projection_length(vector, point))"
   ]
  },
  {
   "cell_type": "code",
   "execution_count": null,
   "id": "9",
   "metadata": {},
   "outputs": [],
   "source": [
    "vector = np.array([0, 10])\n",
    "point = np.array([10.2, 34.7])\n",
    "print(vector_projection_length(vector, point))"
   ]
  },
  {
   "cell_type": "code",
   "execution_count": null,
   "id": "10",
   "metadata": {},
   "outputs": [],
   "source": [
    "my_points = np.array(list(zip(x,y)))\n",
    "\n",
    "my_points[0:10]"
   ]
  },
  {
   "cell_type": "code",
   "execution_count": null,
   "id": "11",
   "metadata": {},
   "outputs": [],
   "source": [
    "vector_x_axis = np.array([10, 0])\n",
    "vector_y_axis = np.array([0, 10])\n",
    "cell_x = vector_projection_length(vector_x_axis, my_points[2])\n",
    "cell_y = vector_projection_length(vector_y_axis, my_points[2])\n",
    "print(cell_x, cell_y)"
   ]
  },
  {
   "cell_type": "code",
   "execution_count": null,
   "id": "12",
   "metadata": {},
   "outputs": [],
   "source": [
    "plot_points(x, y, dot_size=20, grid_size=15, highlight=[my_points[2]])"
   ]
  },
  {
   "cell_type": "code",
   "execution_count": null,
   "id": "13",
   "metadata": {},
   "outputs": [],
   "source": [
    "all_x_cells = vector_projection_length(vector_x_axis, my_points)\n",
    "all_x_cells[0:10]"
   ]
  },
  {
   "cell_type": "code",
   "execution_count": null,
   "id": "14",
   "metadata": {},
   "outputs": [],
   "source": [
    "all_y_cells = vector_projection_length(vector_y_axis, np.array(my_points))\n",
    "all_y_cells[0:10]"
   ]
  },
  {
   "cell_type": "code",
   "execution_count": null,
   "id": "15",
   "metadata": {},
   "outputs": [],
   "source": [
    "all_x_y_cells = list(zip(all_x_cells, all_y_cells))\n",
    "all_x_y_cells[0:10]"
   ]
  },
  {
   "cell_type": "code",
   "execution_count": null,
   "id": "16",
   "metadata": {},
   "outputs": [],
   "source": [
    "# x = np.random.randint(0, 101, 20_000_000)\n",
    "# y = np.random.randint(0, 101, 20_000_000)\n",
    "# my_points = np.array(list(zip(x,y)))\n",
    "len(my_points)"
   ]
  },
  {
   "cell_type": "code",
   "execution_count": null,
   "id": "17",
   "metadata": {},
   "outputs": [],
   "source": [
    "my_points[0:10]"
   ]
  },
  {
   "cell_type": "code",
   "execution_count": null,
   "id": "18",
   "metadata": {},
   "outputs": [],
   "source": [
    "%%time\n",
    "all_x_y_cells_method_1 = []\n",
    "for point in my_points:\n",
    "    cell_coords = get_cell_coordinates(point)\n",
    "    all_x_y_cells_method_1.append(cell_coords)\n",
    "all_x_y_cells_method_1[0:5]"
   ]
  },
  {
   "cell_type": "code",
   "execution_count": null,
   "id": "19",
   "metadata": {},
   "outputs": [],
   "source": [
    "%%time\n",
    "all_x_cells = vector_projection_length(vector_x_axis, my_points)\n",
    "all_y_cells = vector_projection_length(vector_y_axis, my_points)\n",
    "all_x_y_cells_method_2 = list(zip(all_x_cells, all_y_cells))\n",
    "all_x_y_cells_method_2[0:5]"
   ]
  },
  {
   "cell_type": "code",
   "execution_count": null,
   "id": "20",
   "metadata": {},
   "outputs": [],
   "source": [
    "### Write code to compute the number of point in each cell\n",
    "from collections import Counter\n",
    "Counter(all_x_y_cells_method_2)\n"
   ]
  },
  {
   "cell_type": "code",
   "execution_count": null,
   "id": "21",
   "metadata": {},
   "outputs": [],
   "source": [
    "all_x_y_cells_method_2"
   ]
  },
  {
   "cell_type": "markdown",
   "id": "22",
   "metadata": {},
   "source": [
    "Write a function that takes a vector $ \\mathbf{v} \\in \\mathbb{R}^2 $, draws the vector starting from the origin $ \\mathbf{0} $, and plots the line that spans the vector $ \\mathbf{v} $.\n",
    "  * A vector with its tail at the origin $ \\mathbf{0} $ and its head at the point $\\mathbf{v} \\in \\mathbb{R}^2 $\n",
    "\n"
   ]
  },
  {
   "cell_type": "code",
   "execution_count": null,
   "id": "23",
   "metadata": {},
   "outputs": [],
   "source": [
    "import numpy as np\n",
    "import matplotlib.pyplot as plt\n",
    "\n",
    "def draw_vector_and_line(vectors, points=None):\n",
    "    \"\"\"\n",
    "    Takes a list of 2D vectors and plots each vector starting from the origin (0, 0),\n",
    "    along with the line that spans the vector.\n",
    "    \n",
    "    Args:\n",
    "    vectors (list of np.ndarray): A list of 2D vectors to draw.\n",
    "    \"\"\"\n",
    "    plt.figure()\n",
    "    ax = plt.gca()\n",
    "\n",
    "    # Loop over each vector\n",
    "    for v in vectors:\n",
    "        # Plot the vector from origin (0,0)\n",
    "        ax.quiver(0, 0, v[0], v[1], angles='xy', scale_units='xy', scale=1, color='b', label=f'Vector {v}')\n",
    "        \n",
    "        # Plot the line that spans the vector\n",
    "        line_x = np.array([-10, 10])  # Extend the line over an arbitrary range\n",
    "        slope = v[1] / v[0] if v[0] != 0 else np.inf\n",
    "        if slope != np.inf:\n",
    "            line_y = slope * line_x\n",
    "            plt.plot(line_x, line_y, 'r--')\n",
    "        else:\n",
    "            plt.axvline(x=v[0], color='r', linestyle='--')\n",
    "    if points is not None:\n",
    "        for pt in points:\n",
    "            plt.scatter(pt[0], pt[1])\n",
    "    \n",
    "    # Set the limits and grid for visualization\n",
    "    ax.set_xlim([-3, 25])\n",
    "    ax.set_ylim([-2, 40])\n",
    "#     ax.axhline(0, color='black',linewidth=0.5)\n",
    "#     ax.axvline(0, color='black',linewidth=0.5)\n",
    "    plt.grid(True)\n",
    "    plt.gca().set_aspect('equal', adjustable='box')\n",
    "    plt.title('Vectors and Spanning Lines')\n",
    "    plt.show()\n",
    "\n"
   ]
  },
  {
   "cell_type": "code",
   "execution_count": null,
   "id": "24",
   "metadata": {},
   "outputs": [],
   "source": [
    "draw_vector_and_line(\n",
    "    [np.array([10, 0]),np.array([0, 10])],\n",
    "    points=[(10.2, 34.7)]\n",
    ") \n",
    "\n"
   ]
  },
  {
   "cell_type": "markdown",
   "id": "25",
   "metadata": {},
   "source": [
    "$\\frac{a \\cdot b}{||b||^2}$"
   ]
  },
  {
   "cell_type": "code",
   "execution_count": null,
   "id": "26",
   "metadata": {},
   "outputs": [],
   "source": [
    "a  = (200, 16)\n",
    "b = (0, 4)\n",
    "np.floor(np.dot(a,b) / (np.sqrt(4**2 + 0**2))**2)\n"
   ]
  },
  {
   "cell_type": "code",
   "execution_count": null,
   "id": "27",
   "metadata": {},
   "outputs": [],
   "source": [
    "import numpy as np\n",
    "\n",
    "def perpendicular_vector(p):\n",
    "    return np.array([-p[1], p[0]])\n",
    "\n",
    "p = np.array([3, 2])\n",
    "perp_p = perpendicular_vector(p)\n",
    "perp_p\n"
   ]
  },
  {
   "cell_type": "code",
   "execution_count": null,
   "id": "28",
   "metadata": {},
   "outputs": [],
   "source": []
  },
  {
   "cell_type": "code",
   "execution_count": null,
   "id": "29",
   "metadata": {},
   "outputs": [],
   "source": []
  },
  {
   "cell_type": "code",
   "execution_count": null,
   "id": "30",
   "metadata": {},
   "outputs": [],
   "source": []
  },
  {
   "cell_type": "code",
   "execution_count": null,
   "id": "31",
   "metadata": {},
   "outputs": [],
   "source": []
  },
  {
   "cell_type": "code",
   "execution_count": null,
   "id": "32",
   "metadata": {},
   "outputs": [],
   "source": []
  },
  {
   "cell_type": "code",
   "execution_count": null,
   "id": "33",
   "metadata": {},
   "outputs": [],
   "source": []
  },
  {
   "cell_type": "code",
   "execution_count": null,
   "id": "34",
   "metadata": {},
   "outputs": [],
   "source": [
    "import numpy as np\n",
    "\n",
    "def vector_projection_length(vector, points):\n",
    "    dot_product = np.dot(points, vector)\n",
    "    vector_magnitude = np.linalg.norm(vector)\n",
    "    projection_length = np.floor(dot_product / vector_magnitude**2)\n",
    "    return projection_length\n",
    "\n",
    "# Example vectors\n",
    "vector = np.array([3, 4])  # This has a magnitude of 5 (3-4-5 triangle)\n",
    "point = np.array([6, 8])   # This is in the same direction as 'vector'\n",
    "\n",
    "# Compute projection\n",
    "proj_length = vector_projection_length(vector, point)\n",
    "proj_length"
   ]
  },
  {
   "cell_type": "code",
   "execution_count": null,
   "id": "35",
   "metadata": {},
   "outputs": [],
   "source": [
    "draw_vector_and_line([np.array(vector)], point=point\n",
    "                    )\n"
   ]
  },
  {
   "cell_type": "code",
   "execution_count": null,
   "id": "36",
   "metadata": {},
   "outputs": [],
   "source": [
    "np.dot((6,0), (4,0))"
   ]
  },
  {
   "cell_type": "code",
   "execution_count": null,
   "id": "37",
   "metadata": {},
   "outputs": [],
   "source": [
    "np.sqrt((4**2) + (0**2))"
   ]
  },
  {
   "cell_type": "code",
   "execution_count": null,
   "id": "38",
   "metadata": {},
   "outputs": [],
   "source": [
    "np.dot((6,0), (4,0))/ np.sqrt(4**2 + 0**2)"
   ]
  },
  {
   "cell_type": "code",
   "execution_count": null,
   "id": "39",
   "metadata": {},
   "outputs": [],
   "source": [
    "np.dot((4,0), (4,0))/ np.sqrt(2**2 + 0**2)"
   ]
  },
  {
   "cell_type": "code",
   "execution_count": null,
   "id": "40",
   "metadata": {},
   "outputs": [],
   "source": []
  }
 ],
 "metadata": {
  "kernelspec": {
   "display_name": "Python 3 (ipykernel)",
   "language": "python",
   "name": "python3"
  },
  "language_info": {
   "codemirror_mode": {
    "name": "ipython",
    "version": 3
   },
   "file_extension": ".py",
   "mimetype": "text/x-python",
   "name": "python",
   "nbconvert_exporter": "python",
   "pygments_lexer": "ipython3",
   "version": "3.9.16"
  }
 },
 "nbformat": 4,
 "nbformat_minor": 5
}
