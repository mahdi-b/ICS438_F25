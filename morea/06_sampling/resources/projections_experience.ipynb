{
 "cells": [
  {
   "cell_type": "code",
   "execution_count": null,
   "id": "62e6dcf5",
   "metadata": {},
   "outputs": [],
   "source": [
    "\n",
    "import matplotlib.pyplot as plt\n",
    "import numpy as np\n",
    "\n",
    "def plot_points(x, y, dot_size=10, grid_size=10, highlight=None):\n",
    "    \n",
    "    fig, ax = plt.subplots(figsize=(8, 8))\n",
    "    fig.patch.set_facecolor('lightgray')\n",
    "    ax.set_facecolor('lightgray')\n",
    "    \n",
    "    # Plot the points\n",
    "    ax.scatter(x, y, s=dot_size, color='blue', alpha=0.7)\n",
    "    \n",
    "    if highlight:\n",
    "        highlight_x, highlight_y = zip(*highlight)\n",
    "        ax.scatter(highlight_x, highlight_y, s=dot_size*10, color='red', alpha=0.7)\n",
    "    \n",
    "    ax.grid(True, which='both', linestyle='--', linewidth=0.5, color='black')\n",
    "    ax.set_aspect('equal', adjustable='box')\n",
    "    plt.xticks(np.arange(0, 101, 10))\n",
    "    plt.yticks(np.arange(0, 101, 10))\n",
    "    \n",
    "    plt.show()\n",
    "\n",
    "x = np.random.randint(0, 101, 1000)\n",
    "y = np.random.randint(0, 101, 1000)\n",
    "\n",
    "plot_points(x, y, dot_size=20, grid_size=15)\n"
   ]
  },
  {
   "cell_type": "code",
   "execution_count": null,
   "id": "6d7caf02",
   "metadata": {},
   "outputs": [],
   "source": [
    "plot_points(x, y, dot_size=20, grid_size=15, highlight=[(12.2, 34.7)])\n"
   ]
  },
  {
   "cell_type": "code",
   "execution_count": null,
   "id": "f56b56e3",
   "metadata": {},
   "outputs": [],
   "source": [
    "print(get_cell_coordinates((12.2, 34.7)))"
   ]
  },
  {
   "cell_type": "code",
   "execution_count": null,
   "id": "5112fabf",
   "metadata": {},
   "outputs": [],
   "source": [
    "def vector_projection_length(vector, points):\n",
    "    dot_product = np.dot(points, vector)\n",
    "    vector_magnitude = np.linalg.norm(vector)\n",
    "    projection_length = np.floor(dot_product / vector_magnitude**2)\n",
    "    \n",
    "    return projection_length"
   ]
  },
  {
   "cell_type": "code",
   "execution_count": null,
   "id": "e6160c00",
   "metadata": {},
   "outputs": [],
   "source": [
    "vector = np.array([10, 0])\n",
    "point = np.array([10.2, 34.7])\n",
    "print(vector_projection_length(vector, point))"
   ]
  },
  {
   "cell_type": "code",
   "execution_count": null,
   "id": "e48b43b9",
   "metadata": {},
   "outputs": [],
   "source": [
    "vector = np.array([0, 10])\n",
    "point = np.array([10.2, 34.7])\n",
    "print(vector_projection_length(vector, point))"
   ]
  },
  {
   "cell_type": "code",
   "execution_count": null,
   "id": "6248058b",
   "metadata": {},
   "outputs": [],
   "source": [
    "my_points = np.array(list(zip(x,y)))\n",
    "\n",
    "my_points[0:10]"
   ]
  },
  {
   "cell_type": "code",
   "execution_count": null,
   "id": "0c02dddb",
   "metadata": {},
   "outputs": [],
   "source": [
    "vector_x_axis = np.array([10, 0])\n",
    "vector_y_axis = np.array([0, 10])\n",
    "cell_x = vector_projection_length(vector_x_axis, my_points[2])\n",
    "cell_y = vector_projection_length(vector_y_axis, my_points[2])\n",
    "print(cell_x, cell_y)"
   ]
  },
  {
   "cell_type": "code",
   "execution_count": null,
   "id": "d09c9ad2",
   "metadata": {},
   "outputs": [],
   "source": [
    "plot_points(x, y, dot_size=20, grid_size=15, highlight=[my_points[2]])"
   ]
  },
  {
   "cell_type": "code",
   "execution_count": null,
   "id": "fe80f399",
   "metadata": {},
   "outputs": [],
   "source": [
    "all_x_cells = vector_projection_length(vector_x_axis, my_points)\n",
    "all_x_cells[0:10]"
   ]
  },
  {
   "cell_type": "code",
   "execution_count": null,
   "id": "deb7bdc8",
   "metadata": {},
   "outputs": [],
   "source": [
    "all_y_cells = vector_projection_length(vector_y_axis, np.array(my_points))\n",
    "all_y_cells[0:10]"
   ]
  },
  {
   "cell_type": "code",
   "execution_count": null,
   "id": "9ac7ca1a",
   "metadata": {},
   "outputs": [],
   "source": [
    "all_x_y_cells = list(zip(all_x_cells, all_y_cells))\n",
    "all_x_y_cells[0:10]"
   ]
  },
  {
   "cell_type": "code",
   "execution_count": null,
   "id": "8ca9cd27",
   "metadata": {},
   "outputs": [],
   "source": [
    "x = np.random.randint(0, 101, 20_000_000)\n",
    "y = np.random.randint(0, 101, 20_000_000)\n",
    "my_points = np.array(list(zip(x,y)))\n"
   ]
  },
  {
   "cell_type": "code",
   "execution_count": null,
   "id": "b3e084df",
   "metadata": {},
   "outputs": [],
   "source": [
    "%%time\n",
    "all_x_y_cells_method_1 = []\n",
    "for point in my_points:\n",
    "    cell_coords = get_cell_coordinates(point)\n",
    "    all_x_y_cells_method_1.append(cell_coords)\n",
    "all_x_y_cells_method_1[0:5]"
   ]
  },
  {
   "cell_type": "code",
   "execution_count": null,
   "id": "6081d91f",
   "metadata": {},
   "outputs": [],
   "source": [
    "%%time\n",
    "all_x_cells = vector_projection_length(vector_x_axis, my_points)\n",
    "all_y_cells = vector_projection_length(vector_y_axis, my_points)\n",
    "all_x_y_cells_method_2 = list(zip(all_x_cells, all_y_cells))\n",
    "all_x_y_cells_method_2[0:5]"
   ]
  },
  {
   "cell_type": "code",
   "execution_count": null,
   "id": "63d588b5",
   "metadata": {},
   "outputs": [],
   "source": [
    "### Write code to compute the number of point in each cell\n"
   ]
  }
 ],
 "metadata": {
  "kernelspec": {
   "display_name": "Python 3 (ipykernel)",
   "language": "python",
   "name": "python3"
  },
  "language_info": {
   "codemirror_mode": {
    "name": "ipython",
    "version": 3
   },
   "file_extension": ".py",
   "mimetype": "text/x-python",
   "name": "python",
   "nbconvert_exporter": "python",
   "pygments_lexer": "ipython3",
   "version": "3.9.16"
  }
 },
 "nbformat": 4,
 "nbformat_minor": 5
}
