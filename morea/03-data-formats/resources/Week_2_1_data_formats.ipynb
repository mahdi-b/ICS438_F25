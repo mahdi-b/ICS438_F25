{
 "cells": [
  {
   "cell_type": "code",
   "execution_count": null,
   "id": "92655797",
   "metadata": {},
   "outputs": [],
   "source": [
    "## Notes: \n",
    "- Data Bricks Certification\n"
   ]
  },
  {
   "cell_type": "markdown",
   "id": "dcd4312f",
   "metadata": {},
   "source": [
    "## Popular Big Data Formats\n",
    "\n",
    "- Data format is a crucial aspect of working with big data\n",
    "- The recurring topic is \"There ain't such a thing as free lunch\" (TANSTAAFL)\n",
    "  - This principle applies to various aspects of working with big data, including choosing data formats for big data projects\n"
   ]
  },
  {
   "cell_type": "markdown",
   "id": "6112b0ef",
   "metadata": {},
   "source": [
    "\n",
    "## Key Considerations for Big Data Formats\n",
    "\n",
    "- In light of the TANSTAAFL principle, consider the following challenges:\n",
    "  - **Compression**: Different file formats offer varying levels of compressibility\n",
    "  - **Splittability**: Evaluate how easily a file format can be split for distributed processing\n",
    "  - **Column vs. Row Storage**: The importance of individual columns may vary\n",
    "  - **Data Types and Schema Evolution**: Consider whether it's necessary to enforce data types"
   ]
  },
  {
   "cell_type": "markdown",
   "id": "519c17d6",
   "metadata": {},
   "source": [
    "## File Format: an Intuition\n",
    "\n",
    "- Selecting an appropriate storage format is crucial for:\n",
    "  - Optimizing performance\n",
    "  - Conserving storage space\n",
    "  - Reducing complexity and costs\n",
    "- Most people are familiar with row-based formats (e.g., MS Excel)\n",
    "\n",
    "Example:\n",
    "\n",
    "| Transaction Date | Nb Items | Total   |\n",
    "|------------------|----------|---------|\n",
    "| 01/01/2001       | 4        | 1852.14 |\n",
    "| 01/01/2001       | 3        | 968.00  |\n",
    "| 01/01/2001       | 5        | 129.51  |\n",
    "| 01/02/2001       | 9        | 335.60  |"
   ]
  },
  {
   "cell_type": "markdown",
   "id": "7ef15f6e",
   "metadata": {},
   "source": [
    "## File Format: an Intuition - Cont'd\n",
    "\n",
    "- Current format may not be suitable for certain data types or operations\n",
    "- E.g., sales information with a large volume of daily transactions\n",
    "- A dictionary-like format might be more storage-efficient:\n",
    "\n",
    "```python\n",
    "{\"01/01/2001\": [(4, 1852.14), (3,  968.00), ...], \"01/02/2001\": [...], ... }\n",
    "```\n",
    "\n",
    "\n",
    "- This format would make day-based calculations more efficient\n"
   ]
  },
  {
   "cell_type": "markdown",
   "id": "e7ec5b37",
   "metadata": {},
   "source": [
    "## File Format: an Intuition - Cont'd\n",
    "\n",
    "- If the objective is to calculate total sales:\n",
    "  - Table format: Sift through millions of lines\n",
    "  - Dictionary format: Index into specific dates\n",
    "- Another option is to use a column-based data format:\n",
    "\n",
    "| **Totals**            | 1852.14    | 968.00     | 256.21     | ... |\n",
    "|-----------------------|------------|------------|------------|-----|\n",
    "| **Transaction Dates** | 01/01/2001 | 01/01/2001 | 01/02/2001 | ... |\n",
    "| **Nb Items**          | 4          | 3          | 2          | ... |\n",
    "\n",
    "## File Formats Decisions\n",
    "\n",
    "Four key factors to consider when choosing file formats:\n",
    "\n",
    "1. Row vs Column\n",
    "   - What types of analytics will be performed?\n",
    "2. Schema Management\n",
    "   - Is it likely that data schemas will change over time?\n",
    "3. Splittability\n",
    "   - Is it possible to distribute data across multiple files or servers?\n",
    "4. Compression\n",
    "   - How well does the format compress?\n"
   ]
  },
  {
   "cell_type": "markdown",
   "id": "f2e6e731",
   "metadata": {},
   "source": [
    "## 1. Row- and Column-Based Formats\n",
    "\n",
    "- This is a crucial factor to consider when choosing a format for big data\n",
    "\n",
    "![Row vs Column Format](https://www.dropbox.com/s/an5fg7xl2uvnfb8/row_col_format.png?dl=1)\n"
   ]
  },
  {
   "cell_type": "markdown",
   "id": "65fd0e0a",
   "metadata": {},
   "source": [
    "## Issue with In-Memory Data Layout\n",
    "\n",
    "- What's the issue when data is not stored consecutively in RAM?\n",
    "- Example: Storing rows but needing to extract a single column\n",
    "- This makes data retrieval inefficient\n",
    "- Buzzword Alert: It's a \"Stride\" problem!\n",
    "  - A \"stride\" is the gap between data points we're interested in\n",
    "  - In row-based data, to extract columns, we need to skip n-1 columns\n",
    "  - This is called \"strided access\"\n"
   ]
  },
  {
   "cell_type": "markdown",
   "id": "1060ece6",
   "metadata": {},
   "source": [
    "## Strided Access in Big Data Contexts\n",
    "\n",
    "To understand strided access, let's use a simple analogy that everyone can relate to: a library.\n",
    "\n",
    "### The Library Analogy\n",
    "\n",
    "Imagine you're in a library with two different organizational systems:\n",
    "\n",
    "1. **The Row-Based Library (Traditional System)**:\n",
    "   - Books are arranged on shelves by genre, where each shelf contains books from multiple genres.\n",
    "\n",
    "2. **The Column-Based Library (New System)**:\n",
    "   - Books are arranged by genre, with each genre having its own separate shelf.\n",
    "   - All books of the same genre are grouped together.\n",
    "\n",
    "### Your Task\n",
    "\n",
    "You need to find all science fiction books in the library to calculate the average number of pages.\n",
    "\n",
    "#### In the Row-Based Library:\n",
    "1. You start at one end of the library.\n",
    "2. You walk along each shelf, checking every book.\n",
    "3. When you find a sci-fi book, you note down its page count.\n",
    "4. You continue this process, moving back and forth across the library.\n",
    "\n",
    "This is similar to strided access in computing. You're constantly moving (or \"striding\") between relevant data (sci-fi books) while passing over irrelevant data (books from other genres).\n",
    "\n",
    "#### In the Column-Based Library:\n",
    "1. You go directly to the science fiction shelf.\n",
    "2. You can quickly go through all sci-fi books in one place.\n",
    "3. You don't need to look at or walk past books from other genres.\n",
    "\n",
    "This is similar to contiguous access in computing. All the data you need is in one place, making the process much faster and more efficient.\n",
    "\n"
   ]
  },
  {
   "cell_type": "markdown",
   "id": "30fa2055",
   "metadata": {},
   "source": [
    "## How This Relates to Big Data\n",
    "\n",
    "\n",
    "1. **Row-Based Format** (like our first library):\n",
    "   - Data about a single item (like a customer transaction) is stored together.\n",
    "   - To analyze a specific aspect (like total sales), you need to look at every row and extract just that piece of information.\n",
    "   - This is inefficient when you only need one type of information out of many.\n",
    "\n",
    "2. **Column-Based Format** (like our second library):\n",
    "   - All data of the same type (like all sales figures) are stored together.\n",
    "   - To analyze total sales, you can access just the sales data directly, without going through other unrelated data.\n",
    "\n",
    "### Why It Matters\n",
    "\n",
    "1. **Speed**: In big data, you're often dealing with millions or billions of records. The time saved by not having to \"stride\" through irrelevant data can be significant.\n",
    "\n",
    "2. **Efficiency**: Computers can process data more efficiently when it's stored together, similar to how it's easier for you to calculate average page count when all sci-fi books are on one shelf.\n",
    "\n",
    "3. **Resource Use**: Reading less unnecessary data means using less memory and processing power, which is crucial when dealing with very large datasets.\n"
   ]
  },
  {
   "cell_type": "code",
   "execution_count": 58,
   "id": "61b0ede2",
   "metadata": {},
   "outputs": [
    {
     "data": {
      "image/svg+xml": [
       "<svg xmlns=\"http://www.w3.org/2000/svg\" viewBox=\"0 0 800 400\">\n",
       "  <!-- Row-Based Library -->\n",
       "  <rect x=\"10\" y=\"10\" width=\"380\" height=\"180\" fill=\"#f0f0f0\" stroke=\"#000\"/>\n",
       "  <text x=\"200\" y=\"30\" text-anchor=\"middle\" font-weight=\"bold\">Row-Based Library</text>\n",
       "  \n",
       "  <rect x=\"20\" y=\"40\" width=\"360\" height=\"60\" fill=\"#d9eaf7\" stroke=\"#000\"/>\n",
       "  <text x=\"200\" y=\"45\" text-anchor=\"middle\">Shelf 1</text>\n",
       "  <rect x=\"30\" y=\"50\" width=\"50\" height=\"40\" fill=\"#ffd700\" stroke=\"#000\"/>\n",
       "  <text x=\"55\" y=\"75\" text-anchor=\"middle\" font-size=\"10\">Sci-Fi</text>\n",
       "  <rect x=\"90\" y=\"50\" width=\"50\" height=\"40\" fill=\"#90ee90\" stroke=\"#000\"/>\n",
       "  <text x=\"115\" y=\"75\" text-anchor=\"middle\" font-size=\"10\">History</text>\n",
       "  <rect x=\"150\" y=\"50\" width=\"50\" height=\"40\" fill=\"#ff69b4\" stroke=\"#000\"/>\n",
       "  <text x=\"175\" y=\"75\" text-anchor=\"middle\" font-size=\"10\">Romance</text>\n",
       "  <rect x=\"210\" y=\"50\" width=\"50\" height=\"40\" fill=\"#a0522d\" stroke=\"#000\"/>\n",
       "  <text x=\"235\" y=\"75\" text-anchor=\"middle\" font-size=\"10\">Mystery</text>\n",
       "  <rect x=\"270\" y=\"50\" width=\"50\" height=\"40\" fill=\"#ffd700\" stroke=\"#000\"/>\n",
       "  <text x=\"295\" y=\"75\" text-anchor=\"middle\" font-size=\"10\">Sci-Fi</text>\n",
       "  <rect x=\"330\" y=\"50\" width=\"50\" height=\"40\" fill=\"#90ee90\" stroke=\"#000\"/>\n",
       "  <text x=\"355\" y=\"75\" text-anchor=\"middle\" font-size=\"10\">History</text>\n",
       "\n",
       "  <rect x=\"20\" y=\"110\" width=\"360\" height=\"60\" fill=\"#d9eaf7\" stroke=\"#000\"/>\n",
       "  <text x=\"200\" y=\"115\" text-anchor=\"middle\">Shelf 2</text>\n",
       "  <rect x=\"30\" y=\"120\" width=\"50\" height=\"40\" fill=\"#ff69b4\" stroke=\"#000\"/>\n",
       "  <text x=\"55\" y=\"145\" text-anchor=\"middle\" font-size=\"10\">Romance</text>\n",
       "  <rect x=\"90\" y=\"120\" width=\"50\" height=\"40\" fill=\"#ffd700\" stroke=\"#000\"/>\n",
       "  <text x=\"115\" y=\"145\" text-anchor=\"middle\" font-size=\"10\">Sci-Fi</text>\n",
       "  <rect x=\"150\" y=\"120\" width=\"50\" height=\"40\" fill=\"#a0522d\" stroke=\"#000\"/>\n",
       "  <text x=\"175\" y=\"145\" text-anchor=\"middle\" font-size=\"10\">Mystery</text>\n",
       "  <rect x=\"210\" y=\"120\" width=\"50\" height=\"40\" fill=\"#90ee90\" stroke=\"#000\"/>\n",
       "  <text x=\"235\" y=\"145\" text-anchor=\"middle\" font-size=\"10\">History</text>\n",
       "  <rect x=\"270\" y=\"120\" width=\"50\" height=\"40\" fill=\"#ff69b4\" stroke=\"#000\"/>\n",
       "  <text x=\"295\" y=\"145\" text-anchor=\"middle\" font-size=\"10\">Romance</text>\n",
       "  <rect x=\"330\" y=\"120\" width=\"50\" height=\"40\" fill=\"#ffd700\" stroke=\"#000\"/>\n",
       "  <text x=\"355\" y=\"145\" text-anchor=\"middle\" font-size=\"10\">Sci-Fi</text>\n",
       "\n",
       "  <!-- Column-Based Library -->\n",
       "  <rect x=\"410\" y=\"10\" width=\"380\" height=\"180\" fill=\"#f0f0f0\" stroke=\"#000\"/>\n",
       "  <text x=\"600\" y=\"30\" text-anchor=\"middle\" font-weight=\"bold\">Column-Based Library</text>\n",
       "\n",
       "  <rect x=\"420\" y=\"40\" width=\"80\" height=\"140\" fill=\"#ffd700\" stroke=\"#000\"/>\n",
       "  <text x=\"460\" y=\"65\" text-anchor=\"middle\">Sci-Fi Shelf</text>\n",
       "  <rect x=\"430\" y=\"80\" width=\"60\" height=\"30\" fill=\"#fff\" stroke=\"#000\"/>\n",
       "  <text x=\"460\" y=\"100\" text-anchor=\"middle\" font-size=\"10\">Sci-Fi Book 1</text>\n",
       "  <rect x=\"430\" y=\"115\" width=\"60\" height=\"30\" fill=\"#fff\" stroke=\"#000\"/>\n",
       "  <text x=\"460\" y=\"135\" text-anchor=\"middle\" font-size=\"10\">Sci-Fi Book 2</text>\n",
       "  <rect x=\"430\" y=\"150\" width=\"60\" height=\"30\" fill=\"#fff\" stroke=\"#000\"/>\n",
       "  <text x=\"460\" y=\"170\" text-anchor=\"middle\" font-size=\"10\">Sci-Fi Book 3</text>\n",
       "\n",
       "  <rect x=\"510\" y=\"40\" width=\"80\" height=\"140\" fill=\"#90ee90\" stroke=\"#000\"/>\n",
       "  <text x=\"550\" y=\"60\" text-anchor=\"middle\">History</text>\n",
       "  <text x=\"550\" y=\"75\" text-anchor=\"middle\">Shelf</text>\n",
       "  <rect x=\"520\" y=\"80\" width=\"60\" height=\"30\" fill=\"#fff\" stroke=\"#000\"/>\n",
       "  <text x=\"550\" y=\"100\" text-anchor=\"middle\" font-size=\"10\">History Book 1</text>\n",
       "  <rect x=\"520\" y=\"115\" width=\"60\" height=\"30\" fill=\"#fff\" stroke=\"#000\"/>\n",
       "  <text x=\"550\" y=\"135\" text-anchor=\"middle\" font-size=\"10\">History Book 2</text>\n",
       "  <rect x=\"520\" y=\"150\" width=\"60\" height=\"30\" fill=\"#fff\" stroke=\"#000\"/>\n",
       "  <text x=\"550\" y=\"170\" text-anchor=\"middle\" font-size=\"10\">History Book 3</text>\n",
       "\n",
       "  <rect x=\"600\" y=\"40\" width=\"80\" height=\"140\" fill=\"#ff69b4\" stroke=\"#000\"/>\n",
       "  <text x=\"640\" y=\"60\" text-anchor=\"middle\">Romance</text>\n",
       "  <text x=\"640\" y=\"75\" text-anchor=\"middle\">Shelf</text>\n",
       "\n",
       "<rect x=\"610\" y=\"80\" width=\"60\" height=\"30\" fill=\"#fff\" stroke=\"#000\"/>\n",
       "  <text x=\"640\" y=\"100\" text-anchor=\"middle\" font-size=\"10\">Romance Book 1</text>\n",
       "  <rect x=\"610\" y=\"115\" width=\"60\" height=\"30\" fill=\"#fff\" stroke=\"#000\"/>\n",
       "  <text x=\"640\" y=\"135\" text-anchor=\"middle\" font-size=\"10\">Romance Book 2</text>\n",
       "  <rect x=\"610\" y=\"150\" width=\"60\" height=\"30\" fill=\"#fff\" stroke=\"#000\"/>\n",
       "  <text x=\"640\" y=\"170\" text-anchor=\"middle\" font-size=\"10\">Romance Book 3</text>\n",
       "\n",
       "  <rect x=\"690\" y=\"40\" width=\"80\" height=\"140\" fill=\"#a0522d\" stroke=\"#000\"/>\n",
       "  <text x=\"730\" y=\"60\" text-anchor=\"middle\">Mystery</text>\n",
       "  <text x=\"730\" y=\"75\" text-anchor=\"middle\">Shelf</text>\n",
       "  <rect x=\"700\" y=\"80\" width=\"60\" height=\"30\" fill=\"#fff\" stroke=\"#000\"/>\n",
       "  <text x=\"730\" y=\"100\" text-anchor=\"middle\" font-size=\"10\">Mystery Book 1</text>\n",
       "  <rect x=\"700\" y=\"115\" width=\"60\" height=\"30\" fill=\"#fff\" stroke=\"#000\"/>\n",
       "  <text x=\"730\" y=\"135\" text-anchor=\"middle\" font-size=\"10\">Mystery Book 2</text>\n",
       "  <rect x=\"700\" y=\"150\" width=\"60\" height=\"30\" fill=\"#fff\" stroke=\"#000\"/>\n",
       "  <text x=\"730\" y=\"170\" text-anchor=\"middle\" font-size=\"10\">Mystery Book 3</text>\n",
       "\n",
       "  <!-- Arrows for access pattern -->\n",
       "  <path d=\"M 55 200 L 55 240 L 355 240 L 355 200\" fill=\"none\" stroke=\"#ff0000\" stroke-width=\"2\"/>\n",
       "  <text x=\"205\" y=\"260\" text-anchor=\"middle\" fill=\"#ff0000\">Row-Based Access Pattern</text>\n",
       "\n",
       "  <path d=\"M 460 200 L 460 240\" fill=\"none\" stroke=\"#00ff00\" stroke-width=\"2\"/>\n",
       "  <text x=\"600\" y=\"260\" text-anchor=\"middle\" fill=\"#00ff00\">Column-Based Access Pattern</text>\n",
       "\n",
       "  <!-- Legend -->\n",
       "  <rect x=\"10\" y=\"300\" width=\"15\" height=\"15\" fill=\"#ffd700\" stroke=\"#000\"/>\n",
       "  <text x=\"30\" y=\"312\" font-size=\"12\">Sci-Fi</text>\n",
       "  <rect x=\"70\" y=\"300\" width=\"15\" height=\"15\" fill=\"#90ee90\" stroke=\"#000\"/>\n",
       "  <text x=\"90\" y=\"312\" font-size=\"12\">History</text>\n",
       "  <rect x=\"130\" y=\"300\" width=\"15\" height=\"15\" fill=\"#ff69b4\" stroke=\"#000\"/>\n",
       "  <text x=\"150\" y=\"312\" font-size=\"12\">Romance</text>\n",
       "  <rect x=\"190\" y=\"300\" width=\"15\" height=\"15\" fill=\"#a0522d\" stroke=\"#000\"/>\n",
       "  <text x=\"210\" y=\"312\" font-size=\"12\">Mystery</text>\n",
       "</svg>"
      ],
      "text/plain": [
       "<IPython.core.display.SVG object>"
      ]
     },
     "metadata": {},
     "output_type": "display_data"
    }
   ],
   "source": [
    "from IPython.display import SVG, display\n",
    "svg_content = \"\"\"\n",
    "<svg xmlns=\"http://www.w3.org/2000/svg\" viewBox=\"0 0 800 400\">\n",
    "  <!-- Row-Based Library -->\n",
    "  <rect x=\"10\" y=\"10\" width=\"380\" height=\"180\" fill=\"#f0f0f0\" stroke=\"#000\" />\n",
    "  <text x=\"200\" y=\"30\" text-anchor=\"middle\" font-weight=\"bold\">Row-Based Library</text>\n",
    "  \n",
    "  <rect x=\"20\" y=\"40\" width=\"360\" height=\"60\" fill=\"#d9eaf7\" stroke=\"#000\" />\n",
    "  <text x=\"200\" y=\"45\" text-anchor=\"middle\">Shelf 1</text>\n",
    "  <rect x=\"30\" y=\"50\" width=\"50\" height=\"40\" fill=\"#ffd700\" stroke=\"#000\" />\n",
    "  <text x=\"55\" y=\"75\" text-anchor=\"middle\" font-size=\"10\">Sci-Fi</text>\n",
    "  <rect x=\"90\" y=\"50\" width=\"50\" height=\"40\" fill=\"#90ee90\" stroke=\"#000\" />\n",
    "  <text x=\"115\" y=\"75\" text-anchor=\"middle\" font-size=\"10\">History</text>\n",
    "  <rect x=\"150\" y=\"50\" width=\"50\" height=\"40\" fill=\"#ff69b4\" stroke=\"#000\" />\n",
    "  <text x=\"175\" y=\"75\" text-anchor=\"middle\" font-size=\"10\">Romance</text>\n",
    "  <rect x=\"210\" y=\"50\" width=\"50\" height=\"40\" fill=\"#a0522d\" stroke=\"#000\" />\n",
    "  <text x=\"235\" y=\"75\" text-anchor=\"middle\" font-size=\"10\">Mystery</text>\n",
    "  <rect x=\"270\" y=\"50\" width=\"50\" height=\"40\" fill=\"#ffd700\" stroke=\"#000\" />\n",
    "  <text x=\"295\" y=\"75\" text-anchor=\"middle\" font-size=\"10\">Sci-Fi</text>\n",
    "  <rect x=\"330\" y=\"50\" width=\"50\" height=\"40\" fill=\"#90ee90\" stroke=\"#000\" />\n",
    "  <text x=\"355\" y=\"75\" text-anchor=\"middle\" font-size=\"10\">History</text>\n",
    "\n",
    "  <rect x=\"20\" y=\"110\" width=\"360\" height=\"60\" fill=\"#d9eaf7\" stroke=\"#000\" />\n",
    "  <text x=\"200\" y=\"115\" text-anchor=\"middle\">Shelf 2</text>\n",
    "  <rect x=\"30\" y=\"120\" width=\"50\" height=\"40\" fill=\"#ff69b4\" stroke=\"#000\" />\n",
    "  <text x=\"55\" y=\"145\" text-anchor=\"middle\" font-size=\"10\">Romance</text>\n",
    "  <rect x=\"90\" y=\"120\" width=\"50\" height=\"40\" fill=\"#ffd700\" stroke=\"#000\" />\n",
    "  <text x=\"115\" y=\"145\" text-anchor=\"middle\" font-size=\"10\">Sci-Fi</text>\n",
    "  <rect x=\"150\" y=\"120\" width=\"50\" height=\"40\" fill=\"#a0522d\" stroke=\"#000\" />\n",
    "  <text x=\"175\" y=\"145\" text-anchor=\"middle\" font-size=\"10\">Mystery</text>\n",
    "  <rect x=\"210\" y=\"120\" width=\"50\" height=\"40\" fill=\"#90ee90\" stroke=\"#000\" />\n",
    "  <text x=\"235\" y=\"145\" text-anchor=\"middle\" font-size=\"10\">History</text>\n",
    "  <rect x=\"270\" y=\"120\" width=\"50\" height=\"40\" fill=\"#ff69b4\" stroke=\"#000\" />\n",
    "  <text x=\"295\" y=\"145\" text-anchor=\"middle\" font-size=\"10\">Romance</text>\n",
    "  <rect x=\"330\" y=\"120\" width=\"50\" height=\"40\" fill=\"#ffd700\" stroke=\"#000\" />\n",
    "  <text x=\"355\" y=\"145\" text-anchor=\"middle\" font-size=\"10\">Sci-Fi</text>\n",
    "\n",
    "  <!-- Column-Based Library -->\n",
    "  <rect x=\"410\" y=\"10\" width=\"380\" height=\"180\" fill=\"#f0f0f0\" stroke=\"#000\" />\n",
    "  <text x=\"600\" y=\"30\" text-anchor=\"middle\" font-weight=\"bold\">Column-Based Library</text>\n",
    "\n",
    "  <rect x=\"420\" y=\"40\" width=\"80\" height=\"140\" fill=\"#ffd700\" stroke=\"#000\" />\n",
    "  <text x=\"460\" y=\"65\" text-anchor=\"middle\">Sci-Fi Shelf</text>\n",
    "  <rect x=\"430\" y=\"80\" width=\"60\" height=\"30\" fill=\"#fff\" stroke=\"#000\" />\n",
    "  <text x=\"460\" y=\"100\" text-anchor=\"middle\" font-size=\"10\">Sci-Fi Book 1</text>\n",
    "  <rect x=\"430\" y=\"115\" width=\"60\" height=\"30\" fill=\"#fff\" stroke=\"#000\" />\n",
    "  <text x=\"460\" y=\"135\" text-anchor=\"middle\" font-size=\"10\">Sci-Fi Book 2</text>\n",
    "  <rect x=\"430\" y=\"150\" width=\"60\" height=\"30\" fill=\"#fff\" stroke=\"#000\" />\n",
    "  <text x=\"460\" y=\"170\" text-anchor=\"middle\" font-size=\"10\">Sci-Fi Book 3</text>\n",
    "\n",
    "  <rect x=\"510\" y=\"40\" width=\"80\" height=\"140\" fill=\"#90ee90\" stroke=\"#000\" />\n",
    "  <text x=\"550\" y=\"60\" text-anchor=\"middle\">History</text>\n",
    "  <text x=\"550\" y=\"75\" text-anchor=\"middle\">Shelf</text>\n",
    "  <rect x=\"520\" y=\"80\" width=\"60\" height=\"30\" fill=\"#fff\" stroke=\"#000\" />\n",
    "  <text x=\"550\" y=\"100\" text-anchor=\"middle\" font-size=\"10\">History Book 1</text>\n",
    "  <rect x=\"520\" y=\"115\" width=\"60\" height=\"30\" fill=\"#fff\" stroke=\"#000\" />\n",
    "  <text x=\"550\" y=\"135\" text-anchor=\"middle\" font-size=\"10\">History Book 2</text>\n",
    "  <rect x=\"520\" y=\"150\" width=\"60\" height=\"30\" fill=\"#fff\" stroke=\"#000\" />\n",
    "  <text x=\"550\" y=\"170\" text-anchor=\"middle\" font-size=\"10\">History Book 3</text>\n",
    "\n",
    "  <rect x=\"600\" y=\"40\" width=\"80\" height=\"140\" fill=\"#ff69b4\" stroke=\"#000\" />\n",
    "  <text x=\"640\" y=\"60\" text-anchor=\"middle\">Romance</text>\n",
    "  <text x=\"640\" y=\"75\" text-anchor=\"middle\">Shelf</text>\n",
    "\n",
    "<rect x=\"610\" y=\"80\" width=\"60\" height=\"30\" fill=\"#fff\" stroke=\"#000\" />\n",
    "  <text x=\"640\" y=\"100\" text-anchor=\"middle\" font-size=\"10\">Romance Book 1</text>\n",
    "  <rect x=\"610\" y=\"115\" width=\"60\" height=\"30\" fill=\"#fff\" stroke=\"#000\" />\n",
    "  <text x=\"640\" y=\"135\" text-anchor=\"middle\" font-size=\"10\">Romance Book 2</text>\n",
    "  <rect x=\"610\" y=\"150\" width=\"60\" height=\"30\" fill=\"#fff\" stroke=\"#000\" />\n",
    "  <text x=\"640\" y=\"170\" text-anchor=\"middle\" font-size=\"10\">Romance Book 3</text>\n",
    "\n",
    "  <rect x=\"690\" y=\"40\" width=\"80\" height=\"140\" fill=\"#a0522d\" stroke=\"#000\" />\n",
    "  <text x=\"730\" y=\"60\" text-anchor=\"middle\">Mystery</text>\n",
    "  <text x=\"730\" y=\"75\" text-anchor=\"middle\">Shelf</text>\n",
    "  <rect x=\"700\" y=\"80\" width=\"60\" height=\"30\" fill=\"#fff\" stroke=\"#000\" />\n",
    "  <text x=\"730\" y=\"100\" text-anchor=\"middle\" font-size=\"10\">Mystery Book 1</text>\n",
    "  <rect x=\"700\" y=\"115\" width=\"60\" height=\"30\" fill=\"#fff\" stroke=\"#000\" />\n",
    "  <text x=\"730\" y=\"135\" text-anchor=\"middle\" font-size=\"10\">Mystery Book 2</text>\n",
    "  <rect x=\"700\" y=\"150\" width=\"60\" height=\"30\" fill=\"#fff\" stroke=\"#000\" />\n",
    "  <text x=\"730\" y=\"170\" text-anchor=\"middle\" font-size=\"10\">Mystery Book 3</text>\n",
    "\n",
    "  <!-- Arrows for access pattern -->\n",
    "  <path d=\"M 55 200 L 55 240 L 355 240 L 355 200\" fill=\"none\" stroke=\"#ff0000\" stroke-width=\"2\" />\n",
    "  <text x=\"205\" y=\"260\" text-anchor=\"middle\" fill=\"#ff0000\">Row-Based Access Pattern</text>\n",
    "\n",
    "  <path d=\"M 460 200 L 460 240\" fill=\"none\" stroke=\"#00ff00\" stroke-width=\"2\" />\n",
    "  <text x=\"600\" y=\"260\" text-anchor=\"middle\" fill=\"#00ff00\">Column-Based Access Pattern</text>\n",
    "\n",
    "  <!-- Legend -->\n",
    "  <rect x=\"10\" y=\"300\" width=\"15\" height=\"15\" fill=\"#ffd700\" stroke=\"#000\" />\n",
    "  <text x=\"30\" y=\"312\" font-size=\"12\">Sci-Fi</text>\n",
    "  <rect x=\"70\" y=\"300\" width=\"15\" height=\"15\" fill=\"#90ee90\" stroke=\"#000\" />\n",
    "  <text x=\"90\" y=\"312\" font-size=\"12\">History</text>\n",
    "  <rect x=\"130\" y=\"300\" width=\"15\" height=\"15\" fill=\"#ff69b4\" stroke=\"#000\" />\n",
    "  <text x=\"150\" y=\"312\" font-size=\"12\">Romance</text>\n",
    "  <rect x=\"190\" y=\"300\" width=\"15\" height=\"15\" fill=\"#a0522d\" stroke=\"#000\" />\n",
    "  <text x=\"210\" y=\"312\" font-size=\"12\">Mystery</text>\n",
    "</svg>\n",
    "\"\"\"\n",
    "\n",
    "display(SVG(svg_content))"
   ]
  },
  {
   "cell_type": "markdown",
   "id": "8fb665d9",
   "metadata": {},
   "source": [
    "## Strided Access - cont'd\n",
    "\n",
    "- When reading down a single column, you'd be skipping n-1 elements\n",
    "- Strided access is generally less efficient than consecutive access due to:\n",
    "  - Less effective use of the cache\n",
    "  - Potentially more time-consuming operations to retrieve data\n",
    "  - Modern CPUs prefer data that's close together\n",
    "- This is a \"data locality\" problem\n",
    "  - More time spent retrieving data\n"
   ]
  },
  {
   "cell_type": "markdown",
   "id": "0bda3900",
   "metadata": {},
   "source": [
    "\n",
    "## Caching and Performance\n",
    "\n",
    "- Caches store frequently accessed data\n",
    "- Cache Miss occurs when data isn't in the cache, taking longer to fetch\n",
    "- Strided Access often results in more cache misses\n",
    "  - This slows down the application or system\n",
    "- This issue is covered in depth in:\n",
    "  - Concurrent and High-Performance Programming (ICS432)\n",
    "  - Operating Systems (ICS332)\n",
    "  - Machine-Level and Systems Programming (ICS312)\n"
   ]
  },
  {
   "cell_type": "markdown",
   "id": "f34df72a",
   "metadata": {},
   "source": [
    "## Row- and Column-Based Formats\n",
    "\n",
    "- Row-based: Best suited when you need to access all the data\n",
    "  - For instance, when constructing a machine learning model\n",
    "  - You can sidestep loading the entire dataset into RAM by reading in chunks (batches)\n",
    "  - This approach necessitates frequent conditional access to multiple columns\n",
    "- Column-based storage: Ideal for column-specific tasks\n",
    "  - Examples include calculating total sales or aggregating data by date\n"
   ]
  },
  {
   "cell_type": "markdown",
   "id": "29db4682",
   "metadata": {},
   "source": [
    "## Row-Based Formats\n",
    "\n",
    "- Commonly employed in mainstream applications (e.g., web log files, MySQL, Oracle)\n",
    "- To process the entire dataset, read each line sequentially\n",
    "- Go-to choice for Online Transactional Processing (OLTP)\n",
    "  - OLTP systems typically handle CRUD operations at the individual record level\n",
    "    * CRUD stands for Create, Read, Update, and Delete. In the context of OLTP systems:\n",
    "\n",
    "  - Key focus: ensuring data integrity in multi-user environments\n",
    "  - Performance assessed by the number of transactions executed per second\n"
   ]
  },
  {
   "cell_type": "markdown",
   "id": "7d0b78fc",
   "metadata": {},
   "source": [
    "## Column-Based Formats\n",
    "\n",
    "- Data is organized by columns\n",
    "- Streamlines computation on selected columns\n",
    "  - E.g., easily compute mean or standard deviation for a particular column\n",
    "- Highly conducive to compression\n",
    "  - Compression algorithms perform better with sequences of similar data types\n",
    "\n",
    "- Column-based data storage is commonly known as OLAP (Online Analytical Processing)\n",
    "  - OLAP is designed to quickly answer multi-dimensional queries\n",
    "    * More on OLAP when we discuss platforms\n"
   ]
  },
  {
   "cell_type": "markdown",
   "id": "c077a719",
   "metadata": {},
   "source": [
    "## Examples of OLAP versus OLTP in Amazon\n",
    "\n",
    "![OLAP vs OLTP in Amazon](https://www.dropbox.com/s/cxhwtc5s582tnp2/amazon_olap_oltp.png?dl=1)\n"
   ]
  },
  {
   "cell_type": "markdown",
   "id": "33085335",
   "metadata": {},
   "source": [
    "## Column-based formats: Advantages and Disadvantages\n",
    "\n",
    "Advantages:\n",
    "- Columnar storage can yield 100x-1000x performance improvements, particularly for wide datasets\n",
    "\n",
    "Disadvantages:\n",
    "- Not efficient with CRUD operations\n",
    "- Difficult to access all features of a single instance\n",
    "- Need to parse all columns to read items at position i\n",
    "- Hard to read by a human"
   ]
  },
  {
   "cell_type": "markdown",
   "id": "27030579",
   "metadata": {},
   "source": [
    "## 2- Datatype and Schema Enforcement and Evolution\n",
    "\n",
    "- \"Schema\" in a database context means the structure and organization of the data\n",
    "  - Structure: datatypes, missing values, primary keys, indices, etc.\n",
    "  - Organization: relationships across tables\n",
    "- Here, we mainly refer to the data type\n",
    "- In text format (e.g., table with values separated by a tab), datatype cannot be declared or enforced\n",
    "- Declaring the type of a value provides some advantages:\n",
    "  - Storage requirements: String categories require more storage than boolean (2 bytes)\n",
    "  - Data validity: Verifies the dataset is valid and prevents entry errors (e.g., age = Johnn)\n",
    "  - Compression: There are good strategies for compressing different data types\n"
   ]
  },
  {
   "cell_type": "markdown",
   "id": "21fdee9d",
   "metadata": {},
   "source": [
    "## 2- Datatype & Schema Enforcement and Evolution\n",
    "\n",
    "- Consider schema evolution if there's a possibility that data structure may change in the future\n",
    "- When evaluating schema evolution capabilities, ask these questions about any data format:\n",
    "  - How easily can the schema be updated (adding, removing, or renaming fields)?\n",
    "  - How do different versions of the schema impact existing applications?\n",
    "  - How efficiently can the system process schema changes?\n",
    "  - What is the overhead of maintaining multiple schema versions?"
   ]
  },
  {
   "cell_type": "markdown",
   "id": "2eb8290d",
   "metadata": {},
   "source": [
    "## 3- Splittability\n",
    "\n",
    "- Big data such as monthly logs, yearly transactions, daily airplane sensor recordings often comprise many millions of records\n",
    "- Often useful to split the data across multiple machines and execute computations separately\n",
    "- Some file formats are more amenable to splitting than others\n"
   ]
  },
  {
   "cell_type": "markdown",
   "id": "e369689e",
   "metadata": {},
   "source": [
    "## 3- Splittability - Row-Based\n",
    "\n",
    "Row-based formats can be split along row boundaries:\n",
    "\n",
    "```python\n",
    "# file 1 with n lines\n",
    "01/01/2001           4            1852.14\n",
    "01/01/2001           3            968.00\n",
    "...\n",
    "```\n",
    "\n",
    "- Splitting can be done:\n",
    "  - Randomly splitting `file 1` with `n` observations across `m` total machines is easy\n",
    "    - Each machine gets `ceiling(n/m)` unique lines, last machine gets remaining lines\n",
    "- Splitting based on one or more fields:\n",
    "  - May require sorting the data first"
   ]
  },
  {
   "cell_type": "markdown",
   "id": "8de1aa25",
   "metadata": {},
   "source": [
    "## 3- Splittability: Nested Data Structures\n",
    "\n",
    "- Nested data structures can be more challenging to split efficiently\n",
    "\n",
    "Example of a nested structure:\n",
    "\\`\\`\\`json\n",
    "{\n",
    "  \"01/01/2021\": [(4, 1852.14), (3, 968.00)],\n",
    "  \"01/02/2021\": [(2, 750.50), (5, 2100.75)],\n",
    "  ...\n",
    "}\n",
    "\\`\\`\\`\n",
    "\n",
    "- Challenges with splitting nested structures:\n",
    "  - Requires parsing the entire file to understand its structure\n",
    "  - May need to load significant portions of data into memory\n",
    "\n",
    "- Implications:\n",
    "  - Increased preprocessing time before splitting\n",
    "  - Potential memory constraints for very large datasets\n",
    "  - May require specialized tools or algorithms for efficient splitting\n"
   ]
  },
  {
   "cell_type": "markdown",
   "id": "1f312a3b",
   "metadata": {},
   "source": [
    "\n",
    "## 3- Splittability: Column-Based, Nested\n",
    "\n",
    "- A column-based format can be easily split if the computation is column-specific\n",
    "\n",
    "```\n",
    "# file 3\n",
    "date: 01/01/2001, 01/01/2001\n",
    "nb_items: 4, 3\n",
    "totals: 1852.14, 968.00\n",
    "```\n",
    "\n",
    "* Splitting can only be done column-wise:\n",
    "- Each machine is concerned with a computation on a specific variable. Example:\n",
    "  - Machine 1 takes the `nb_items` data and computes the total number of sales\n",
    "  - Machine 2 takes the `totals` data and computes the total sales values\n",
    "- Machines don't have knowledge of columns that are not provided"
   ]
  },
  {
   "cell_type": "markdown",
   "id": "d5fcc9bd",
   "metadata": {},
   "source": [
    "## 4- Compression\n",
    "\n",
    "- When working on a distributed system, data transfer can be a serious bottleneck\n",
    "- Compression can substantially improve runtime and storage requirements\n",
    "- We illustrated that columnar data can achieve better compression rates than row-based data\n",
    "  - Simple way to think about it: columns will have more duplicate values\n",
    "    - Ex. Age Column: 21, 22, 21, 24, 25, 21, 22, 21, 19, 21, 21, 22, ….\n",
    "- Note: Complex compression algorithms on very large files can save space but increase compute time\n",
    "  - Uncompression/re-compression needs to occur every time you access the data\n"
   ]
  },
  {
   "cell_type": "markdown",
   "id": "621eefc0",
   "metadata": {},
   "source": [
    "## Compression of Row vs. Columnar Data\n",
    "\n",
    "- **Data Homogeneity**: Same compression algorithm can be applied more effectively\n",
    "  - Example: A column with only integers can be efficiently compressed\n",
    "- **Reduced Cardinality**: Columns often have fewer unique values\n",
    "  - Example: Run-length encoding can be extremely effective\n",
    "- **Range of Values**: Columns often have a narrow range of values\n",
    "  - Example: Delta encoding could be highly effective\n",
    "  - Initial data: `[100, 105, 110, 101, 100]` > encode > `100 [5, 10, 1, 0]`\n",
    "- **Predictive models**: Use predictive compression when \"good enough\" is sufficient\n"
   ]
  },
  {
   "cell_type": "markdown",
   "id": "4f667dd2",
   "metadata": {},
   "source": [
    "## Standardization and File Formats\n",
    "\n",
    "- One can always choose their own format for the file\n",
    "  - Many companies may do so internally for various reasons\n",
    "- Example of a custom format:\n",
    "\n",
    "```\n",
    "FIRST_NAME_1\\sLAST_NAME_1\\tFIRST_NAME_2\\sLAST_NAME_2\\tFIRST_NAME_3\\sLAST_NAME_3...\n",
    "JOBTITLE_1\\sSALARY_1\\tJOBTITLE_2\\sSALARY_2\\tJOBTITLE_3\\sSALARY_3\n",
    "```\n",
    "- Benefits of using a standard instead of a custom file format:\n",
    "  - Clarity and productivity: eliminates guesswork, reduces documentation needs\n",
    "  - Quality: standard formats are well-designed and extensively optimized\n",
    "  - Interoperability: data can be used across platforms\n",
    "- Some of the most used formats: CSV, JSON, Parquet, AVRO, HDF5\n",
    "  - All very well supported in Python"
   ]
  },
  {
   "cell_type": "markdown",
   "id": "b1a53d12",
   "metadata": {},
   "source": [
    "## CSV File Format\n",
    "\n",
    "- `CSV` (Comma-separated values) files are most commonly used to exchange data\n",
    "  - Plain-text file (readable characters)\n",
    "- `CSV` is a row-based file format: each row is a separate data instance\n",
    "  - May or may not contain a header\n",
    "- Structure is conveyed through explicit commas\n",
    "  - Text commas are encapsulated in double quotes\n",
    "\n",
    "Example:\n",
    "```\n",
    "Title,Author,Genre,Height,Publisher\n",
    "\"Computer Vision, A Modern Approach\",\"Forsyth, David\",data_science,255,Pearson\n",
    "Data Mining Handbook,\"Nisbet, Robert\",data_science,242,Apress\n",
    "Making Software,\"Oram, Andy\",computer_science,232,O'Reilly\n",
    "...\n",
    "```"
   ]
  },
  {
   "cell_type": "markdown",
   "id": "95d850c5",
   "metadata": {},
   "source": [
    "## CSV File Format - Cont'd\n",
    "\n",
    "- CSV format is not fully standardized\n",
    "  - Other characters can be used to separate files, such as tabs (tsv) or spaces (ssv)\n",
    "- Data relationships across multiple CSV files are not expressed in the file format\n",
    "  - May use same column names to indicate \"foreign key\" relationship\n",
    "- Native support in Python:\n",
    "\n",
    "```python\n",
    "import csv\n",
    "csv.reader(csvfile, delimiter=',', quotechar='\"')\n",
    "# use csv ...\n",
    "```\n"
   ]
  },
  {
   "cell_type": "markdown",
   "id": "35252718",
   "metadata": {},
   "source": [
    "## CSV Pros and Cons\n",
    "\n",
    "* **Pros**:\n",
    "  - Human-readable and easy to edit manually\n",
    "  - Provides a simple scheme\n",
    "  - Can be processed by almost all existing applications\n",
    "  - Easy to implement and parse\n",
    "  - Compact (compared to, for instance, JSON or XML)\n",
    "  - Column headers are written only once\n",
    "\n",
    "* **Cons**:\n",
    "  - No guarantees about data integrity\n",
    "  - Adding complex structures to a data structure is not possible\n",
    "  - May need to reference other files to implement nesting\n",
    "  - There is no standard way to present binary data\n",
    "  - Lack of a universal standard can cause issues"
   ]
  },
  {
   "cell_type": "markdown",
   "id": "572123b8",
   "metadata": {},
   "source": [
    "## JSON File Format\n",
    "\n",
    "- JSON (JavaScript Object Notation)\n",
    "- Open standard file format that uses human-readable text\n",
    "  - File typically stored using `.json` extension\n",
    "- Became popular as a space-saving alternative to Extensible Markup Language (XML)\n",
    "- Inspired by JavaScript objects but is a language-independent data format\n",
    "- Very similar to the combination of Python's lists and dicts\n",
    "- Also supported natively in Python:\n",
    "\n",
    "```python\n",
    "import json\n",
    "json.load(...)\n",
    "```\n",
    "\n",
    "- The de facto language of the web\n",
    "  - Supported in all modern languages and particularly web languages\n",
    "  - Increasingly popular for sharing small to medium data files\n"
   ]
  },
  {
   "cell_type": "markdown",
   "id": "a0a222a3",
   "metadata": {},
   "source": [
    "\n",
    "## JSON File Structure\n",
    "\n",
    "- JSON supports the following types:\n",
    "\n",
    "Scalar values:\n",
    "- `Numbers`: e.g., 3\n",
    "- `String`: Sequence of Unicode characters surrounded by double quotation marks\n",
    "- `Boolean`: `true` or `false`\n",
    "\n",
    "Collections:\n",
    "- `Array`: A list of values surrounded by square brackets `[]`\n",
    "- `Dictionaries`: key-value pairs separated by a comma(,) and enclosed in `{}`\n",
    "  - Keys are strings and values can be any valid scalar or collection\n",
    "\n"
   ]
  },
  {
   "cell_type": "markdown",
   "id": "6d204f11",
   "metadata": {},
   "source": [
    "## JSON Pros and Cons (continued)\n",
    "\n",
    "* **Pros**:\n",
    "  - Very well supported in modern languages, technologies, and infrastructures\n",
    "  - Can be used as the basis for more performance-optimized formats like Parquet or Avro (discussed next)\n",
    "  - Supports hierarchical structures abstracting the need for complex relationships\n",
    "\n",
    "* **Cons**:\n",
    "  - Much smaller footprint than XML but still fairly large due to repeated field names\n",
    "  - Not easy to index\n",
    "  - Some attempts to add a schema but not commonly used\n"
   ]
  },
  {
   "cell_type": "markdown",
   "id": "8e3cfdd9",
   "metadata": {},
   "source": [
    "## AVRO File Format\n",
    "\n",
    "- AVRO is an advanced form of the JSON format\n",
    "  - Leverages some of the advantages of JSON while mitigating some of its disadvantages\n",
    "- Stores both a file definition (a schema itself written in JSON) and  stores data in a compact binary representation.\n",
    "  - Self-descriptive because it can include the schema and documentation in the header of the file containing the data\n",
    "- Serializes the data in a compact binary format\n",
    "  * Reduced storage space\n",
    "  * Faster data processing\n",
    "  * Efficient network transmission\n",
    "- Released by the Hadoop working group in 2009 to use with Hadoop Systems\n",
    "- It is a row-based format that has a high degree of splitting\n",
    "- Provides mechanism to manage schema evolution\n",
    "- Support for most modern languages, including Python via the `avro` library\n",
    "\n"
   ]
  },
  {
   "cell_type": "code",
   "execution_count": null,
   "id": "84658c49",
   "metadata": {},
   "outputs": [],
   "source": [
    "## Example AVRO Schema:\n",
    "\n",
    "```json\n",
    "{\n",
    "  \"type\": \"record\",\n",
    "  \"name\": \"Student\",\n",
    "  \"namespace\": \"hawaii.edu\",\n",
    "  \"fields\": [\n",
    "    {\n",
    "      \"name\": \"first_name\",\n",
    "      \"type\": \"string\"\n",
    "    },\n",
    "    {\n",
    "      \"name\": \"last_name\",\n",
    "      \"type\": \"string\"\n",
    "    },\n",
    "    {\n",
    "      \"name\": \"major\",\n",
    "      \"type\": \"string\"\n",
    "    },\n",
    "    {\n",
    "      \"name\": \"DOB\",\n",
    "      \"type\": \"string\"\n",
    "    },\n",
    "    {\n",
    "      \"name\": \"student_id\",\n",
    "      \"type\": \"string\"\n",
    "    }\n",
    "  ]\n",
    "}\n",
    "```"
   ]
  },
  {
   "cell_type": "markdown",
   "id": "0389fe6a",
   "metadata": {},
   "source": [
    "## AVRO Data\n",
    "\n",
    "- For fixed-length types like integers, floats, or fixed-length arrays, we know the exact number of bytes to read\n",
    "  - A 32-bit integer will always be 4 bytes\n",
    "- In text, numbers or other data types are often represented as human-readable text\n",
    "  - 4162554 takes seven bytes in a text-based format like JSON (4, 1, 6, 2, 5, 5, 4)\n",
    "- For variable-length data types like strings, Avro typically uses a length-prefix encoding\n",
    "  - Length of the data is written first, followed by the actual data\n",
    "  - This allows Avro to know exactly how many bytes to read for each value\n",
    "    - Example: Length: 2, Data: H, I\n",
    "- For complex types like arrays or records, Avro uses the schema to determine the structure and types of nested values\n",
    "- Does not need to use special characters for delimiters, the encoding is more compact\n",
    "\n",
    "\n"
   ]
  },
  {
   "cell_type": "markdown",
   "id": "7add55c7",
   "metadata": {},
   "source": [
    "## AVRO Pros and Cons\n",
    "\n",
    "**Pros**:\n",
    "  - Binary data minimizes file size and maximizes efficiency\n",
    "  - Reliable support for schema evolution\n",
    "    - Supports new, missing, or changed fields\n",
    "    - This allows old software to read new data, and new software to read old data\n",
    "    - It is a critical feature if your data can change\n",
    "\n",
    "**Cons**:\n",
    "  - Data is not human readable\n",
    "  -  Does not support easy updates on the data\n",
    "  - All the cons of a row-based format\n"
   ]
  },
  {
   "cell_type": "code",
   "execution_count": 29,
   "id": "c6d4ee40",
   "metadata": {},
   "outputs": [],
   "source": [
    "# !pip install avro"
   ]
  },
  {
   "cell_type": "code",
   "execution_count": 32,
   "id": "bf61e587",
   "metadata": {},
   "outputs": [
    {
     "data": {
      "text/plain": [
       "'{\"type\": \"record\", \"name\": \"User\", \"fields\": [{\"name\": \"name\", \"type\": \"string\"}, {\"name\": \"age\", \"type\": \"int\"}, {\"name\": \"city\", \"type\": \"string\"}]}'"
      ]
     },
     "execution_count": 32,
     "metadata": {},
     "output_type": "execute_result"
    }
   ],
   "source": [
    "import json\n",
    "import avro.schema\n",
    "from avro.datafile import DataFileWriter, DataFileReader\n",
    "from avro.io import DatumWriter, DatumReader\n",
    "\n",
    "# Initial schema\n",
    "schema_v1_dict = {\n",
    "    \"type\": \"record\",\n",
    "    \"name\": \"User\",\n",
    "    \"fields\": [\n",
    "        {\"name\": \"name\", \"type\": \"string\"},\n",
    "        {\"name\": \"age\", \"type\": \"int\"},\n",
    "        {\"name\": \"city\", \"type\": \"string\"}\n",
    "    ]\n",
    "}\n",
    "\n",
    "# Convert the schema dictionary to a JSON string -- \n",
    "schema_v1_str = json.dumps(schema_v1_dict)\n",
    "schema_v1_str\n"
   ]
  },
  {
   "cell_type": "code",
   "execution_count": 37,
   "id": "8cf70728",
   "metadata": {},
   "outputs": [],
   "source": [
    "# Parse the schema\n",
    "schema_v1 = avro.schema.parse(schema_v1_str)\n",
    "\n",
    "# Write some data\n",
    "with DataFileWriter(open(\"users.avro\", \"wb\"), DatumWriter(), schema_v1) as writer:\n",
    "    writer.append({\"name\": \"Alice\", \"age\": 30, \"city\": \"New York\"})\n",
    "    writer.append({\"name\": \"Bob\", \"age\": 25, \"city\": \"San Francisco\"})\n",
    "    writer.append({\"name\": \"Janice\", \"age\": 23, \"city\": \"Honolulu\"})\n",
    "    writer.append({\"name\": \"Kawika\", \"age\": 31, \"city\": \"Wailuku\"})\n",
    "\n"
   ]
  },
  {
   "cell_type": "code",
   "execution_count": 38,
   "id": "9a47e5d2",
   "metadata": {},
   "outputs": [
    {
     "name": "stdout",
     "output_type": "stream",
     "text": [
      "4.0K\tusers.avro\r\n",
      "4.0K\ttotal\r\n"
     ]
    }
   ],
   "source": [
    "!du -sch users.avro"
   ]
  },
  {
   "cell_type": "code",
   "execution_count": 39,
   "id": "5c9cacf3",
   "metadata": {},
   "outputs": [
    {
     "name": "stdout",
     "output_type": "stream",
     "text": [
      "{'name': 'Alice', 'age': 30, 'city': 'New York'}\n",
      "{'name': 'Bob', 'age': 25, 'city': 'San Francisco'}\n",
      "{'name': 'Janice', 'age': 23, 'city': 'Honolulu'}\n",
      "{'name': 'Kawika', 'age': 31, 'city': 'Wailuku'}\n"
     ]
    }
   ],
   "source": [
    "with DataFileReader(open(\"users.avro\", \"rb\"), DatumReader()) as reader:\n",
    "    for user in reader:\n",
    "        print(user)"
   ]
  },
  {
   "cell_type": "code",
   "execution_count": 48,
   "id": "8dd597a8",
   "metadata": {},
   "outputs": [],
   "source": [
    "import json\n",
    "import avro.schema\n",
    "from avro.datafile import DataFileWriter, DataFileReader\n",
    "from avro.io import DatumWriter, DatumReader\n",
    "\n",
    "# New schema without 'city'\n",
    "schema_v2_dict = {\n",
    "    \"type\": \"record\",\n",
    "    \"name\": \"User\",\n",
    "    \"fields\": [\n",
    "        {\"name\": \"name\", \"type\": \"string\"},\n",
    "        {\"name\": \"age\", \"type\": \"int\"}\n",
    "    ]\n",
    "}\n",
    "\n",
    "schema_v2_str = json.dumps(schema_v2_dict)\n",
    "schema_v2 = avro.schema.parse(schema_v2_str)"
   ]
  },
  {
   "cell_type": "code",
   "execution_count": 50,
   "id": "a4048e47",
   "metadata": {},
   "outputs": [
    {
     "name": "stdout",
     "output_type": "stream",
     "text": [
      "Reading old data with new schema:\n",
      "{'name': 'Alice', 'age': 30}\n",
      "{'name': 'Bob', 'age': 25}\n",
      "{'name': 'Janice', 'age': 23}\n",
      "{'name': 'Kawika', 'age': 31}\n"
     ]
    }
   ],
   "source": [
    "print(\"Reading old data with new schema:\")\n",
    "with DataFileReader(open(\"users.avro\", \"rb\"), DatumReader(writers_schema=None, readers_schema=schema_v2)) as reader:\n",
    "    for user in reader:\n",
    "        print(user)  # city is not included"
   ]
  },
  {
   "cell_type": "code",
   "execution_count": 51,
   "id": "2f64b9b9",
   "metadata": {},
   "outputs": [
    {
     "name": "stdout",
     "output_type": "stream",
     "text": [
      "\n",
      "Reading new data:\n",
      "{'name': 'Charlie', 'age': 35}\n"
     ]
    }
   ],
   "source": [
    "# Write new data with new schemal so we don't accidentally modify or corrupt the original data\n",
    "with DataFileWriter(open(\"users_v2.avro\", \"wb\"), DatumWriter(), schema_v2) as writer:\n",
    "    writer.append({\"name\": \"Charlie\", \"age\": 35})\n",
    "\n",
    "# Read new data to verify\n",
    "print(\"\\nReading new data:\")\n",
    "with DataFileReader(open(\"users_v2.avro\", \"rb\"), DatumReader()) as reader:\n",
    "    for user in reader:\n",
    "        print(user)"
   ]
  },
  {
   "cell_type": "markdown",
   "id": "d4bd60e6",
   "metadata": {},
   "source": [
    "## More about the AVRO File Format\n",
    "\n",
    "\n",
    "```\n",
    "[File Header]\n",
    "[Sync Marker]\n",
    "[Data Block 1]\n",
    "[Sync Marker]\n",
    "[Data Block 2]\n",
    "[Sync Marker]\n",
    "...\n",
    "[Data Block N]\n",
    "[Sync Marker]\n",
    "```\n",
    "\n",
    "1. **File Format Complexity**\n",
    "   - More than just data and sync markers\n",
    "   - Metadata about object count per block\n",
    "   - Metadata typically at block start\n",
    "\n",
    "2. **Block Structure**\n",
    "   - Files organized into multi-record blocks\n",
    "   - Single-record appends misalign with structure\n",
    "\n",
    "3. **Compression**\n",
    "   - Common use of block-level compression\n",
    "   - Appending uncompressed data breaks structure\n",
    "\n",
    "4. **Performance**\n",
    "   - Optimized for batch operations\n",
    "   - Single-record appends may be inefficient\n",
    "\n",
    "5. **Metadata Updates**\n",
    "   - File header contains schema and record count\n",
    "   - Appending requires updating header (at file start)\n",
    "\n",
    "6. **Tool and Library Support**\n",
    "   - Most tools expect block-based structure\n",
    "   - Not designed for simple append operations"
   ]
  },
  {
   "attachments": {
    "image.png": {
     "image/png": "[encoded data removed]"
    }
   },
   "cell_type": "markdown",
   "id": "2ab71a20",
   "metadata": {},
   "source": [
    "![image.png](attachment:image.png)"
   ]
  },
  {
   "cell_type": "markdown",
   "id": "e9424fcd",
   "metadata": {},
   "source": [
    "## Parquet File Format\n",
    "\n",
    "- Parquet is a specialized column-based file format designed for efficient storage and querying of large datasets\n",
    "- It's fast for read operations\n",
    "  - Reading a specific column doesn't require scanning the entire file\n",
    "  - Column-based storage enables faster query performance due to vectorized reading\n",
    "- Similar data in columns allows for efficient compression algorithms\n",
    "- Allows schema evolution\n",
    "- Initially developed by Twitter and Cloudera\n",
    "- Now an open-source project under Apache Software Foundation\n",
    "- Especially useful for data with a large number of columns"
   ]
  },
  {
   "cell_type": "code",
   "execution_count": null,
   "id": "6b89afdd",
   "metadata": {},
   "outputs": [],
   "source": [
    "## Anatomy of a Parquet File\n",
    "\n",
    "- File Metadata: The starting point of the file, contains metadata like schema\n",
    "- Column Chunks: Data is organized into sets of columns, each set called a chunk\n",
    "- Row Groups: Each chunk can be split further into row groups to optimize reads\n"
   ]
  },
  {
   "cell_type": "markdown",
   "id": "dcc5bb7f",
   "metadata": {},
   "source": [
    "### Data Context\n",
    "* \n",
    "Suppose you have a simplified dataset with the following columns:\n",
    "\n",
    "  * Transaction_ID (e.g., 001, 002, ...)\n",
    "  * Time (e.g., 10:01, 10:02, ...)\n",
    "  * Number_of_Items_Purchased (e.g., 4, 2, ...)\n",
    "  * Transaction_Total (e.g., 20.50, 10.00, ...)\n"
   ]
  },
  {
   "cell_type": "markdown",
   "id": "d6db62b9",
   "metadata": {},
   "source": [
    "\n",
    "## Data Partitioning in Parquet\n",
    "\n",
    "- Basic Partitioning: Data can be divided into sub-folders based on a column value\n",
    "- Nested Partitions: You can create partitions within partitions based on multiple columns\n",
    "- Example Folder Structure, where we're split on the similar values of the MONTH or department\n",
    "\n",
    "```\n",
    "/root_directory  \n",
    "    /HOUR=10\n",
    "        CITY=HONOLULU\n",
    "           data..\n",
    "        CITY=MONTREAL\n",
    "            data..\n",
    "        \n",
    "    /HOUR=11\n",
    "        CITY=HONOLULU\n",
    "           data..\n",
    "        CITY=MONTREAL\n",
    "            data..\n",
    "\n",
    "    ...      \n",
    "```\n",
    "\n"
   ]
  },
  {
   "cell_type": "markdown",
   "id": "fec916c5",
   "metadata": {},
   "source": [
    "### File Header\n",
    "\n",
    "* The File Header provides the Parquet version and schema information. \n",
    "  * It essentially lays out what kinds of columns (and their data types) the reader should expect. \n",
    "```\n",
    "message transaction_schema {\n",
    "  required int64 Transaction_ID;\n",
    "  required binary Time (UTF8);\n",
    "  required int32 Number_of_Items_Purchased;\n",
    "  required double Transaction_Total;\n",
    "  required binary City (UTF8);\n",
    "}\n",
    "```"
   ]
  },
  {
   "cell_type": "markdown",
   "id": "51e0d49a",
   "metadata": {},
   "source": [
    "### Column Chunks\n",
    "* Column Chunks are contiguous blocks of data from a single column. \n",
    "* In our example, one Column Chunk might store a million Transaction_ID values\n",
    "* another might store a million Time values, and so on.\n",
    "```\n",
    "Column Chunk for Transaction_ID: [T001, T002, ... (up to 1,000,000  entries)]\n",
    "Column Chunk for Time: [10:01, 10:02, ... (up to 1,000,000  entries)]\n",
    "Column Chunk for Number_of_Items_Purchased: [1, 2, ... (up to 1,000,000  entries)]\n",
    "Column Chunk for Transaction_Total: [20.50, 10.00, ... (up to 1,000,000  entries)]\n",
    "Column Chunk for City: [Honolulu, Montreal, ... (up to 1,000,000  entries)]\n",
    "```"
   ]
  },
  {
   "cell_type": "markdown",
   "id": "8b180698",
   "metadata": {},
   "source": [
    "### Row Groups\n",
    "\n",
    "* Row groups bundle together a subset of Column Chunks to make reads more efficient. \n",
    "  * \n",
    "  \n",
    "    * i.e., column for a subset of rows. \n",
    "\n",
    "* ex. Row Group 1 might contain the first million records for each column\n",
    "```\n",
    "Row Group 1:\n",
    "  - Column Chunk 1 for Time: [10:01, 10:02, ... (up to 1,000,000 entries)]\n",
    "  - Column Chunk 1 for Number_of_Items_Purchased: [1, 2, ... (up to 1,000,000 entries)]\n",
    "  - Column Chunk 1 for Transaction_Total: [20.50, 10.00, ... (up to 1,000,000 entries)]\n",
    "  - Column Chunk 1 for City: [Honoluly, montreal, ... (up to 1,000,000 entries)]\n",
    "```"
   ]
  },
  {
   "cell_type": "markdown",
   "id": "2026d5d3",
   "metadata": {},
   "source": [
    "## Analytics and Reading Data in Parquet\n",
    "\n",
    "- If you've partitioned your data well, you generally you will only need to read the partitions that are relevant to your query\n",
    "  - For instance, if you're interested in transactions that occurred in the 10:00 AM, you would only read the files under the /Hour=10 directory\n",
    "- High-level tools that can manage partitions and fetch only relevant data when using Parquet include:\n",
    "  - Apache Spark (covered later in class)\n",
    "  - Presto (open-source distributed SQL)\n",
    "  - Amazon Athena (based on Presto and optimized for Amazon S3)\n",
    "  - Many other open source or commercial high-level tools and query engines\n"
   ]
  },
  {
   "cell_type": "markdown",
   "id": "d0d87c18",
   "metadata": {},
   "source": [
    "## PARQUET Pros and Cons\n",
    "\n",
    "* **Pros**:\n",
    "  - Highly compressible since data is stored column-wise (compression rates up to 75%)\n",
    "    - Can use different compression algorithms with different datatypes\n",
    "  - Seamless splittability across columns\n",
    "  - Optimized for reading data and ideal for read-intensive tasks\n",
    "    - Can use parallelization to read different columns\n",
    "\n",
    "* **Cons**:\n",
    "  - Very slow at writing data and not good with write-intensive applications\n",
    "  - Does not support updates on the data as Parquet files are immutable\n"
   ]
  },
  {
   "cell_type": "markdown",
   "id": "afaa9c93",
   "metadata": {},
   "source": [
    "\n",
    "\n",
    "## Conclusion\n",
    "\n",
    "When choosing a file format for your big data project, consider the following factors:\n",
    "- The nature of your data (row-based vs column-based)\n",
    "- Your primary use case (read-heavy vs write-heavy)\n",
    "- The need for schema evolution\n",
    "- Compression requirements\n",
    "- Splittability for distributed processing\n",
    "\n",
    "Each format has its strengths and weaknesses, and the best choice depends on your specific needs and constraints. Always benchmark different formats with your actual data and use cases to determine the most suitable option for your project."
   ]
  },
  {
   "cell_type": "code",
   "execution_count": 55,
   "id": "0a583d68",
   "metadata": {
    "scrolled": true,
    "slideshow": {
     "slide_type": "slide"
    }
   },
   "outputs": [
    {
     "data": {
      "text/plain": [
       "['A', 'A', 'T', 'G', 'C', 'G']"
      ]
     },
     "execution_count": 55,
     "metadata": {},
     "output_type": "execute_result"
    }
   ],
   "source": [
    "import random\n",
    "random.choices(\"ACGT\", k=6)"
   ]
  },
  {
   "cell_type": "code",
   "execution_count": 56,
   "id": "85e5d052",
   "metadata": {
    "slideshow": {
     "slide_type": "slide"
    }
   },
   "outputs": [
    {
     "name": "stdout",
     "output_type": "stream",
     "text": [
      "0123456789abcdefghijklmnopqrstuvwxyzABCDEFGHIJKLMNOPQRSTUVWXYZ!\"#$%&'()*+,-./:;<=>?@[\\]^_`{|}~ \t\n",
      "\r",
      "\u000b",
      "\f",
      "\n",
      "0123456789\n"
     ]
    }
   ],
   "source": [
    "import string \n",
    "\n",
    "print(string.printable)\n",
    "print(string.digits)"
   ]
  },
  {
   "cell_type": "code",
   "execution_count": 57,
   "id": "b0b23c8e",
   "metadata": {
    "slideshow": {
     "slide_type": "slide"
    }
   },
   "outputs": [
    {
     "name": "stdout",
     "output_type": "stream",
     "text": [
      "8421\n",
      "5088\n"
     ]
    }
   ],
   "source": [
    "import zlib \n",
    "import string\n",
    "\n",
    "# let's randomly generate two string of 1000, an ASCII and an INT\n",
    "\n",
    "random_ASCII = random.choices(string.printable, k=10_000)\n",
    "random_numbers = random.choices(string.digits, k=10_000)\n",
    "print(len(zlib.compress( str.encode(\"\".join(random_ASCII)))))\n",
    "print(len(zlib.compress( str.encode(\"\".join(random_numbers)))))"
   ]
  },
  {
   "cell_type": "code",
   "execution_count": 28,
   "id": "fc0f4f5a",
   "metadata": {
    "slideshow": {
     "slide_type": "slide"
    }
   },
   "outputs": [
    {
     "data": {
      "text/plain": [
       "1.6547445239154617"
      ]
     },
     "execution_count": 28,
     "metadata": {},
     "output_type": "execute_result"
    }
   ],
   "source": [
    "import numpy\n",
    "ratios = []\n",
    "for i in range(10):\n",
    "    random_ASCII = random.choices(string.printable, k=10_000)\n",
    "    random_numbers = random.choices(string.digits, k=10_000)\n",
    "    len_ascii = len(zlib.compress( str.encode(\"\".join(random_ASCII)))) \n",
    "    len_numbers = len(zlib.compress( str.encode(\"\".join(random_numbers))))\n",
    "    ratios.append(len_ascii/len_numbers)\n",
    "    \n",
    "numpy.mean(ratios)"
   ]
  },
  {
   "cell_type": "code",
   "execution_count": 19,
   "id": "ad2327eb",
   "metadata": {
    "slideshow": {
     "slide_type": "slide"
    }
   },
   "outputs": [
    {
     "data": {
      "text/plain": [
       "'ABCDEFGHIJKLMNOPQRSTUVWXYZ'"
      ]
     },
     "execution_count": 19,
     "metadata": {},
     "output_type": "execute_result"
    }
   ],
   "source": [
    "string.ascii_uppercase"
   ]
  },
  {
   "cell_type": "code",
   "execution_count": 29,
   "id": "f565ea35",
   "metadata": {
    "slideshow": {
     "slide_type": "slide"
    }
   },
   "outputs": [
    {
     "data": {
      "text/plain": [
       "1.3462144408226877"
      ]
     },
     "execution_count": 29,
     "metadata": {},
     "output_type": "execute_result"
    }
   ],
   "source": [
    "ratios = []\n",
    "for i in range(10):\n",
    "    random_ASCII = random.choices(string.printable, k=10_000)\n",
    "    random_uppercase = random.choices(string.ascii_uppercase, k=10_000)\n",
    "    len_ascii = len(zlib.compress( str.encode(\"\".join(random_ASCII)))) \n",
    "    len_uppercase = len(zlib.compress( str.encode(\"\".join(random_uppercase))))\n",
    "    ratios.append(len_ascii/len_uppercase)    \n",
    "numpy.mean(ratios)"
   ]
  },
  {
   "cell_type": "markdown",
   "id": "fae4fd74",
   "metadata": {},
   "source": []
  },
  {
   "cell_type": "markdown",
   "id": "e46ea231-2b26-4fd7-9bf6-e8c6b01e444a",
   "metadata": {},
   "source": []
  },
  {
   "cell_type": "markdown",
   "id": "8aaa82da-3d9f-4794-97b2-ac670369a69b",
   "metadata": {},
   "source": []
  },
  {
   "cell_type": "code",
   "execution_count": null,
   "id": "327c1eb2",
   "metadata": {},
   "outputs": [],
   "source": [
    "### Metadata\n",
    "* Contains information that helps in reading and interpreting the data effectively. \n",
    "\n",
    "* This can include:\n",
    "  * Summary statistics (e.g., min and max values for each column)\n",
    "  * Compression type used for each column\n",
    "  * Optional custom key-value pairs, ex. `{ \"regions\": \"north-america\", \"requested-by\": \"john\"}`\n",
    "  * Schema definitions.\n",
    "  "
   ]
  },
  {
   "cell_type": "markdown",
   "id": "c2e57f9e-1f42-4bbb-9395-40b5fd609a26",
   "metadata": {},
   "source": [
    "### Data Partitioning in Parquet\n",
    "\n",
    "* Basic Partitioning: Data can be divided into sub-folders based on a column value.\n",
    "* Nested Partitions: You can create partitions within partitions based on multiple columns.\n",
    "* Example Folder Structure, where we're  split on the similar values of the MONTH  or department\n",
    "\n",
    "```python\n",
    "/root_directory  \n",
    "    /HOUR=10\n",
    "        CITY=HONOLULU\n",
    "           data..\n",
    "        CITY=MONTREAL\n",
    "            data..\n",
    "        \n",
    "    /HOUR=11\n",
    "        CITY=HONOLULU\n",
    "           data..\n",
    "        CITY=MONTREAL\n",
    "            data..\n",
    "\n",
    "    ...      \n",
    "```"
   ]
  },
  {
   "cell_type": "markdown",
   "id": "c7031cd0",
   "metadata": {
    "slideshow": {
     "slide_type": "slide"
    }
   },
   "source": [
    "### Memory Mapping for Working with Large Files\n",
    "\n",
    "* Memory Mapping is a technique to map either a segment or an entire file from disk into virtual memory.\n",
    "  * Links a file on disk directly to a section of virtual memory.\n",
    "* Only the necessary portions of a file are loaded into RAM, as and when needed making efficient use of memory.\n",
    "* Allows programs to work with files larger than available physical RAM.\n"
   ]
  },
  {
   "cell_type": "markdown",
   "id": "b0cb2372",
   "metadata": {},
   "source": [
    "### Reading a File From Disk\n",
    "\n",
    "1. An application initiates a read() system call, moving the request from user space to kernel space.\n",
    "2. The kernel instructs the hardware to fetch the needed data from the disk.\n",
    "3. Data is loaded into a kernel buffer, often via Direct Memory Access (DMA) to bypass CPU involvement.\n",
    "4. Kernel copies data to a user-space buffer specified in the read() call.\n",
    "  * Kernel Buffers: Optimized for system tasks, reside in privileged memory.\n",
    "  * User-Space Buffers: For application tasks, accessible by the application.\n",
    "5. Application proceeds with its logic in user space, using the data in its buffer.\n",
    "6. A write() system call copies data from user space to a kernel socket buffer.\n",
    "7. Kernel writes this data to the hardware.\n",
    "8. Hardware confirms the completion of the write operation to the kernel.\n",
    "9. write() system call returns, completing the write operation."
   ]
  },
  {
   "cell_type": "markdown",
   "id": "ca9bcfdd",
   "metadata": {
    "slideshow": {
     "slide_type": "slide"
    }
   },
   "source": [
    "### READ FILE\n",
    "\n",
    "![](https://www.dropbox.com/s/0uaxprebndgw1sn/read_file.png?dl=1)"
   ]
  },
  {
   "cell_type": "markdown",
   "id": "6db2429b",
   "metadata": {
    "slideshow": {
     "slide_type": "slide"
    }
   },
   "source": [
    "### Memory Mapping a File From Disk\n",
    "\n",
    "* `mmap()`: A System Call for Memory Mapping\n",
    "  * This system call requests the mapping of a file into the application's address space.\n",
    "  * The request transitions from user space to kernel space to establish the mapping.\n",
    "* The kernel communicates with the hardware to map the relevant file data into a memory section (RAM).\n",
    "  * This is typically done \"lazily,\" meaning data may not be loaded until accessed.\n",
    "* Once the mapping is set up, the application can directly access and modify the data as if it were in its own memory space.\n",
    "* If data in the mapped memory region is altered, the kernel will eventually flush these changes back to the hardware.\n",
    "  * The operating system optimizes the timing of this flush based on various factors like system load and other I/O operations.\n",
    "* `munmap()`:  This system call is used to unmap a previously mapped memory section.\n",
    "  * It signals the kernel to remove the mapping and release the resources."
   ]
  },
  {
   "cell_type": "markdown",
   "id": "2b67ee70",
   "metadata": {
    "slideshow": {
     "slide_type": "slide"
    }
   },
   "source": [
    "### MMAP\n",
    "![](https://www.dropbox.com/s/eezmaerp24s45s8/mmap.png?dl=1)"
   ]
  },
  {
   "cell_type": "code",
   "execution_count": 2,
   "id": "6d69af33",
   "metadata": {
    "slideshow": {
     "slide_type": "slide"
    }
   },
   "outputs": [
    {
     "name": "stdout",
     "output_type": "stream",
     "text": [
      "<class 'pandas.core.frame.DataFrame'>\n",
      "RangeIndex: 17780075 entries, 0 to 17780074\n",
      "Data columns (total 24 columns):\n",
      " #   Column                Dtype         \n",
      "---  ------                -----         \n",
      " 0   hvfhs_license_num     object        \n",
      " 1   dispatching_base_num  object        \n",
      " 2   originating_base_num  object        \n",
      " 3   request_datetime      datetime64[ns]\n",
      " 4   on_scene_datetime     datetime64[ns]\n",
      " 5   pickup_datetime       datetime64[ns]\n",
      " 6   dropoff_datetime      datetime64[ns]\n",
      " 7   PULocationID          int64         \n",
      " 8   DOLocationID          int64         \n",
      " 9   trip_miles            float64       \n",
      " 10  trip_time             int64         \n",
      " 11  base_passenger_fare   float64       \n",
      " 12  tolls                 float64       \n",
      " 13  bcf                   float64       \n",
      " 14  sales_tax             float64       \n",
      " 15  congestion_surcharge  float64       \n",
      " 16  airport_fee           float64       \n",
      " 17  tips                  float64       \n",
      " 18  driver_pay            float64       \n",
      " 19  shared_request_flag   object        \n",
      " 20  shared_match_flag     object        \n",
      " 21  access_a_ride_flag    object        \n",
      " 22  wav_request_flag      object        \n",
      " 23  wav_match_flag        object        \n",
      "dtypes: datetime64[ns](4), float64(9), int64(3), object(8)\n",
      "memory usage: 9.9 GB\n",
      "CPU times: user 12.9 s, sys: 1.32 s, total: 14.2 s\n",
      "Wall time: 9.19 s\n"
     ]
    }
   ],
   "source": [
    "%%time\n",
    "import pandas as pd\n",
    "data = pd.read_parquet(\"~/Downloads/fhvhv_tripdata_2022-06.parquet\")\n",
    "data.info(memory_usage='deep')"
   ]
  },
  {
   "cell_type": "code",
   "execution_count": 4,
   "id": "53348d06-ba65-42a0-8067-7dd5d13ae5ba",
   "metadata": {
    "slideshow": {
     "slide_type": "slide"
    }
   },
   "outputs": [
    {
     "name": "stdout",
     "output_type": "stream",
     "text": [
      "CPU times: user 1min 58s, sys: 3.6 s, total: 2min 2s\n",
      "Wall time: 2min 3s\n"
     ]
    }
   ],
   "source": [
    "# %%time\n",
    "# data.to_csv(\"~/Downloads/fhvhv_tripdata_2022-06.csv\")"
   ]
  },
  {
   "cell_type": "code",
   "execution_count": 9,
   "id": "267daafc",
   "metadata": {
    "slideshow": {
     "slide_type": "slide"
    }
   },
   "outputs": [
    {
     "name": "stdout",
     "output_type": "stream",
     "text": [
      "4.2209930419921875 gigabytes\n"
     ]
    }
   ],
   "source": [
    "import psutil\n",
    "import os\n",
    "\n",
    "def print_mem():\n",
    "    gig = psutil.Process(os.getpid()).memory_info().rss / 1024 ** 3\n",
    "    print(f\"{gig} gigabytes\")\n",
    "print_mem()"
   ]
  },
  {
   "cell_type": "code",
   "execution_count": 13,
   "id": "0b5f72f5",
   "metadata": {
    "slideshow": {
     "slide_type": "slide"
    }
   },
   "outputs": [
    {
     "name": "stdout",
     "output_type": "stream",
     "text": [
      "CPU times: user 25.2 s, sys: 3.33 s, total: 28.5 s\n",
      "Wall time: 29.3 s\n"
     ]
    }
   ],
   "source": [
    "%time df = pd.read_csv(\"~/Downloads/fhvhv_tripdata_2022-06.csv\")"
   ]
  },
  {
   "cell_type": "code",
   "execution_count": 14,
   "id": "de3c9f34",
   "metadata": {
    "slideshow": {
     "slide_type": "slide"
    }
   },
   "outputs": [
    {
     "name": "stdout",
     "output_type": "stream",
     "text": [
      "14.629287719726562 gigabytes\n"
     ]
    }
   ],
   "source": [
    "print_mem()"
   ]
  },
  {
   "cell_type": "code",
   "execution_count": 15,
   "id": "4cc0f2a4",
   "metadata": {},
   "outputs": [],
   "source": [
    "del df"
   ]
  },
  {
   "cell_type": "code",
   "execution_count": 29,
   "id": "85340381",
   "metadata": {},
   "outputs": [
    {
     "name": "stdout",
     "output_type": "stream",
     "text": [
      "6.766876220703125 gigabytes\n"
     ]
    }
   ],
   "source": [
    "print_mem()"
   ]
  },
  {
   "cell_type": "code",
   "execution_count": 4,
   "id": "318b5437",
   "metadata": {},
   "outputs": [],
   "source": [
    "import mmap\n",
    "import os"
   ]
  },
  {
   "cell_type": "code",
   "execution_count": 31,
   "id": "b91c328e",
   "metadata": {},
   "outputs": [
    {
     "name": "stdout",
     "output_type": "stream",
     "text": [
      "CPU times: user 419 µs, sys: 723 µs, total: 1.14 ms\n",
      "Wall time: 17.8 ms\n"
     ]
    }
   ],
   "source": [
    "%%time\n",
    "file_handle = open(\"/Users/mahdi/Downloads/fhvhv_tripdata_2022-06.csv\", 'r+b') \n",
    "mmap_file = mmap.mmap(file_handle.fileno(), 0)\n"
   ]
  },
  {
   "cell_type": "code",
   "execution_count": 32,
   "id": "6bf4b7b8",
   "metadata": {},
   "outputs": [
    {
     "name": "stdout",
     "output_type": "stream",
     "text": [
      "6.766632080078125 gigabytes\n"
     ]
    }
   ],
   "source": [
    "print_mem()"
   ]
  },
  {
   "cell_type": "code",
   "execution_count": 33,
   "id": "87b60c18",
   "metadata": {},
   "outputs": [
    {
     "name": "stdout",
     "output_type": "stream",
     "text": [
      "Line 0:\tb',hvfhs_license_num,dispatching_base_num,originating_base_num,request_datetime,on_scene_datetime,pickup_datetime,dropoff_datetime,PULocationID,DOLocationID,trip_miles,trip_time,base_passenger_fare,tolls,bcf,sales_tax,congestion_surcharge,airport_fee,tips,driver_pay,shared_request_flag,shared_match_flag,access_a_ride_flag,wav_request_flag,wav_match_flag\\n'\n"
     ]
    }
   ],
   "source": [
    "line = mmap_file.readline()\n",
    "print(f\"Line 0:\\t{line}\")\n"
   ]
  },
  {
   "cell_type": "code",
   "execution_count": 34,
   "id": "05c5ba98",
   "metadata": {},
   "outputs": [
    {
     "name": "stdout",
     "output_type": "stream",
     "text": [
      "Line 1:\tb'0,HV0003,B03404,B03404,2022-06-01 00:15:35,2022-06-01 00:17:20,2022-06-01 00:17:41,2022-06-01 00:25:41,234,114,1.5,480,7.68,0.0,0.23,0.68,2.75,0.0,1.0,9.36,N,N, ,N,N\\n'\n"
     ]
    }
   ],
   "source": [
    "line = mmap_file.readline()\n",
    "print(f\"Line 1:\\t{line}\")\n"
   ]
  },
  {
   "cell_type": "code",
   "execution_count": 35,
   "id": "29e648e1",
   "metadata": {},
   "outputs": [
    {
     "name": "stdout",
     "output_type": "stream",
     "text": [
      "Line 0:\tb',hvfhs_license_num,dispatching_base_num,originating_base_num,request_datetime,on_scene_datetime,pickup_datetime,dropoff_datetime,PULocationID,DOLocationID,trip_miles,trip_time,base_passenger_fare,tolls,bcf,sales_tax,congestion_surcharge,airport_fee,tips,driver_pay,shared_request_flag,shared_match_flag,access_a_ride_flag,wav_request_flag,wav_match_flag\\n'\n"
     ]
    }
   ],
   "source": [
    "mmap_file.seek(0)\n",
    "line = mmap_file.readline()\n",
    "print(f\"Line 0:\\t{line}\")"
   ]
  },
  {
   "cell_type": "code",
   "execution_count": 37,
   "id": "270e90ca",
   "metadata": {},
   "outputs": [],
   "source": [
    "mmap_file.seek?"
   ]
  },
  {
   "cell_type": "code",
   "execution_count": 36,
   "id": "90049eeb",
   "metadata": {},
   "outputs": [
    {
     "name": "stdout",
     "output_type": "stream",
     "text": [
      "Starting at 2:\tb'vfhs_license_num,dispatching_base_num,originating_base_num,request_datetime,on_scene_datetime,pickup_datetime,dropoff_datetime,PULocationID,DOLocationID,trip_miles,trip_time,base_passenger_fare,tolls,bcf,sales_tax,congestion_surcharge,airport_fee,tips,driver_pay,shared_request_flag,shared_match_flag,access_a_ride_flag,wav_request_flag,wav_match_flag\\n'\n"
     ]
    }
   ],
   "source": [
    "mmap_file.seek(2)\n",
    "line = mmap_file.readline()\n",
    "print(f\"Starting at 2:\\t{line}\")"
   ]
  },
  {
   "cell_type": "code",
   "execution_count": 38,
   "id": "02dd78c0",
   "metadata": {},
   "outputs": [
    {
     "data": {
      "text/plain": [
       "353"
      ]
     },
     "execution_count": 38,
     "metadata": {},
     "output_type": "execute_result"
    }
   ],
   "source": [
    "mmap_file.seek(0)\n",
    "mmap_file.find(b'\\n')"
   ]
  },
  {
   "cell_type": "code",
   "execution_count": 41,
   "id": "2dca0a81",
   "metadata": {},
   "outputs": [
    {
     "name": "stdout",
     "output_type": "stream",
     "text": [
      "b'0,HV0003,B03404,B03404,2022-06-01 00:15:35,2022-06-01 00:17:20,2022-06-01 00:17:41,2022-06-01 00:25:41,234,114,1.5,480,7.68,0.0,0.23,0.68,2.75,0.0,1.0,9.36,N,N, ,N,N\\n'\n"
     ]
    }
   ],
   "source": [
    "mmap_file.seek(353+1)\n",
    "line = mmap_file.readline()\n",
    "print(f\"{line}\")\n"
   ]
  },
  {
   "cell_type": "code",
   "execution_count": 42,
   "id": "b6f258b0",
   "metadata": {},
   "outputs": [
    {
     "data": {
      "text/plain": [
       "520"
      ]
     },
     "execution_count": 42,
     "metadata": {},
     "output_type": "execute_result"
    }
   ],
   "source": [
    "mmap_file.tell()"
   ]
  },
  {
   "cell_type": "code",
   "execution_count": 43,
   "id": "a74ff00b",
   "metadata": {},
   "outputs": [
    {
     "name": "stdout",
     "output_type": "stream",
     "text": [
      "CPU times: user 263 ms, sys: 726 ms, total: 989 ms\n",
      "Wall time: 988 ms\n"
     ]
    },
    {
     "data": {
      "text/plain": [
       "2979703837"
      ]
     },
     "execution_count": 43,
     "metadata": {},
     "output_type": "execute_result"
    }
   ],
   "source": [
    "%%time\n",
    "data = open(\"/Users/mahdi/Downloads/fhvhv_tripdata_2022-06.csv\", 'r').read()\n",
    "len(data)"
   ]
  },
  {
   "cell_type": "code",
   "execution_count": 48,
   "id": "d6784ec1",
   "metadata": {},
   "outputs": [
    {
     "data": {
      "text/plain": [
       "'o'"
      ]
     },
     "execution_count": 48,
     "metadata": {},
     "output_type": "execute_result"
    }
   ],
   "source": [
    "chr(mmap_file[0])"
   ]
  },
  {
   "cell_type": "code",
   "execution_count": 52,
   "id": "3aac3e2d",
   "metadata": {},
   "outputs": [
    {
     "data": {
      "text/plain": [
       "b'location_key'"
      ]
     },
     "execution_count": 52,
     "metadata": {},
     "output_type": "execute_result"
    }
   ],
   "source": [
    "mmap_file[0:12]\n"
   ]
  },
  {
   "cell_type": "code",
   "execution_count": 54,
   "id": "77d9c950",
   "metadata": {},
   "outputs": [
    {
     "data": {
      "text/plain": [
       "[b'l', b'o', b'c', b'a', b't', b'i', b'o', b'n', b'_', b'k', b'e', b'y']"
      ]
     },
     "execution_count": 54,
     "metadata": {},
     "output_type": "execute_result"
    }
   ],
   "source": [
    "# almost equivalent to \n",
    "[x.to_bytes(1, 'big') for x in mmap_file[0:12]]\n"
   ]
  },
  {
   "cell_type": "code",
   "execution_count": 56,
   "id": "7e84a169",
   "metadata": {},
   "outputs": [
    {
     "data": {
      "text/plain": [
       "b'location_key'"
      ]
     },
     "execution_count": 56,
     "metadata": {},
     "output_type": "execute_result"
    }
   ],
   "source": [
    "# equivalent to \n",
    "b''.join([x.to_bytes(1, 'big') for x in mmap_file[0:12]])"
   ]
  },
  {
   "cell_type": "code",
   "execution_count": 57,
   "id": "8caa67d6",
   "metadata": {},
   "outputs": [
    {
     "data": {
      "text/plain": [
       "'location_key'"
      ]
     },
     "execution_count": 57,
     "metadata": {},
     "output_type": "execute_result"
    }
   ],
   "source": [
    "# almsot equivalent to \n",
    "\"\".join([chr(x) for x in mmap_file[0:12]])"
   ]
  },
  {
   "cell_type": "code",
   "execution_count": 7,
   "id": "410c2b99",
   "metadata": {},
   "outputs": [
    {
     "name": "stdout",
     "output_type": "stream",
     "text": [
      "CPU times: user 1.74 s, sys: 366 ms, total: 2.11 s\n",
      "Wall time: 2.11 s\n"
     ]
    },
    {
     "data": {
      "text/plain": [
       "17780076"
      ]
     },
     "execution_count": 7,
     "metadata": {},
     "output_type": "execute_result"
    }
   ],
   "source": [
    "%%time\n",
    "file_handle = open(\"/Users/mahdi/Downloads/fhvhv_tripdata_2022-06.csv\", 'r+b') \n",
    "total_lines = 0 \n",
    "mmap_file = mmap.mmap(file_handle.fileno(), 0)\n",
    "while mmap_file.readline():\n",
    "    total_lines += 1\n",
    "total_lines        "
   ]
  },
  {
   "cell_type": "code",
   "execution_count": 77,
   "id": "172f94cd",
   "metadata": {},
   "outputs": [
    {
     "name": "stdout",
     "output_type": "stream",
     "text": [
      "101G\t/Users/mahdi/Downloads/aggregated_100.csv\r\n",
      "101G\ttotal\r\n"
     ]
    }
   ],
   "source": [
    "!du -sch ~/Downloads/aggregated_100.csv"
   ]
  },
  {
   "cell_type": "code",
   "execution_count": 78,
   "id": "8a3488ec",
   "metadata": {},
   "outputs": [
    {
     "name": "stdout",
     "output_type": "stream",
     "text": [
      "CPU times: user 232 µs, sys: 986 µs, total: 1.22 ms\n",
      "Wall time: 781 µs\n"
     ]
    }
   ],
   "source": [
    "%%time\n",
    "file_handle = open(\"/Users/mahdi/Downloads/aggregated_100.csv\", 'r+b') \n"
   ]
  },
  {
   "cell_type": "code",
   "execution_count": 5,
   "id": "95ba3dcf",
   "metadata": {},
   "outputs": [
    {
     "name": "stdout",
     "output_type": "stream",
     "text": [
      "CPU times: user 2.46 s, sys: 380 ms, total: 2.84 s\n",
      "Wall time: 2.85 s\n"
     ]
    },
    {
     "data": {
      "text/plain": [
       "17780076"
      ]
     },
     "execution_count": 5,
     "metadata": {},
     "output_type": "execute_result"
    }
   ],
   "source": [
    "%%time\n",
    "total_lines = 0 \n",
    "file_handle = open(\"/Users/mahdi/Downloads/fhvhv_tripdata_2022-06.csv\",) \n",
    "while file_handle.readline():\n",
    "    total_lines += 1\n",
    "total_lines        "
   ]
  },
  {
   "cell_type": "code",
   "execution_count": 8,
   "id": "c385e09f-6a9a-4852-9ec3-15bf30f49ddf",
   "metadata": {},
   "outputs": [],
   "source": [
    "# The following creates a csv file with randome fields with num_cols and 10M entrie\n",
    "\n",
    "import csv\n",
    "import random\n",
    "import string\n",
    "\n",
    "num_rows = 10000000  # 10 million rows\n",
    "num_cols = 100  # 100 columns\n",
    "\n",
    "# This will generate a random string of length n\n",
    "def random_string(n=10):\n",
    "    return ''.join(random.choices(string.ascii_letters + string.digits, k=n))\n",
    "\n",
    "# Open a new CSV file in write mode ('w')\n",
    "with open('large_file.csv', 'w', newline='', buffering=10485760) as csvfile:  # 10 MB buffer\n",
    "    csv_writer = csv.writer(csvfile)\n",
    "    \n",
    "    # Write the header\n",
    "    csv_writer.writerow([f\"Column_{i}\" for i in range(num_cols)])\n",
    "\n",
    "    # Write the rows\n",
    "    for _ in range(num_rows):\n",
    "        csv_writer.writerow([random_string() for _ in range(num_cols)])\n"
   ]
  },
  {
   "cell_type": "code",
   "execution_count": 18,
   "id": "a21e3400-70c1-45fd-ac89-4e40f1ded3bc",
   "metadata": {},
   "outputs": [
    {
     "name": "stdout",
     "output_type": "stream",
     "text": [
      "CPU times: user 1.88 s, sys: 4.32 s, total: 6.2 s\n",
      "Wall time: 23.6 s\n"
     ]
    },
    {
     "data": {
      "text/plain": [
       "10000001"
      ]
     },
     "execution_count": 18,
     "metadata": {},
     "output_type": "execute_result"
    }
   ],
   "source": [
    "%%time\n",
    "file_handle = open(\"large_file.csv\", 'r+b') \n",
    "total_lines = 0 \n",
    "mmap_file = mmap.mmap(file_handle.fileno(), 0)\n",
    "while mmap_file.readline():\n",
    "    total_lines += 1\n",
    "total_lines        "
   ]
  },
  {
   "cell_type": "code",
   "execution_count": 19,
   "id": "0dbde451-1213-419b-b862-985d7729e049",
   "metadata": {},
   "outputs": [
    {
     "name": "stdout",
     "output_type": "stream",
     "text": [
      "CPU times: user 7.84 s, sys: 1.43 s, total: 9.27 s\n",
      "Wall time: 9.36 s\n"
     ]
    },
    {
     "data": {
      "text/plain": [
       "10000001"
      ]
     },
     "execution_count": 19,
     "metadata": {},
     "output_type": "execute_result"
    }
   ],
   "source": [
    "%%time\n",
    "total_lines = 0 \n",
    "file_handle = open(\"large_file.csv\",) \n",
    "while file_handle.readline():\n",
    "    total_lines += 1\n",
    "total_lines        "
   ]
  },
  {
   "cell_type": "code",
   "execution_count": 30,
   "id": "ecd86e25-95d7-42aa-ae7a-28bacd2bb73b",
   "metadata": {},
   "outputs": [
    {
     "name": "stdout",
     "output_type": "stream",
     "text": [
      "CPU times: user 4.29 s, sys: 1.53 s, total: 5.82 s\n",
      "Wall time: 5.83 s\n"
     ]
    }
   ],
   "source": [
    "%%time\n",
    "with open(\"large_file.csv\", 'r+b') as file_handle:\n",
    "    total_lines = 0\n",
    "    mmap_file = mmap.mmap(file_handle.fileno(), 0)\n",
    "    chunk_size = 1 << 17  # 64 KiB\n",
    "    while True:\n",
    "        chunk = mmap_file.read(chunk_size)\n",
    "        if not chunk:\n",
    "            break\n",
    "        total_lines += chunk.count(b'\\n')\n"
   ]
  },
  {
   "cell_type": "code",
   "execution_count": null,
   "id": "a8ab73fb-160b-4f18-b401-efdfdba8893d",
   "metadata": {},
   "outputs": [],
   "source": []
  }
 ],
 "metadata": {
  "celltoolbar": "Slideshow",
  "kernelspec": {
   "display_name": "Python 3 (ipykernel)",
   "language": "python",
   "name": "python3"
  },
  "language_info": {
   "codemirror_mode": {
    "name": "ipython",
    "version": 3
   },
   "file_extension": ".py",
   "mimetype": "text/x-python",
   "name": "python",
   "nbconvert_exporter": "python",
   "pygments_lexer": "ipython3",
   "version": "3.9.16"
  }
 },
 "nbformat": 4,
 "nbformat_minor": 5
}
