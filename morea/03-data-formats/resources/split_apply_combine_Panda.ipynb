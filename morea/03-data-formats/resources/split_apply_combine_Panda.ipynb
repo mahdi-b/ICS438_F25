{
 "cells": [
  {
   "cell_type": "code",
   "execution_count": null,
   "metadata": {
    "slideshow": {
     "slide_type": "skip"
    }
   },
   "outputs": [],
   "source": [
    "from IPython.core.display import HTML\n",
    "import pandas as pd "
   ]
  },
  {
   "cell_type": "code",
   "execution_count": null,
   "metadata": {
    "slideshow": {
     "slide_type": "slide"
    }
   },
   "outputs": [],
   "source": [
    "spending_df = pd.read_csv('https://www.dropbox.com/s/ce9b47nzt3sx7y5/spending_10k.csv?dl=1', index_col=\"unique_id\", dtype={\"doctor_id\":\"object\"})\n",
    "spending_df.head(10)"
   ]
  },
  {
   "cell_type": "markdown",
   "metadata": {
    "slideshow": {
     "slide_type": "slide"
    }
   },
   "source": [
    "### Overview\n",
    "\n",
    "\n",
    "* In this section, we will tackle the handy `groupby` method.\n",
    "\n",
    "* We also cover the split-apply-combine scheme to:\n",
    "\n",
    "  * Aggregate data in each group\n",
    "  * Transform data in each group\n",
    "  * Filter the data in each group\n",
    "  * Thin the data in each group"
   ]
  },
  {
   "cell_type": "markdown",
   "metadata": {
    "slideshow": {
     "slide_type": "slide"
    }
   },
   "source": [
    "### `group_by` and `DataFrame` groups\n",
    "\n",
    "* The `groupby()` method is used to group the data using values from one or more columns.\n",
    "\n",
    "   * `groupby` takes as input one or more column labels, which it uses to group the data.\n",
    "\n",
    "```python\n",
    "df_1.groupby(\"X\")\n",
    "```\n",
    "\n",
    "![](https://www.dropbox.com/s/86bi697t59zmkdn/groupby.png?dl=1)\n",
    "\n"
   ]
  },
  {
   "cell_type": "markdown",
   "metadata": {
    "slideshow": {
     "slide_type": "slide"
    }
   },
   "source": [
    "### Identifying Groups from a GroupBy Object\n",
    "\n",
    "\n",
    "```python\n",
    "spending_df.groupby('specialty')\n",
    "```\n",
    "\n",
    "![](https://www.dropbox.com/s/bs8o34e4s7bdqa8/group_by_specialty.png?dl=1)\n",
    "\n",
    "* The `groupby` method returns an object of type `DataFrameGroupBy.`\n",
    "  * This is not a `DataFrame`, and does not, therefore, have the `DataFrame` methods discussed previously \n",
    "\n",
    "\n"
   ]
  },
  {
   "cell_type": "code",
   "execution_count": null,
   "metadata": {},
   "outputs": [],
   "source": [
    "x = spending_df.groupby('specialty')\n"
   ]
  },
  {
   "cell_type": "code",
   "execution_count": null,
   "metadata": {},
   "outputs": [],
   "source": [
    "type(x)"
   ]
  },
  {
   "cell_type": "code",
   "execution_count": null,
   "metadata": {
    "slideshow": {
     "slide_type": "slide"
    }
   },
   "outputs": [],
   "source": [
    "spending_by_specialty = spending_df.groupby('specialty')\n",
    "\n",
    "addiction_med_group = spending_by_specialty.get_group(\"ADDICTION MEDICINE\")\n",
    "addiction_med_group"
   ]
  },
  {
   "cell_type": "code",
   "execution_count": null,
   "metadata": {},
   "outputs": [],
   "source": [
    "x = pd.Series([1,2,3,4,5])\n",
    "\n",
    "x / x.sum()"
   ]
  },
  {
   "cell_type": "markdown",
   "metadata": {
    "slideshow": {
     "slide_type": "slide"
    }
   },
   "source": [
    "### `groupby` and Group-Specific Processing\n",
    "\n",
    "* An ideal use-case for `groupby` consists of applying operations to each group independently.\n",
    "\n",
    "* For instance, to compute the total spending by `specialty`, we need to:\n",
    "  * Split the data by `specialty`.\n",
    "  * Sum the total `spending` for each group.\n",
    "  * Combine the sums for each group into a new `DataFrame`.\n",
    "\n"
   ]
  },
  {
   "cell_type": "markdown",
   "metadata": {
    "slideshow": {
     "slide_type": "slide"
    }
   },
   "source": [
    "\n",
    "### Split-Apply-Combine Paradigm\n",
    "\n",
    "* `groupby()` is often applied in the context of the data processing paradigm called \"split-apply-combine\".\n",
    "\n",
    "  * **Split**: you need to split the data into chunks defined using one or more columns.\n",
    "    * This is typically done using `groupby`.\n",
    "  * **Apply**: apply some operation to the chunks generated.\n",
    "    * Ex. Count the number of rows in each chunk, average the values for a specific column, etc.\n",
    "  * **Combine**: combine the results of the applied operation into a new `DataFrame`.\n",
    "\n",
    "\n"
   ]
  },
  {
   "cell_type": "markdown",
   "metadata": {
    "slideshow": {
     "slide_type": "slide"
    }
   },
   "source": [
    "### Split-Apply-Combine Example\n",
    "\n",
    "![](https://www.dropbox.com/s/aecufw3mfu2mlah/split_apply_combine_example.png?dl=1)\n",
    "\n",
    "* The type of Split-Apply-Combine applied here is referred to as aggregation.\n",
    "  * Aggregations refer to any operation that aggregates (reduces) group data to a single value."
   ]
  },
  {
   "cell_type": "markdown",
   "metadata": {
    "slideshow": {
     "slide_type": "slide"
    }
   },
   "source": [
    "### The 3 ( or 3  $\\frac{1}{2}$) Classes of Opearations on Groups\n",
    "\n",
    "\n",
    "* Three are 3 formal classes of split-apply-combine operations that can be applied to group data.\n",
    "\n",
    "  * I include a variant ($\\frac{1}{2}$ a class) which I think is useful to better classify split-apply-combine operations.\n",
    "\n",
    "\n",
    "1\\.$~~$__Aggregations__ generate a single value for each group\n",
    "   * Ex. Sum the spending by specialty\n",
    "  \n",
    "2\\.$~~$ __Transformations__ convert the data and generate a group of the same size as the original group.\n",
    "   * Ex. Convert the currency by country for some datasets that contains medication cost by country.\n",
    "\n",
    "3\\.$~~$ __Filters__ retain or discard a group based on group-specific boolean computations.\n",
    "   * Ex. drop specialty if the sum of spending is below some threshold\n",
    "\n",
    "3$\\frac{1}{2}$\\.$~$\"__Thinning__\" drops entries in a group based on some defined logic.\n",
    "  * Filter out values in a group that are 3 standard deviations above or below the mean.\n",
    "  \n"
   ]
  },
  {
   "cell_type": "markdown",
   "metadata": {
    "jupyter": {
     "outputs_hidden": true
    },
    "slideshow": {
     "slide_type": "slide"
    }
   },
   "source": [
    "### Aggregations\n",
    "\n",
    "- __Aggregations__ aggregate the data in each group, i.e., they reduce the data in each group to a single value. \n",
    "\n",
    "  * This includes, for instance, computing group sums, means, maximums, minimums, _etc_.\n",
    "\n"
   ]
  },
  {
   "cell_type": "markdown",
   "metadata": {
    "slideshow": {
     "slide_type": "slide"
    }
   },
   "source": [
    "![](https://www.dropbox.com/s/9q54na9szs5syi5/aggregate.png?dl=1)\n"
   ]
  },
  {
   "cell_type": "markdown",
   "metadata": {
    "slideshow": {
     "slide_type": "slide"
    }
   },
   "source": [
    "\n",
    "### Transforming Group Data\n",
    "\n",
    "* Transform the data in a group-specific way.\n",
    "\n",
    "  *  Ex. for specialty, we want to transform the column `nb_beneficiaries` into the values small, large or medium, depending on whether the `nb_beneficiaries` value is, respectively, `-2 * std` below the mean, `+2 * std` larger than the mean or withing `+/-2 * std` of the mean.\n",
    "\n",
    "\n",
    "   *  The number of entries per group resulting from a transformation is the same as the number of entries in the group before the transformation.\n",
    "\n"
   ]
  },
  {
   "cell_type": "markdown",
   "metadata": {
    "slideshow": {
     "slide_type": "slide"
    }
   },
   "source": [
    "- The diagram below shows an example where the data in column \"Y\" in transformed by dividing it by the group mean.\n",
    "\n",
    "![](https://www.dropbox.com/s/nf8lg0lqk3yxf7k/transform_2.png?dl=1)\n"
   ]
  },
  {
   "cell_type": "markdown",
   "metadata": {
    "slideshow": {
     "slide_type": "slide"
    }
   },
   "source": [
    "### Filtering Group Data\n",
    "\n",
    "* Consist of dropping or retaining that group in a way that depends on a group-specific computation that returns `True` or `False`. \n",
    "\n",
    "* For instance, we can filter specialties that don't have enough entries or for which the mean `spending` if below a certain threshold.\n",
    "  * Groups are either retained or discarded. Groups that are retained are unmodified.\n"
   ]
  },
  {
   "cell_type": "markdown",
   "metadata": {
    "slideshow": {
     "slide_type": "slide"
    }
   },
   "source": [
    "- The diagram below shows an example where groups are filtered if their sum for column `Y` is less than 10.\n",
    "\n",
    "![](https://www.dropbox.com/s/ncmv2xsupjok7va/filter.png?dl=1)"
   ]
  },
  {
   "cell_type": "markdown",
   "metadata": {
    "jupyter": {
     "outputs_hidden": true
    },
    "slideshow": {
     "slide_type": "slide"
    }
   },
   "source": [
    "### Thinning Group Data\n",
    "\n",
    "* Consist of reducing the number of entries using a group-specific operation.\n",
    "\n",
    "* Thinning can be useful to sub-sample the data at the group level or returning the top `n` entries in each group, etc. \n",
    "\n",
    "  * As opposed to aggregating functions, thinning does not have to reduce the group into a single entry; although it could\n",
    "\n",
    "    \n",
    "![](https://www.dropbox.com/s/m4p4f5nk55w2ni2/thin.png?dl=1) "
   ]
  },
  {
   "cell_type": "markdown",
   "metadata": {
    "slideshow": {
     "slide_type": "slide"
    }
   },
   "source": [
    "\n",
    "### Aggregating the Data Using `groupby`\n",
    "\n",
    "* Aggregation is commonly used to compute summary statistics on each of the groups.\n",
    "\n",
    "* Some of the interesting/important summary aggregation methods `DataFrameGroupBy` objects are:\n",
    "\n",
    "|Methods           |        Decription                              |\n",
    "|:-----------------|:-----------------------------------------------|\n",
    "| `mean`, `median` | Computes the mean and the median in each group | \n",
    "| `min` , `max`    | computes the min and max in each group         | \n",
    "| `size`           | computes the number of values in each group    | \n",
    "\n",
    "\n"
   ]
  },
  {
   "cell_type": "code",
   "execution_count": null,
   "metadata": {
    "slideshow": {
     "slide_type": "slide"
    }
   },
   "outputs": [],
   "source": [
    "spending_df.head()"
   ]
  },
  {
   "cell_type": "markdown",
   "metadata": {
    "slideshow": {
     "slide_type": "slide"
    }
   },
   "source": [
    "##### Aggregating the Data Using `groupby` Cont'd \n",
    "\n",
    "\n",
    "- The functions above all use the same syntax:\n",
    " \n",
    "```python\n",
    "spending_df.groupby('specialty').sum()\n",
    "# or\n",
    "spending_df.groupby('specialty').min()\n",
    "```\n"
   ]
  },
  {
   "cell_type": "code",
   "execution_count": null,
   "metadata": {
    "slideshow": {
     "slide_type": "slide"
    }
   },
   "outputs": [],
   "source": [
    "spending_df.groupby('specialty').sum().head(10)\n"
   ]
  },
  {
   "cell_type": "markdown",
   "metadata": {
    "slideshow": {
     "slide_type": "slide"
    }
   },
   "source": [
    "\n",
    "### Applying Functions to Group Columns\n",
    "\n",
    "- The method called `agg` can be used where complex or custom aggregation logic is required.\n",
    " The method `agg` takes a function (or a list of functions) and uses it (them) to aggregate the group's colum(s)\n",
    "\n",
    "- Example, we can use `sum_spending_CAD` to return the sum of the spending in Canadian Dollars.\n",
    "\n"
   ]
  },
  {
   "cell_type": "markdown",
   "metadata": {
    "slideshow": {
     "slide_type": "slide"
    }
   },
   "source": [
    "```python\n",
    "def sum_spending_CAD(x):\n",
    "    return x.sum() * 1.32\n",
    "\n",
    "spending_by_specialty['spending'].agg(sum_spending_CAD)\n",
    "```\n",
    "\n",
    "\n",
    "* `agg` can either:\n",
    "  * take a dictionary of functions to aggregate on.\n",
    "    * Required for aggregating more than one column \n",
    "\n",
    "    ```python \n",
    "    spending_by_specialty.agg({'nb_beneficiaries' :sum,\n",
    "                               'spending' : sum_spending_CAD)\n",
    "    ```\n",
    "\n",
    "  * `agg` can take a list of function to apply to each column functions to aggregate on.\n",
    "  \n",
    "    `\n",
    "    spending_by_specialty.agg([min,max,sum])\n",
    "    `"
   ]
  },
  {
   "cell_type": "code",
   "execution_count": null,
   "metadata": {
    "slideshow": {
     "slide_type": "slide"
    }
   },
   "outputs": [],
   "source": [
    "def sum_spending_CAD(x):\n",
    "    return x.sum() * 1.32\n",
    "\n",
    "# format\n",
    "(\n",
    "    spending_by_specialty.agg({ 'nb_beneficiaries': sum, 'spending': sum_spending_CAD })\n",
    "                         .head()\n",
    ")\n",
    "\n"
   ]
  },
  {
   "cell_type": "code",
   "execution_count": null,
   "metadata": {},
   "outputs": [],
   "source": [
    "spending_by_specialty.get_group(\"ADDICTION MEDICINE\")"
   ]
  },
  {
   "cell_type": "code",
   "execution_count": null,
   "metadata": {
    "slideshow": {
     "slide_type": "slide"
    }
   },
   "outputs": [],
   "source": [
    "# note that sum, min and max here are functions\n",
    "spending_by_specialty['spending'].agg([sum, min, max]).head()"
   ]
  },
  {
   "cell_type": "code",
   "execution_count": null,
   "metadata": {},
   "outputs": [],
   "source": [
    "spending_by_specialty.agg({'nb_beneficiaries' :min,\n",
    "                           'spending' : max}).head()\n"
   ]
  },
  {
   "cell_type": "code",
   "execution_count": null,
   "metadata": {
    "slideshow": {
     "slide_type": "slide"
    }
   },
   "outputs": [],
   "source": [
    "spending_by_specialty.agg({'nb_beneficiaries' :[min, sum],\n",
    "                           'spending' : max}).head()\n"
   ]
  },
  {
   "cell_type": "markdown",
   "metadata": {
    "slideshow": {
     "slide_type": "slide"
    }
   },
   "source": [
    "### Transforming the Data in `groupby`\n",
    "\n",
    "- As opposed to aggregations, which reduce the data into a single value, transformations modify the data but don't change the `shape` (dimension) of the groups\n",
    "\n",
    "- Transformations are useful for applying operations that are group specific\n",
    "\n"
   ]
  },
  {
   "cell_type": "markdown",
   "metadata": {
    "slideshow": {
     "slide_type": "slide"
    }
   },
   "source": [
    "### Transforming the Data in `groupby` Cont'd\n",
    "\n",
    "\n",
    "- The example below computes the percent contribution of each entry to each specialty by applying a transformation that normalizes the entry's spending over the total spending in that specialty. \n",
    "\n",
    "![](https://www.dropbox.com/s/xwomvq1cs90jpg1/transform_spending.png?dl=1)\n"
   ]
  },
  {
   "cell_type": "code",
   "execution_count": null,
   "metadata": {
    "slideshow": {
     "slide_type": "slide"
    }
   },
   "outputs": [],
   "source": [
    "spending_by_specialty[\"spending\"].get_group(\"ADDICTION MEDICINE\")"
   ]
  },
  {
   "cell_type": "markdown",
   "metadata": {
    "slideshow": {
     "slide_type": "slide"
    }
   },
   "source": [
    "### Applying a Transformation\n",
    "\n",
    "- Applying a transformation is done using the method called `transform`.\n",
    "\n",
    "\n",
    "- The method `transform` takes as input a function name, which it calls on each group of the `DataFrameGroupBy` object"
   ]
  },
  {
   "cell_type": "code",
   "execution_count": null,
   "metadata": {
    "slideshow": {
     "slide_type": "slide"
    }
   },
   "outputs": [],
   "source": [
    "# i=0\n",
    "# global i\n",
    "# i+=1 \n",
    "# print(type(x))\n",
    "\n",
    "\n",
    "def my_function(x):\n",
    "\n",
    "    return (x   / x.sum() ) * 100\n",
    "    \n",
    "\n",
    "\n",
    "spending_df[\"spending_pct\"] = spending_by_specialty['spending'].transform(my_function)\n"
   ]
  },
  {
   "cell_type": "code",
   "execution_count": null,
   "metadata": {
    "slideshow": {
     "slide_type": "slide"
    }
   },
   "outputs": [],
   "source": [
    "spending_df[spending_df['specialty'] == \"ADDICTION MEDICINE\"]\n"
   ]
  },
  {
   "cell_type": "code",
   "execution_count": null,
   "metadata": {
    "slideshow": {
     "slide_type": "slide"
    }
   },
   "outputs": [],
   "source": [
    "spending_df.sort_values(['specialty', 'spending_pct'], ascending=[True, False]).head(10)"
   ]
  },
  {
   "cell_type": "markdown",
   "metadata": {
    "slideshow": {
     "slide_type": "slide"
    }
   },
   "source": [
    "### More complex Transformations\n",
    "\n",
    "* As noted above, drugs are still duplicated across `doctor_ids` within the same `specialty.`\n",
    "\n",
    "  *  ex. FLUTICASONE/SALMETEROL is prescribed by at least 3 doctors\n",
    "\n",
    "- To see the percent spending by `drug` column, we need to group on both the `specialty` and the `medication` and then sum the `spending_pct` computed previously\n",
    "\n",
    "```python\n",
    "medication_spendng_pct =  spending_df.groupby([\"specialty\", \"medication\"])[\"spending_pct\"].sum()\n",
    "```\n",
    "\n"
   ]
  },
  {
   "cell_type": "code",
   "execution_count": null,
   "metadata": {},
   "outputs": [],
   "source": [
    "medication_spendng_pct.head()"
   ]
  },
  {
   "cell_type": "code",
   "execution_count": null,
   "metadata": {
    "slideshow": {
     "slide_type": "slide"
    }
   },
   "outputs": [],
   "source": [
    "medication_spendng_pct =  spending_df.groupby([\"specialty\", \"medication\"])[\"spending_pct\"].sum()\n",
    "print(type(medication_spendng_pct))\n",
    "print(\"\\n\" + \"*\" * 35 + \"\\n\")\n",
    "print(medication_spendng_pct.index)\n",
    "\n"
   ]
  },
  {
   "cell_type": "code",
   "execution_count": null,
   "metadata": {
    "slideshow": {
     "slide_type": "slide"
    }
   },
   "outputs": [],
   "source": [
    "import string\n",
    "import random\n",
    "\n",
    "print(string.ascii_letters)\n",
    "print(\"\\n\" + \"*\" * 52 + \"\\n\")\n",
    "\n",
    "lc_letters = list(string.ascii_letters[:26])\n",
    "print(lc_letters)\n",
    "\n",
    "print(\"\\n\" + \"*\" * 52 + \"\\n\")\n",
    "\n",
    "print(random.sample(lc_letters, 6))\n"
   ]
  },
  {
   "cell_type": "code",
   "execution_count": null,
   "metadata": {
    "slideshow": {
     "slide_type": "slide"
    }
   },
   "outputs": [],
   "source": [
    "x = pd.Series(random.sample(lc_letters, 6), index=[1,2,3,4,5,6])\n",
    "x.head()\n"
   ]
  },
  {
   "cell_type": "code",
   "execution_count": null,
   "metadata": {
    "slideshow": {
     "slide_type": "slide"
    }
   },
   "outputs": [],
   "source": [
    "print(x.index)\n",
    "\n",
    "print(\"\\n\" + \"*\" * 45 + \"\\n\")\n",
    "\n",
    "print(x[1])"
   ]
  },
  {
   "cell_type": "code",
   "execution_count": null,
   "metadata": {
    "slideshow": {
     "slide_type": "slide"
    }
   },
   "outputs": [],
   "source": [
    "medication_spendng_pct.index"
   ]
  },
  {
   "cell_type": "code",
   "execution_count": null,
   "metadata": {
    "slideshow": {
     "slide_type": "slide"
    }
   },
   "outputs": [],
   "source": [
    "medication_spendng_pct[('ADDICTION MEDICINE', 'BUSPIRONE HCL')]"
   ]
  },
  {
   "cell_type": "code",
   "execution_count": null,
   "metadata": {
    "slideshow": {
     "slide_type": "slide"
    }
   },
   "outputs": [],
   "source": [
    "medication_spendng_pct[('ADDICTION MEDICINE', )]"
   ]
  },
  {
   "cell_type": "code",
   "execution_count": null,
   "metadata": {
    "slideshow": {
     "slide_type": "slide"
    }
   },
   "outputs": [],
   "source": [
    "medication_spendng_pct[('ALLERGY/IMMUNOLOGY', )]"
   ]
  },
  {
   "cell_type": "markdown",
   "metadata": {
    "slideshow": {
     "slide_type": "slide"
    }
   },
   "source": [
    "### More complex Transformations- cont'd\n",
    "\n",
    "* The multiindex is sometime inconvenient to work with\n",
    "    * Makes it hard to sort on `speciality` and `spending_pct` as we did earlier\n",
    "\n",
    "* We can reset (drop) the index using the method `reset_index`\n",
    "  * allows us to sort on `specialty` and `spending_pct` as we did earlier\n",
    "\n",
    "\n",
    "\n"
   ]
  },
  {
   "cell_type": "code",
   "execution_count": null,
   "metadata": {},
   "outputs": [],
   "source": [
    "spending_df.groupby([\"specialty\", \"medication\"])[\"spending_pct\"].sum().head()"
   ]
  },
  {
   "cell_type": "code",
   "execution_count": null,
   "metadata": {
    "slideshow": {
     "slide_type": "slide"
    }
   },
   "outputs": [],
   "source": [
    "medication_spendng_pct = spending_df.groupby([\"specialty\", \"medication\"])[\"spending_pct\"].sum().reset_index()\n",
    "medication_spendng_pct.head()\n"
   ]
  },
  {
   "cell_type": "code",
   "execution_count": null,
   "metadata": {
    "slideshow": {
     "slide_type": "slide"
    }
   },
   "outputs": [],
   "source": [
    "medication_spendng_pct.sort_values([\"specialty\", \"spending_pct\"], ascending=[True, False]).head(10)"
   ]
  },
  {
   "cell_type": "markdown",
   "metadata": {
    "slideshow": {
     "slide_type": "slide"
    }
   },
   "source": [
    "### Filtering Groups\n",
    "\n",
    "- Filtering a group is done using the method called `filter`\n",
    "\n",
    "\n",
    "- The method `filter` takes as input a function name, which it calls on each group of the `DataFrameGroupBy` object\n",
    "  - The function must return either `True` or `False`.\n",
    "  - Groups for which the function returns `False` are dropped.\n",
    "\n",
    "\n",
    "- The resulting` DataFrame` has its entries in the same order as the original `DataFrame`.\n",
    " \n"
   ]
  },
  {
   "cell_type": "code",
   "execution_count": null,
   "metadata": {
    "slideshow": {
     "slide_type": "slide"
    }
   },
   "outputs": [],
   "source": [
    "spending_df['specialty'].unique()"
   ]
  },
  {
   "cell_type": "code",
   "execution_count": null,
   "metadata": {
    "slideshow": {
     "slide_type": "slide"
    }
   },
   "outputs": [],
   "source": [
    "\n",
    "def filter_on_spending(x):\n",
    "    return x['spending'].sum() > 50_000\n",
    "\n",
    "high_spending_df = spending_df[[\"specialty\", 'spending']].groupby('specialty').filter(filter_on_spending)\n",
    "\n"
   ]
  },
  {
   "cell_type": "code",
   "execution_count": null,
   "metadata": {
    "slideshow": {
     "slide_type": "slide"
    }
   },
   "outputs": [],
   "source": [
    "high_spending_df['specialty'].unique() \n"
   ]
  },
  {
   "cell_type": "markdown",
   "metadata": {
    "slideshow": {
     "slide_type": "slide"
    }
   },
   "source": [
    "### Thinning Groups\n",
    "\n",
    "* Thinning the data consist in reducing the number of entries in a group\n",
    "\n",
    "* As opposed to aggregating functions, thinning does not have to reduce the group into a single entry\n",
    "  * Although it could reduce it to a single entry\n",
    "\n",
    "\n",
    "* Thinning can be used, for instance, to return only the top 3 entries in each category, or to randomly sample a small subset of entries from each category"
   ]
  },
  {
   "cell_type": "markdown",
   "metadata": {
    "slideshow": {
     "slide_type": "slide"
    }
   },
   "source": [
    "### Thinning Methods and `apply`\n",
    "\n",
    "- `pandas` offers a few methods for thinning the data.\n",
    "  - Ex. `nlargest`, `nsmallest`, etc.\n",
    "    \n",
    "    \n",
    "- However, thinning  is most often carried out using a method  called `apply.` \n",
    "\n",
    "\n",
    "\n",
    "- The  method `apply` takes as input a function name, which it calls on each group of the `DataFrameGroupBy` object.\n"
   ]
  },
  {
   "cell_type": "code",
   "execution_count": null,
   "metadata": {
    "slideshow": {
     "slide_type": "slide"
    }
   },
   "outputs": [],
   "source": [
    "spending_by_specialty['spending'].nlargest(2)"
   ]
  },
  {
   "cell_type": "code",
   "execution_count": null,
   "metadata": {
    "slideshow": {
     "slide_type": "slide"
    }
   },
   "outputs": [],
   "source": [
    "spending_by_specialty['spending'].nsmallest(3)"
   ]
  },
  {
   "cell_type": "markdown",
   "metadata": {
    "slideshow": {
     "slide_type": "slide"
    }
   },
   "source": [
    "### Sub-sampling a DataFrame\n",
    "\n",
    "\n",
    "- This is necessary to maintain group composions.\n",
    "\n",
    "- This can be achived using the DataFrame mthod called `sample.` \n",
    "\n",
    "  - Two parameters are relevant in this scenario,`n` the number of samples to randomly select or `frac` a portion of the data to retun\n",
    "  - We are interested the latter\n",
    "\n",
    "```python\n",
    " spending_df.sample(frac=0.001)\n",
    "```\n"
   ]
  },
  {
   "cell_type": "code",
   "execution_count": null,
   "metadata": {
    "slideshow": {
     "slide_type": "slide"
    }
   },
   "outputs": [],
   "source": [
    "# return 0.01% of the data, i.e 10 entries\n",
    "spending_df.sample(frac=0.01).head()\n"
   ]
  },
  {
   "cell_type": "code",
   "execution_count": null,
   "metadata": {
    "slideshow": {
     "slide_type": "slide"
    }
   },
   "outputs": [],
   "source": [
    "# return 0.01% of the data, i.e 10 entries\n",
    "spending_df.sample(n=10) "
   ]
  },
  {
   "cell_type": "code",
   "execution_count": null,
   "metadata": {
    "slideshow": {
     "slide_type": "slide"
    }
   },
   "outputs": [],
   "source": [
    "# We sample only 10% of the Data in each category\n",
    "\n",
    "def sample_10p(x):\n",
    "    return x.sample(frac=0.1)\n",
    "    \n",
    "    \n",
    "# spending_by_specialty.apply(sample_10p).head()\n",
    "spending_df.groupby('specialty').apply(sample_10p).head()"
   ]
  },
  {
   "cell_type": "code",
   "execution_count": null,
   "metadata": {
    "slideshow": {
     "slide_type": "slide"
    }
   },
   "outputs": [],
   "source": [
    "\n",
    "print(spending_by_specialty.get_group(\"CARDIAC ELECTROPHYSIOLOGY\").shape)\n",
    "print(spending_by_specialty.get_group(\"ANESTHESIOLOGY\").shape)\n",
    "print(spending_by_specialty.get_group(\"CARDIOLOGY\").shape)\n"
   ]
  },
  {
   "cell_type": "code",
   "execution_count": null,
   "metadata": {
    "slideshow": {
     "slide_type": "slide"
    }
   },
   "outputs": [],
   "source": [
    "subsampled_spending_df = spending_by_specialty.apply(sample_10p)\n",
    "\n",
    "print(subsampled_spending_df.loc[\"CARDIAC ELECTROPHYSIOLOGY\"].shape)\n",
    "\n",
    "print(subsampled_spending_df.loc[\"ANESTHESIOLOGY\"].shape)\n",
    "\n",
    "print(subsampled_spending_df.loc[\"CARDIOLOGY\"].shape)\n",
    "\n",
    "\n"
   ]
  },
  {
   "cell_type": "code",
   "execution_count": null,
   "metadata": {
    "slideshow": {
     "slide_type": "slide"
    }
   },
   "outputs": [],
   "source": [
    "subsampled_spending_df.head()"
   ]
  }
 ],
 "metadata": {
  "celltoolbar": "Slideshow",
  "hide_input": false,
  "kernelspec": {
   "display_name": "Python 3 (ipykernel)",
   "language": "python",
   "name": "python3"
  },
  "language_info": {
   "codemirror_mode": {
    "name": "ipython",
    "version": 3
   },
   "file_extension": ".py",
   "mimetype": "text/x-python",
   "name": "python",
   "nbconvert_exporter": "python",
   "pygments_lexer": "ipython3",
   "version": "3.8.11"
  }
 },
 "nbformat": 4,
 "nbformat_minor": 4
}
