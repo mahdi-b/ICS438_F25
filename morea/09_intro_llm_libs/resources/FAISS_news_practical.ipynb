{
 "cells": [
  {
   "cell_type": "markdown",
   "metadata": {
    "application/vnd.databricks.v1+cell": {
     "cellMetadata": {},
     "inputWidgets": {},
     "nuid": "b89cfe76-f4ab-423f-abdb-0fa82e72087c",
     "showTitle": false,
     "tableResultSettingsMap": {},
     "title": ""
    }
   },
   "source": [
    "### Embeddings, Vector Databases, and Search\n",
    "\n",
    "* Convert text into embedding vectors as the initial step in a text processing pipeline.\n",
    "* Store embedding vectors in a vector database or index to avoid recomputation and speed up retrieval.\n",
    "* Use the stored vectors to search for relevant documents based on a specific query.\n",
    "  * Convert the query to embeddign and serch for the most similar embedding.\n"
   ]
  },
  {
   "cell_type": "code",
   "execution_count": null,
   "metadata": {
    "application/vnd.databricks.v1+cell": {
     "cellMetadata": {
      "byteLimit": 2048000,
      "rowLimit": 10000
     },
     "inputWidgets": {},
     "nuid": "a826a1c9-51d9-49d3-a846-f9c3fb38bb91",
     "showTitle": false,
     "tableResultSettingsMap": {},
     "title": ""
    }
   },
   "outputs": [],
   "source": [
    "%pip install faiss-cpu -U\n",
    "%pip install sentence-transformers"
   ]
  },
  {
   "cell_type": "markdown",
   "metadata": {
    "application/vnd.databricks.v1+cell": {
     "cellMetadata": {
      "byteLimit": 2048000,
      "rowLimit": 10000
     },
     "inputWidgets": {},
     "nuid": "289eb15e-495a-4a95-9e32-f82714187da1",
     "showTitle": false,
     "tableResultSettingsMap": {},
     "title": ""
    }
   },
   "source": [
    "## Step 1: Reading data\n",
    "\n",
    "- Use data on news topics collected by the NewsCatcher, which indexes and releases news articles for open-source use.\n",
    "- The dataset is available for download on [Kaggle](https://www.kaggle.com/kotartemiy/topic-labeled-news-dataset).\n"
   ]
  },
  {
   "cell_type": "code",
   "execution_count": 1,
   "metadata": {
    "application/vnd.databricks.v1+cell": {
     "cellMetadata": {
      "byteLimit": 2048000,
      "rowLimit": 10000
     },
     "inputWidgets": {},
     "nuid": "1694cdd4-b46a-4a44-a8d5-20a2fd955e02",
     "showTitle": false,
     "tableResultSettingsMap": {},
     "title": ""
    }
   },
   "outputs": [
    {
     "name": "stdout",
     "output_type": "stream",
     "text": [
      "  % Total    % Received % Xferd  Average Speed   Time    Time     Time  Current\n",
      "                                 Dload  Upload   Total   Spent    Left  Speed\n",
      "  0     0    0     0    0     0      0      0 --:--:-- --:--:-- --:--:--     0\n",
      "100 9677k  100 9677k    0     0  5385k      0  0:00:01  0:00:01 --:--:-- 8084k\n"
     ]
    }
   ],
   "source": [
    "!curl -L -o ./archive.zip https://www.kaggle.com/api/v1/datasets/download/kotartemiy/topic-labeled-news-dataset"
   ]
  },
  {
   "cell_type": "code",
   "execution_count": 2,
   "metadata": {
    "application/vnd.databricks.v1+cell": {
     "cellMetadata": {
      "byteLimit": 2048000,
      "rowLimit": 10000
     },
     "inputWidgets": {},
     "nuid": "2d907e13-2cbc-4c15-884b-23ac3cc5626d",
     "showTitle": false,
     "tableResultSettingsMap": {},
     "title": ""
    }
   },
   "outputs": [
    {
     "name": "stdout",
     "output_type": "stream",
     "text": [
      "9.5M\tarchive.zip\n",
      "9.5M\ttotal\n"
     ]
    }
   ],
   "source": [
    "!du -sch archive.zip"
   ]
  },
  {
   "cell_type": "code",
   "execution_count": 3,
   "metadata": {
    "application/vnd.databricks.v1+cell": {
     "cellMetadata": {
      "byteLimit": 2048000,
      "rowLimit": 10000
     },
     "inputWidgets": {},
     "nuid": "da3b9293-374b-4c61-904c-103af77b8907",
     "showTitle": false,
     "tableResultSettingsMap": {},
     "title": ""
    }
   },
   "outputs": [
    {
     "name": "stdout",
     "output_type": "stream",
     "text": [
      "Archive:  archive.zip\n",
      "  inflating: labelled_newscatcher_dataset.csv  \n"
     ]
    }
   ],
   "source": [
    "!unzip archive.zip"
   ]
  },
  {
   "cell_type": "code",
   "execution_count": 4,
   "metadata": {},
   "outputs": [
    {
     "name": "stdout",
     "output_type": "stream",
     "text": [
      "topic;link;domain;published_date;title;lang\n",
      "SCIENCE;https://www.eurekalert.org/pub_releases/2020-08/dbnl-acl080620.php;eurekalert.org;2020-08-06 13:59:45;A closer look at water-splitting's solar fuel potential;en\n",
      "SCIENCE;https://www.pulse.ng/news/world/an-irresistible-scent-makes-locusts-swarm-study-finds/jy784jw;pulse.ng;2020-08-12 15:14:19;An irresistible scent makes locusts swarm, study finds;en\n",
      "SCIENCE;https://www.express.co.uk/news/science/1322607/artificial-intelligence-warning-machine-learning-algorithm-social-media-data;express.co.uk;2020-08-13 21:01:00;Artificial intelligence warning: AI will know us better than we know ourselves;en\n",
      "SCIENCE;https://www.ndtv.com/world-news/glaciers-could-have-sculpted-mars-valleys-study-2273648;ndtv.com;2020-08-03 22:18:26;Glaciers Could Have Sculpted Mars Valleys: Study;en\n",
      "SCIENCE;https://www.thesun.ie/tech/5742187/perseid-meteor-shower-tonight-time-uk-see/;thesun.ie;2020-08-12 19:54:36;Perseid meteor shower 2020: What time and how to see the huge bright FIREBALLS over UK again tonight;en\n",
      "SCIENCE;https://interestingengineering.com/nasa-releases-in-depth-map-of-beirut-explosion-damage;interestingengineering.com;2020-08-08 11:05:45;NASA Releases In-Depth Map of Beirut Explosion Damage;en\n",
      "SCIENCE;https://www.thequint.com/tech-and-auto/spacex-nasa-demo-2-rocket-launch-set-for-saturday-how-to-watch;thequint.com;2020-05-28 09:09:46;SpaceX, NASA Demo-2 Rocket Launch Set for Saturday: How to Watch;en\n",
      "SCIENCE;https://www.thespacereview.com/article/4003/1;thespacereview.com;2020-08-10 22:48:23;Orbital space tourism set for rebirth in 2021;en\n",
      "SCIENCE;https://www.businessinsider.com/greenland-melting-ice-sheet-past-tipping-point-2020-8;businessinsider.com;2020-08-16 00:28:54;Greenland's melting ice sheet has 'passed the point of no return';en\n"
     ]
    }
   ],
   "source": [
    "!head labelled_newscatcher_dataset.csv \n"
   ]
  },
  {
   "cell_type": "code",
   "execution_count": 1,
   "metadata": {
    "application/vnd.databricks.v1+cell": {
     "cellMetadata": {
      "byteLimit": 2048000,
      "rowLimit": 10000
     },
     "inputWidgets": {},
     "nuid": "222a90ee-2fd3-4e31-876a-73dbbb5066d2",
     "showTitle": false,
     "tableResultSettingsMap": {},
     "title": ""
    }
   },
   "outputs": [],
   "source": [
    "import csv\n",
    "texts = []\n",
    "with open('labelled_newscatcher_dataset.csv', 'r') as file:\n",
    "    csv_reader = csv.reader(file, delimiter=';')\n",
    "    # Skip the header row if it exists\n",
    "    header = next(csv_reader)\n",
    "    \n",
    "    # Read the remaining rows\n",
    "    for row in csv_reader:\n",
    "        texts.append(row)\n",
    "        if len(texts) == 100:\n",
    "            break\n",
    "    "
   ]
  },
  {
   "cell_type": "code",
   "execution_count": 2,
   "metadata": {},
   "outputs": [
    {
     "data": {
      "text/plain": [
       "[['SCIENCE',\n",
       "  'https://www.eurekalert.org/pub_releases/2020-08/dbnl-acl080620.php',\n",
       "  'eurekalert.org',\n",
       "  '2020-08-06 13:59:45',\n",
       "  \"A closer look at water-splitting's solar fuel potential\",\n",
       "  'en'],\n",
       " ['SCIENCE',\n",
       "  'https://www.pulse.ng/news/world/an-irresistible-scent-makes-locusts-swarm-study-finds/jy784jw',\n",
       "  'pulse.ng',\n",
       "  '2020-08-12 15:14:19',\n",
       "  'An irresistible scent makes locusts swarm, study finds',\n",
       "  'en'],\n",
       " ['SCIENCE',\n",
       "  'https://www.express.co.uk/news/science/1322607/artificial-intelligence-warning-machine-learning-algorithm-social-media-data',\n",
       "  'express.co.uk',\n",
       "  '2020-08-13 21:01:00',\n",
       "  'Artificial intelligence warning: AI will know us better than we know ourselves',\n",
       "  'en'],\n",
       " ['SCIENCE',\n",
       "  'https://www.ndtv.com/world-news/glaciers-could-have-sculpted-mars-valleys-study-2273648',\n",
       "  'ndtv.com',\n",
       "  '2020-08-03 22:18:26',\n",
       "  'Glaciers Could Have Sculpted Mars Valleys: Study',\n",
       "  'en'],\n",
       " ['SCIENCE',\n",
       "  'https://www.thesun.ie/tech/5742187/perseid-meteor-shower-tonight-time-uk-see/',\n",
       "  'thesun.ie',\n",
       "  '2020-08-12 19:54:36',\n",
       "  'Perseid meteor shower 2020: What time and how to see the huge bright FIREBALLS over UK again tonight',\n",
       "  'en'],\n",
       " ['SCIENCE',\n",
       "  'https://interestingengineering.com/nasa-releases-in-depth-map-of-beirut-explosion-damage',\n",
       "  'interestingengineering.com',\n",
       "  '2020-08-08 11:05:45',\n",
       "  'NASA Releases In-Depth Map of Beirut Explosion Damage',\n",
       "  'en'],\n",
       " ['SCIENCE',\n",
       "  'https://www.thequint.com/tech-and-auto/spacex-nasa-demo-2-rocket-launch-set-for-saturday-how-to-watch',\n",
       "  'thequint.com',\n",
       "  '2020-05-28 09:09:46',\n",
       "  'SpaceX, NASA Demo-2 Rocket Launch Set for Saturday: How to Watch',\n",
       "  'en'],\n",
       " ['SCIENCE',\n",
       "  'https://www.thespacereview.com/article/4003/1',\n",
       "  'thespacereview.com',\n",
       "  '2020-08-10 22:48:23',\n",
       "  'Orbital space tourism set for rebirth in 2021',\n",
       "  'en'],\n",
       " ['SCIENCE',\n",
       "  'https://www.businessinsider.com/greenland-melting-ice-sheet-past-tipping-point-2020-8',\n",
       "  'businessinsider.com',\n",
       "  '2020-08-16 00:28:54',\n",
       "  \"Greenland's melting ice sheet has 'passed the point of no return'\",\n",
       "  'en'],\n",
       " ['SCIENCE',\n",
       "  'https://www.thehindubusinessline.com/news/science/nasa-invites-engineering-students-to-help-harvest-water-on-mars-moon/article32352915.ece',\n",
       "  'thehindubusinessline.com',\n",
       "  '2020-08-14 07:43:25',\n",
       "  'NASA invites engineering students to help harvest water on Mars, Moon',\n",
       "  'en']]"
      ]
     },
     "execution_count": 2,
     "metadata": {},
     "output_type": "execute_result"
    }
   ],
   "source": [
    "texts[0:10]"
   ]
  },
  {
   "cell_type": "code",
   "execution_count": 3,
   "metadata": {},
   "outputs": [
    {
     "data": {
      "text/plain": [
       "[\"A closer look at water-splitting's solar fuel potential\",\n",
       " 'An irresistible scent makes locusts swarm, study finds',\n",
       " 'Artificial intelligence warning: AI will know us better than we know ourselves',\n",
       " 'Glaciers Could Have Sculpted Mars Valleys: Study',\n",
       " 'Perseid meteor shower 2020: What time and how to see the huge bright FIREBALLS over UK again tonight',\n",
       " 'NASA Releases In-Depth Map of Beirut Explosion Damage',\n",
       " 'SpaceX, NASA Demo-2 Rocket Launch Set for Saturday: How to Watch',\n",
       " 'Orbital space tourism set for rebirth in 2021',\n",
       " \"Greenland's melting ice sheet has 'passed the point of no return'\",\n",
       " 'NASA invites engineering students to help harvest water on Mars, Moon']"
      ]
     },
     "execution_count": 3,
     "metadata": {},
     "output_type": "execute_result"
    }
   ],
   "source": [
    "list(map(lambda x: x[4], texts))[0:10]"
   ]
  },
  {
   "cell_type": "markdown",
   "metadata": {
    "application/vnd.databricks.v1+cell": {
     "cellMetadata": {},
     "inputWidgets": {},
     "nuid": "25372caf-8087-48c3-a08a-d177dbad61c5",
     "showTitle": false,
     "tableResultSettingsMap": {},
     "title": ""
    }
   },
   "source": [
    "## Vector Library: FAISS\n",
    "- Vector libraries work well for small, static datasets but lack full database functionality, such as CRUD (Create, Read, Update, Delete) operations.\n",
    "- Once a vector index is built, it cannot be updated incrementally; changes require a complete rebuild of the index.\n",
    "- Vector libraries are easy to use, lightweight, and fast, making them practical for quick similarity searches.\n",
    "- Examples of vector libraries include [FAISS](https://faiss.ai/), [ScaNN](https://github.com/google-research/google-research/tree/master/scann), [ANNOY](https://github.com/spotify/annoy), and [HNSM](https://arxiv.org/abs/1603.09320).\n",
    "- FAISS supports similarity searches using metrics like L2 (Euclidean distance) and cosine similarity. More information is available on their [GitHub](https://github.com/facebookresearch/faiss/wiki/Getting-started#searching) and in their [blog post](https://engineering.fb.com/2017/03/29/data-infrastructure/faiss-a-library-for-efficient-similarity-search/).\n",
    "- For a comparison between vector libraries and databases, see this [blog post](https://weaviate.io/blog/vector-library-vs-vector-database#feature-comparison---library-versus-database)."
   ]
  },
  {
   "cell_type": "markdown",
   "metadata": {
    "application/vnd.databricks.v1+cell": {
     "cellMetadata": {},
     "inputWidgets": {},
     "nuid": "8bfa74c4-cd34-4b1d-9229-8eeddca34f94",
     "showTitle": false,
     "tableResultSettingsMap": {},
     "title": ""
    }
   },
   "source": [
    "\n",
    "The overall workflow of FAISS is captured in the diagram below. \n",
    "<img src=\"https://miro.medium.com/v2/resize:fit:1400/0*ouf0eyQskPeGWIGm\" width=700>\n",
    "Source: [How to use FAISS to build your first similarity search by Asna Shafiq](https://medium.com/loopio-tech/how-to-use-faiss-to-build-your-first-similarity-search-bf0f708aa772).\n"
   ]
  },
  {
   "cell_type": "markdown",
   "metadata": {
    "application/vnd.databricks.v1+cell": {
     "cellMetadata": {
      "byteLimit": 2048000,
      "rowLimit": 10000
     },
     "inputWidgets": {},
     "nuid": "dd21f42c-46c3-4f6a-9884-1eceafcc7555",
     "showTitle": false,
     "tableResultSettingsMap": {},
     "title": ""
    }
   },
   "source": [
    "### Step 2: Vectorize text into embedding vectors\n",
    "We will be using `Sentence-Transformers` [library](https://www.sbert.net/) to load a language model to vectorize our text into embeddings. The library hosts some of the most popular transformers on [Hugging Face Model Hub](https://huggingface.co/sentence-transformers).\n",
    "\n",
    "Here, we are using the `model = SentenceTransformer(\"all-MiniLM-L6-v2\")` to generate embeddings.\n"
   ]
  },
  {
   "cell_type": "code",
   "execution_count": 4,
   "metadata": {},
   "outputs": [
    {
     "data": {
      "text/plain": [
       "[\"A closer look at water-splitting's solar fuel potential\",\n",
       " 'An irresistible scent makes locusts swarm, study finds',\n",
       " 'Artificial intelligence warning: AI will know us better than we know ourselves',\n",
       " 'Glaciers Could Have Sculpted Mars Valleys: Study',\n",
       " 'Perseid meteor shower 2020: What time and how to see the huge bright FIREBALLS over UK again tonight',\n",
       " 'NASA Releases In-Depth Map of Beirut Explosion Damage',\n",
       " 'SpaceX, NASA Demo-2 Rocket Launch Set for Saturday: How to Watch',\n",
       " 'Orbital space tourism set for rebirth in 2021',\n",
       " \"Greenland's melting ice sheet has 'passed the point of no return'\",\n",
       " 'NASA invites engineering students to help harvest water on Mars, Moon']"
      ]
     },
     "execution_count": 4,
     "metadata": {},
     "output_type": "execute_result"
    }
   ],
   "source": [
    "titles = list(map(lambda x: x[4], texts))\n",
    "titles[0:10]"
   ]
  },
  {
   "cell_type": "code",
   "execution_count": 5,
   "metadata": {
    "application/vnd.databricks.v1+cell": {
     "cellMetadata": {
      "byteLimit": 2048000,
      "rowLimit": 10000
     },
     "inputWidgets": {},
     "nuid": "4716c049-e38b-4bd0-aa44-5430cff7bace",
     "showTitle": false,
     "tableResultSettingsMap": {},
     "title": ""
    }
   },
   "outputs": [
    {
     "name": "stderr",
     "output_type": "stream",
     "text": [
      "/Users/mahdi/miniconda3/envs/temp/lib/python3.9/importlib/__init__.py:127: LangChainDeprecationWarning: As of langchain-core 0.3.0, LangChain uses pydantic v2 internally. The langchain_core.pydantic_v1 module was a compatibility shim for pydantic v1, and should no longer be used. Please update the code to import from Pydantic directly.\n",
      "\n",
      "For example, replace imports like: `from langchain_core.pydantic_v1 import BaseModel`\n",
      "with: `from pydantic import BaseModel`\n",
      "or the v1 compatibility namespace if you are working in a code base that has not been fully upgraded to pydantic 2 yet. \tfrom pydantic.v1 import BaseModel\n",
      "\n",
      "  return _bootstrap._gcd_import(name[level:], package, level)\n",
      "/Users/mahdi/miniconda3/envs/temp/lib/python3.9/site-packages/sentence_transformers/cross_encoder/CrossEncoder.py:13: TqdmExperimentalWarning: Using `tqdm.autonotebook.tqdm` in notebook mode. Use `tqdm.tqdm` instead to force console mode (e.g. in jupyter console)\n",
      "  from tqdm.autonotebook import tqdm, trange\n"
     ]
    },
    {
     "data": {
      "application/vnd.jupyter.widget-view+json": {
       "model_id": "58b794ddebf047a7abcd4d78d9da6e42",
       "version_major": 2,
       "version_minor": 0
      },
      "text/plain": [
       "modules.json:   0%|          | 0.00/349 [00:00<?, ?B/s]"
      ]
     },
     "metadata": {},
     "output_type": "display_data"
    },
    {
     "data": {
      "application/vnd.jupyter.widget-view+json": {
       "model_id": "cd8eb8950ddf4f0da830eddc4f145681",
       "version_major": 2,
       "version_minor": 0
      },
      "text/plain": [
       "config_sentence_transformers.json:   0%|          | 0.00/116 [00:00<?, ?B/s]"
      ]
     },
     "metadata": {},
     "output_type": "display_data"
    },
    {
     "data": {
      "application/vnd.jupyter.widget-view+json": {
       "model_id": "b5ae9e5a281840cb88d6b19cdf0e2efc",
       "version_major": 2,
       "version_minor": 0
      },
      "text/plain": [
       "README.md:   0%|          | 0.00/10.7k [00:00<?, ?B/s]"
      ]
     },
     "metadata": {},
     "output_type": "display_data"
    },
    {
     "data": {
      "application/vnd.jupyter.widget-view+json": {
       "model_id": "d7c38c63a7dc4316ad617234f95f308b",
       "version_major": 2,
       "version_minor": 0
      },
      "text/plain": [
       "sentence_bert_config.json:   0%|          | 0.00/53.0 [00:00<?, ?B/s]"
      ]
     },
     "metadata": {},
     "output_type": "display_data"
    },
    {
     "name": "stderr",
     "output_type": "stream",
     "text": [
      "/Users/mahdi/miniconda3/envs/temp/lib/python3.9/site-packages/huggingface_hub/file_download.py:1142: FutureWarning: `resume_download` is deprecated and will be removed in version 1.0.0. Downloads always resume when possible. If you want to force a new download, use `force_download=True`.\n",
      "  warnings.warn(\n"
     ]
    },
    {
     "data": {
      "application/vnd.jupyter.widget-view+json": {
       "model_id": "4edc5c35d8ba4205a516e7bc25c5fcc1",
       "version_major": 2,
       "version_minor": 0
      },
      "text/plain": [
       "config.json:   0%|          | 0.00/612 [00:00<?, ?B/s]"
      ]
     },
     "metadata": {},
     "output_type": "display_data"
    },
    {
     "data": {
      "application/vnd.jupyter.widget-view+json": {
       "model_id": "b17570d7b08f4e88b1eb114599cb7052",
       "version_major": 2,
       "version_minor": 0
      },
      "text/plain": [
       "model.safetensors:   0%|          | 0.00/90.9M [00:00<?, ?B/s]"
      ]
     },
     "metadata": {},
     "output_type": "display_data"
    },
    {
     "data": {
      "application/vnd.jupyter.widget-view+json": {
       "model_id": "b5267a3fbe1449e79b9b3dfb07d46323",
       "version_major": 2,
       "version_minor": 0
      },
      "text/plain": [
       "tokenizer_config.json:   0%|          | 0.00/350 [00:00<?, ?B/s]"
      ]
     },
     "metadata": {},
     "output_type": "display_data"
    },
    {
     "data": {
      "application/vnd.jupyter.widget-view+json": {
       "model_id": "f9a3039850cf4c9e96a64d335a206865",
       "version_major": 2,
       "version_minor": 0
      },
      "text/plain": [
       "vocab.txt:   0%|          | 0.00/232k [00:00<?, ?B/s]"
      ]
     },
     "metadata": {},
     "output_type": "display_data"
    },
    {
     "data": {
      "application/vnd.jupyter.widget-view+json": {
       "model_id": "7892d3a3e26f4caf9c46b865670746bf",
       "version_major": 2,
       "version_minor": 0
      },
      "text/plain": [
       "tokenizer.json:   0%|          | 0.00/466k [00:00<?, ?B/s]"
      ]
     },
     "metadata": {},
     "output_type": "display_data"
    },
    {
     "data": {
      "application/vnd.jupyter.widget-view+json": {
       "model_id": "586176014e6b4fd6915827935976c8cf",
       "version_major": 2,
       "version_minor": 0
      },
      "text/plain": [
       "special_tokens_map.json:   0%|          | 0.00/112 [00:00<?, ?B/s]"
      ]
     },
     "metadata": {},
     "output_type": "display_data"
    },
    {
     "data": {
      "application/vnd.jupyter.widget-view+json": {
       "model_id": "28bc1aa3d5b44bb29d29c2c11724200d",
       "version_major": 2,
       "version_minor": 0
      },
      "text/plain": [
       "1_Pooling/config.json:   0%|          | 0.00/190 [00:00<?, ?B/s]"
      ]
     },
     "metadata": {},
     "output_type": "display_data"
    }
   ],
   "source": [
    "from langchain_community.embeddings import HuggingFaceEmbeddings\n",
    "embeddings = HuggingFaceEmbeddings(\n",
    "    model_name=\"all-MiniLM-L6-v2\",\n",
    "    cache_folder=\"./\",\n",
    "    model_kwargs={'device': 'cpu'}  # Use 'cuda' if you want to use GPU\n",
    ")"
   ]
  },
  {
   "cell_type": "markdown",
   "metadata": {
    "application/vnd.databricks.v1+cell": {
     "cellMetadata": {
      "byteLimit": 2048000,
      "rowLimit": 10000
     },
     "inputWidgets": {},
     "nuid": "f18825d8-2a40-4026-8651-7b78003da6fb",
     "showTitle": false,
     "tableResultSettingsMap": {},
     "title": ""
    }
   },
   "source": [
    "### Step 3: Saving embedding vectors to FAISS index\n",
    "Below, we create the FAISS index object based on our embedding vectors, normalize vectors, and add these vectors to the FAISS index. \n"
   ]
  },
  {
   "cell_type": "code",
   "execution_count": 6,
   "metadata": {},
   "outputs": [
    {
     "data": {
      "text/plain": [
       "Document(metadata={}, page_content=\"A closer look at water-splitting's solar fuel potential\")"
      ]
     },
     "execution_count": 6,
     "metadata": {},
     "output_type": "execute_result"
    }
   ],
   "source": [
    "from langchain_core.documents import Document\n",
    "\n",
    "docs = [Document(page_content=text) for text in titles]\n",
    "docs[0]"
   ]
  },
  {
   "cell_type": "code",
   "execution_count": 7,
   "metadata": {},
   "outputs": [],
   "source": [
    "from langchain_community.vectorstores import FAISS\n",
    "db = FAISS.from_documents(docs, embeddings, distance_strategy=\"METRIC_COSINE\")"
   ]
  },
  {
   "cell_type": "markdown",
   "metadata": {
    "application/vnd.databricks.v1+cell": {
     "cellMetadata": {},
     "inputWidgets": {},
     "nuid": "d37a7c03-8188-4d52-adce-eba2bab3b642",
     "showTitle": false,
     "tableResultSettingsMap": {},
     "title": ""
    }
   },
   "source": [
    "## Step 4: Search for relevant documents\n",
    "We define a search function below to first vectorize our query text, and then search for the vectors with the closest distance. \n"
   ]
  },
  {
   "cell_type": "code",
   "execution_count": 8,
   "metadata": {
    "application/vnd.databricks.v1+cell": {
     "cellMetadata": {
      "byteLimit": 2048000,
      "rowLimit": 10000
     },
     "inputWidgets": {},
     "nuid": "65602ee1-2b7a-4624-aa8b-aed478c966f2",
     "showTitle": false,
     "tableResultSettingsMap": {},
     "title": ""
    }
   },
   "outputs": [
    {
     "data": {
      "text/plain": [
       "[Document(metadata={}, page_content='Maserati unveils Trofeo super sedans'),\n",
       " Document(metadata={}, page_content='Xiaomi patents a phone with a detachable display')]"
      ]
     },
     "execution_count": 8,
     "metadata": {},
     "output_type": "execute_result"
    }
   ],
   "source": [
    "query = \"The Maserati company is unveiling a new car\"\n",
    "docs = db.similarity_search(query, k=2)\n",
    "docs"
   ]
  },
  {
   "cell_type": "code",
   "execution_count": 9,
   "metadata": {},
   "outputs": [
    {
     "data": {
      "text/plain": [
       "[(Document(metadata={}, page_content='Maserati unveils Trofeo super sedans'),\n",
       "  0.89076364),\n",
       " (Document(metadata={}, page_content='Xiaomi patents a phone with a detachable display'),\n",
       "  1.5669622)]"
      ]
     },
     "execution_count": 9,
     "metadata": {},
     "output_type": "execute_result"
    }
   ],
   "source": [
    "docs_and_dist = db.similarity_search_with_score(query, k=2)\n",
    "docs_and_dist"
   ]
  },
  {
   "cell_type": "markdown",
   "metadata": {},
   "source": [
    "## Alternative Method"
   ]
  },
  {
   "cell_type": "code",
   "execution_count": 16,
   "metadata": {},
   "outputs": [
    {
     "data": {
      "text/plain": [
       "100"
      ]
     },
     "execution_count": 16,
     "metadata": {},
     "output_type": "execute_result"
    }
   ],
   "source": [
    "from langchain_community.vectorstores import FAISS\n",
    "import numpy as np\n",
    "\n",
    "text_embeddings = embeddings.embed_documents(titles)\n",
    "\n",
    "len(text_embeddings)"
   ]
  },
  {
   "cell_type": "code",
   "execution_count": 17,
   "metadata": {},
   "outputs": [
    {
     "data": {
      "text/plain": [
       "384"
      ]
     },
     "execution_count": 17,
     "metadata": {},
     "output_type": "execute_result"
    }
   ],
   "source": [
    "len(text_embeddings[0])"
   ]
  },
  {
   "cell_type": "code",
   "execution_count": 20,
   "metadata": {},
   "outputs": [
    {
     "data": {
      "text/plain": [
       "100"
      ]
     },
     "execution_count": 20,
     "metadata": {},
     "output_type": "execute_result"
    }
   ],
   "source": [
    "# Normalize the embeddings\n",
    "normalized_embeddings = [embedding / np.linalg.norm(embedding) for embedding in text_embeddings]\n",
    "\n",
    "len(normalized_embeddings)"
   ]
  },
  {
   "cell_type": "code",
   "execution_count": 23,
   "metadata": {},
   "outputs": [
    {
     "data": {
      "text/plain": [
       "1.0"
      ]
     },
     "execution_count": 23,
     "metadata": {},
     "output_type": "execute_result"
    }
   ],
   "source": [
    "\n",
    "sum(normalized_embeddings[0]**2)"
   ]
  },
  {
   "cell_type": "code",
   "execution_count": 26,
   "metadata": {},
   "outputs": [],
   "source": [
    "import faiss\n",
    "dimension = len(normalized_embeddings[0])\n",
    "index = faiss.IndexFlatIP(dimension)  # Here, IP stands for Inner Product\n",
    "\n"
   ]
  },
  {
   "cell_type": "code",
   "execution_count": 27,
   "metadata": {},
   "outputs": [
    {
     "data": {
      "text/plain": [
       "<faiss.swigfaiss.IndexFlatIP; proxy of <Swig Object of type 'faiss::IndexFlatIP *' at 0x336710b40> >"
      ]
     },
     "execution_count": 27,
     "metadata": {},
     "output_type": "execute_result"
    }
   ],
   "source": [
    "index.add(np.array(normalized_embeddings).astype('float32'))\n",
    "index\n"
   ]
  },
  {
   "cell_type": "code",
   "execution_count": 34,
   "metadata": {},
   "outputs": [],
   "source": [
    "db = FAISS.from_texts(\n",
    "    texts=texts,\n",
    "    embedding=embeddings,\n",
    "    metadatas=[doc.metadata for doc in docs]\n",
    ")"
   ]
  },
  {
   "cell_type": "code",
   "execution_count": 36,
   "metadata": {},
   "outputs": [
    {
     "name": "stdout",
     "output_type": "stream",
     "text": [
      "Content: Maserati unveils Trofeo super sedans\n",
      "Similarity: 0.8907636404037476\n",
      "Content: Xiaomi patents a phone with a detachable display\n",
      "Similarity: 1.5669622421264648\n"
     ]
    }
   ],
   "source": [
    "# When searching\n",
    "query_embedding = embeddings.embed_query(query)\n",
    "query_embedding = query_embedding / np.linalg.norm(query_embedding)  # Normalize query vector\n",
    "docs_and_dist = db.similarity_search_with_score(query, k=2)\n",
    "\n",
    "for doc, dist in docs_and_dist:\n",
    "    print(f\"Content: {doc.page_content}\")\n",
    "    print(f\"Similarity: {dist}\")"
   ]
  },
  {
   "cell_type": "code",
   "execution_count": null,
   "metadata": {},
   "outputs": [],
   "source": []
  }
 ],
 "metadata": {
  "application/vnd.databricks.v1+notebook": {
   "dashboards": [],
   "environmentMetadata": null,
   "language": "python",
   "notebookMetadata": {
    "pythonIndentUnit": 2
   },
   "notebookName": "Using",
   "widgets": {}
  },
  "kernelspec": {
   "display_name": "Python 3 (ipykernel)",
   "language": "python",
   "name": "python3"
  },
  "language_info": {
   "codemirror_mode": {
    "name": "ipython",
    "version": 3
   },
   "file_extension": ".py",
   "mimetype": "text/x-python",
   "name": "python",
   "nbconvert_exporter": "python",
   "pygments_lexer": "ipython3",
   "version": "3.9.16"
  }
 },
 "nbformat": 4,
 "nbformat_minor": 4
}
