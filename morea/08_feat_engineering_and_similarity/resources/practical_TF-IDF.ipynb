{
 "cells": [
  {
   "cell_type": "code",
   "execution_count": 1,
   "id": "32",
   "metadata": {
    "slideshow": {
     "slide_type": "slide"
    }
   },
   "outputs": [
    {
     "data": {
      "text/plain": [
       "\"the king hath happily received, macbeth, the news of thy success; and when he reads. thy personal \\nventure in the rebels' fight, his wonders and his praises do contend which should  be thine or his: silenced \\nwith that, in viewing o'er the rest o' the selfsame day, he finds thee in the stout norweyan ranks, nothing\\nafeard of what thyself didst make, strange images of death. as thick as hail came post with post; and every\\none did bear thy praises in his kingdom's great defence, and pour'd them down before him.\""
      ]
     },
     "execution_count": 1,
     "metadata": {},
     "output_type": "execute_result"
    }
   ],
   "source": [
    "doc_1 = \"\"\"The king hath happily received, Macbeth, The news of thy success; and when he reads. Thy personal \n",
    "venture in the rebels' fight, His wonders and his praises do contend Which should  be thine or his: silenced \n",
    "with that, In viewing o'er the rest o' the selfsame day, He finds thee in the stout Norweyan ranks, Nothing\n",
    "afeard of what thyself didst make, Strange images of death. As thick as hail Came post with post; and every\n",
    "one did bear Thy praises in his kingdom's great defence, And pour'd them down before him.\"\"\"\n",
    "\n",
    "doc_1 = doc_1.lower()\n",
    "doc_1"
   ]
  },
  {
   "cell_type": "code",
   "execution_count": 2,
   "id": "33",
   "metadata": {},
   "outputs": [
    {
     "data": {
      "text/plain": [
       "\"the king was really happy to hear about your success, macbeth. \\nwhen he read about your brave actions fighting the rebels, he was so impressed he couldn't\\ndecide who to praise more, you or himself. that same day, he noticed you also stood bravely\\nagainst the norwegians and not scared at all, even when facing dangerous situations. many\\nmessengers came, one after the other, all of them talking about how great you were in defending\\nthe kingdom. they all praised you in front of the king.\""
      ]
     },
     "execution_count": 2,
     "metadata": {},
     "output_type": "execute_result"
    }
   ],
   "source": [
    "doc_2 =  \"\"\"The king was really happy to hear about your success, Macbeth. \n",
    "When he read about your brave actions fighting the rebels, he was so impressed he couldn't\n",
    "decide who to praise more, you or himself. That same day, he noticed you also stood bravely\n",
    "against the Norwegians and not scared at all, even when facing dangerous situations. Many\n",
    "messengers came, one after the other, all of them talking about how great you were in defending\n",
    "the kingdom. They all praised you in front of the king.\"\"\"\n",
    "\n",
    "doc_2 = doc_2.lower()\n",
    "doc_2"
   ]
  },
  {
   "cell_type": "code",
   "execution_count": 3,
   "id": "34",
   "metadata": {},
   "outputs": [
    {
     "data": {
      "text/plain": [
       "'lorem ipsum dolor sit amet, consectetur adipiscing elit, sed do eiusmod tempor \\nincididunt ut labore et dolore magna aliqua. ut enim ad minim veniam, quis nostrud exercitation ullamco laboris \\nnisi ut aliquip ex ea commodo consequat. ut  enim ad minim veniam, quis nostrud exercitation ullamco laboris \\nnisi ut aliquip ex ea commodo consequat.'"
      ]
     },
     "execution_count": 3,
     "metadata": {},
     "output_type": "execute_result"
    }
   ],
   "source": [
    "lorem_ipsum = \"\"\"Lorem ipsum dolor sit amet, consectetur adipiscing elit, sed do eiusmod tempor \n",
    "incididunt ut labore et dolore magna aliqua. Ut enim ad minim veniam, quis nostrud exercitation ullamco laboris \n",
    "nisi ut aliquip ex ea commodo consequat. Ut  enim ad minim veniam, quis nostrud exercitation ullamco laboris \n",
    "nisi ut aliquip ex ea commodo consequat.\"\"\"\n",
    "lorem_ipsum = lorem_ipsum.lower()\n",
    "lorem_ipsum\n"
   ]
  },
  {
   "cell_type": "code",
   "execution_count": 4,
   "id": "35",
   "metadata": {},
   "outputs": [],
   "source": [
    "corpus = [doc_1, doc_2,  doc_1 + lorem_ipsum]"
   ]
  },
  {
   "cell_type": "code",
   "execution_count": 5,
   "id": "36",
   "metadata": {},
   "outputs": [
    {
     "name": "stdout",
     "output_type": "stream",
     "text": [
      "the king hath happily received, macbeth, the news of thy success; and when he reads. thy personal \n",
      "venture in the rebels' fight, his wonders and his praises do contend which should  be thine or his: silenced \n",
      "with that, in viewing o'er the rest o' the selfsame day, he finds thee in the stout norweyan ranks, nothing\n",
      "afeard of what thyself didst make, strange images of death. as thick as hail came post with post; and every\n",
      "one did bear thy praises in his kingdom's great defence, and pour'd them down before him.\n",
      "\n",
      "\n",
      "the king was really happy to hear about your success, macbeth. \n",
      "when he read about your brave actions fighting the rebels, he was so impressed he couldn't\n",
      "decide who to praise more, you or himself. that same day, he noticed you also stood bravely\n",
      "against the norwegians and not scared at all, even when facing dangerous situations. many\n",
      "messengers came, one after the other, all of them talking about how great you were in defending\n",
      "the kingdom. they all praised you in front of the king.\n",
      "\n",
      "\n",
      "the king hath happily received, macbeth, the news of thy success; and when he reads. thy personal \n",
      "venture in the rebels' fight, his wonders and his praises do contend which should  be thine or his: silenced \n",
      "with that, in viewing o'er the rest o' the selfsame day, he finds thee in the stout norweyan ranks, nothing\n",
      "afeard of what thyself didst make, strange images of death. as thick as hail came post with post; and every\n",
      "one did bear thy praises in his kingdom's great defence, and pour'd them down before him.lorem ipsum dolor sit amet, consectetur adipiscing elit, sed do eiusmod tempor \n",
      "incididunt ut labore et dolore magna aliqua. ut enim ad minim veniam, quis nostrud exercitation ullamco laboris \n",
      "nisi ut aliquip ex ea commodo consequat. ut  enim ad minim veniam, quis nostrud exercitation ullamco laboris \n",
      "nisi ut aliquip ex ea commodo consequat.\n"
     ]
    }
   ],
   "source": [
    "print(\"\\n\\n\\n\".join(corpus))"
   ]
  },
  {
   "cell_type": "code",
   "execution_count": null,
   "id": "9a8e553a",
   "metadata": {},
   "outputs": [],
   "source": [
    "### Question 1. \n",
    "Run every cell below and print the output to see what it does"
   ]
  },
  {
   "cell_type": "code",
   "execution_count": 16,
   "id": "38",
   "metadata": {},
   "outputs": [],
   "source": [
    "\n",
    "from sklearn.feature_extraction.text import CountVectorizer\n",
    "\n",
    "from sklearn.feature_extraction.text import TfidfVectorizer\n",
    "\n",
    "from sklearn.pipeline import Pipeline\n"
   ]
  },
  {
   "cell_type": "code",
   "execution_count": 17,
   "id": "96bcd10f",
   "metadata": {},
   "outputs": [],
   "source": [
    "vocabulary = ['king', 'happily', 'and', \"thy\", \"ipsum\", \"laboris\"]\n"
   ]
  },
  {
   "cell_type": "code",
   "execution_count": 19,
   "id": "39",
   "metadata": {},
   "outputs": [
    {
     "data": {
      "text/html": [
       "<style>#sk-container-id-1 {color: black;}#sk-container-id-1 pre{padding: 0;}#sk-container-id-1 div.sk-toggleable {background-color: white;}#sk-container-id-1 label.sk-toggleable__label {cursor: pointer;display: block;width: 100%;margin-bottom: 0;padding: 0.3em;box-sizing: border-box;text-align: center;}#sk-container-id-1 label.sk-toggleable__label-arrow:before {content: \"▸\";float: left;margin-right: 0.25em;color: #696969;}#sk-container-id-1 label.sk-toggleable__label-arrow:hover:before {color: black;}#sk-container-id-1 div.sk-estimator:hover label.sk-toggleable__label-arrow:before {color: black;}#sk-container-id-1 div.sk-toggleable__content {max-height: 0;max-width: 0;overflow: hidden;text-align: left;background-color: #f0f8ff;}#sk-container-id-1 div.sk-toggleable__content pre {margin: 0.2em;color: black;border-radius: 0.25em;background-color: #f0f8ff;}#sk-container-id-1 input.sk-toggleable__control:checked~div.sk-toggleable__content {max-height: 200px;max-width: 100%;overflow: auto;}#sk-container-id-1 input.sk-toggleable__control:checked~label.sk-toggleable__label-arrow:before {content: \"▾\";}#sk-container-id-1 div.sk-estimator input.sk-toggleable__control:checked~label.sk-toggleable__label {background-color: #d4ebff;}#sk-container-id-1 div.sk-label input.sk-toggleable__control:checked~label.sk-toggleable__label {background-color: #d4ebff;}#sk-container-id-1 input.sk-hidden--visually {border: 0;clip: rect(1px 1px 1px 1px);clip: rect(1px, 1px, 1px, 1px);height: 1px;margin: -1px;overflow: hidden;padding: 0;position: absolute;width: 1px;}#sk-container-id-1 div.sk-estimator {font-family: monospace;background-color: #f0f8ff;border: 1px dotted black;border-radius: 0.25em;box-sizing: border-box;margin-bottom: 0.5em;}#sk-container-id-1 div.sk-estimator:hover {background-color: #d4ebff;}#sk-container-id-1 div.sk-parallel-item::after {content: \"\";width: 100%;border-bottom: 1px solid gray;flex-grow: 1;}#sk-container-id-1 div.sk-label:hover label.sk-toggleable__label {background-color: #d4ebff;}#sk-container-id-1 div.sk-serial::before {content: \"\";position: absolute;border-left: 1px solid gray;box-sizing: border-box;top: 0;bottom: 0;left: 50%;z-index: 0;}#sk-container-id-1 div.sk-serial {display: flex;flex-direction: column;align-items: center;background-color: white;padding-right: 0.2em;padding-left: 0.2em;position: relative;}#sk-container-id-1 div.sk-item {position: relative;z-index: 1;}#sk-container-id-1 div.sk-parallel {display: flex;align-items: stretch;justify-content: center;background-color: white;position: relative;}#sk-container-id-1 div.sk-item::before, #sk-container-id-1 div.sk-parallel-item::before {content: \"\";position: absolute;border-left: 1px solid gray;box-sizing: border-box;top: 0;bottom: 0;left: 50%;z-index: -1;}#sk-container-id-1 div.sk-parallel-item {display: flex;flex-direction: column;z-index: 1;position: relative;background-color: white;}#sk-container-id-1 div.sk-parallel-item:first-child::after {align-self: flex-end;width: 50%;}#sk-container-id-1 div.sk-parallel-item:last-child::after {align-self: flex-start;width: 50%;}#sk-container-id-1 div.sk-parallel-item:only-child::after {width: 0;}#sk-container-id-1 div.sk-dashed-wrapped {border: 1px dashed gray;margin: 0 0.4em 0.5em 0.4em;box-sizing: border-box;padding-bottom: 0.4em;background-color: white;}#sk-container-id-1 div.sk-label label {font-family: monospace;font-weight: bold;display: inline-block;line-height: 1.2em;}#sk-container-id-1 div.sk-label-container {text-align: center;}#sk-container-id-1 div.sk-container {/* jupyter's `normalize.less` sets `[hidden] { display: none; }` but bootstrap.min.css set `[hidden] { display: none !important; }` so we also need the `!important` here to be able to override the default hidden behavior on the sphinx rendered scikit-learn.org. See: https://github.com/scikit-learn/scikit-learn/issues/21755 */display: inline-block !important;position: relative;}#sk-container-id-1 div.sk-text-repr-fallback {display: none;}</style><div id=\"sk-container-id-1\" class=\"sk-top-container\"><div class=\"sk-text-repr-fallback\"><pre>CountVectorizer(vocabulary=[&#x27;king&#x27;, &#x27;happily&#x27;, &#x27;and&#x27;, &#x27;thy&#x27;, &#x27;ipsum&#x27;,\n",
       "                            &#x27;laboris&#x27;])</pre><b>In a Jupyter environment, please rerun this cell to show the HTML representation or trust the notebook. <br />On GitHub, the HTML representation is unable to render, please try loading this page with nbviewer.org.</b></div><div class=\"sk-container\" hidden><div class=\"sk-item\"><div class=\"sk-estimator sk-toggleable\"><input class=\"sk-toggleable__control sk-hidden--visually\" id=\"sk-estimator-id-1\" type=\"checkbox\" checked><label for=\"sk-estimator-id-1\" class=\"sk-toggleable__label sk-toggleable__label-arrow\">CountVectorizer</label><div class=\"sk-toggleable__content\"><pre>CountVectorizer(vocabulary=[&#x27;king&#x27;, &#x27;happily&#x27;, &#x27;and&#x27;, &#x27;thy&#x27;, &#x27;ipsum&#x27;,\n",
       "                            &#x27;laboris&#x27;])</pre></div></div></div></div></div>"
      ],
      "text/plain": [
       "CountVectorizer(vocabulary=['king', 'happily', 'and', 'thy', 'ipsum',\n",
       "                            'laboris'])"
      ]
     },
     "execution_count": 19,
     "metadata": {},
     "output_type": "execute_result"
    }
   ],
   "source": [
    "c_vec = CountVectorizer(vocabulary=vocabulary)\n",
    "c_vec"
   ]
  },
  {
   "cell_type": "code",
   "execution_count": 20,
   "id": "40",
   "metadata": {},
   "outputs": [
    {
     "data": {
      "text/plain": [
       "matrix([[1, 1, 4, 3, 0, 0],\n",
       "        [2, 0, 1, 0, 0, 0],\n",
       "        [1, 1, 4, 3, 1, 2]])"
      ]
     },
     "execution_count": 20,
     "metadata": {},
     "output_type": "execute_result"
    }
   ],
   "source": [
    "c_vec.fit_transform(corpus).todense()"
   ]
  },
  {
   "cell_type": "code",
   "execution_count": 21,
   "id": "41",
   "metadata": {},
   "outputs": [
    {
     "data": {
      "text/plain": [
       "[1, 1, 4, 3, 0, 0]"
      ]
     },
     "execution_count": 21,
     "metadata": {},
     "output_type": "execute_result"
    }
   ],
   "source": [
    "[corpus[0].lower().split().count(v) for v in vocabulary]"
   ]
  },
  {
   "cell_type": "code",
   "execution_count": 23,
   "id": "42",
   "metadata": {},
   "outputs": [
    {
     "data": {
      "text/html": [
       "<style>#sk-container-id-2 {color: black;}#sk-container-id-2 pre{padding: 0;}#sk-container-id-2 div.sk-toggleable {background-color: white;}#sk-container-id-2 label.sk-toggleable__label {cursor: pointer;display: block;width: 100%;margin-bottom: 0;padding: 0.3em;box-sizing: border-box;text-align: center;}#sk-container-id-2 label.sk-toggleable__label-arrow:before {content: \"▸\";float: left;margin-right: 0.25em;color: #696969;}#sk-container-id-2 label.sk-toggleable__label-arrow:hover:before {color: black;}#sk-container-id-2 div.sk-estimator:hover label.sk-toggleable__label-arrow:before {color: black;}#sk-container-id-2 div.sk-toggleable__content {max-height: 0;max-width: 0;overflow: hidden;text-align: left;background-color: #f0f8ff;}#sk-container-id-2 div.sk-toggleable__content pre {margin: 0.2em;color: black;border-radius: 0.25em;background-color: #f0f8ff;}#sk-container-id-2 input.sk-toggleable__control:checked~div.sk-toggleable__content {max-height: 200px;max-width: 100%;overflow: auto;}#sk-container-id-2 input.sk-toggleable__control:checked~label.sk-toggleable__label-arrow:before {content: \"▾\";}#sk-container-id-2 div.sk-estimator input.sk-toggleable__control:checked~label.sk-toggleable__label {background-color: #d4ebff;}#sk-container-id-2 div.sk-label input.sk-toggleable__control:checked~label.sk-toggleable__label {background-color: #d4ebff;}#sk-container-id-2 input.sk-hidden--visually {border: 0;clip: rect(1px 1px 1px 1px);clip: rect(1px, 1px, 1px, 1px);height: 1px;margin: -1px;overflow: hidden;padding: 0;position: absolute;width: 1px;}#sk-container-id-2 div.sk-estimator {font-family: monospace;background-color: #f0f8ff;border: 1px dotted black;border-radius: 0.25em;box-sizing: border-box;margin-bottom: 0.5em;}#sk-container-id-2 div.sk-estimator:hover {background-color: #d4ebff;}#sk-container-id-2 div.sk-parallel-item::after {content: \"\";width: 100%;border-bottom: 1px solid gray;flex-grow: 1;}#sk-container-id-2 div.sk-label:hover label.sk-toggleable__label {background-color: #d4ebff;}#sk-container-id-2 div.sk-serial::before {content: \"\";position: absolute;border-left: 1px solid gray;box-sizing: border-box;top: 0;bottom: 0;left: 50%;z-index: 0;}#sk-container-id-2 div.sk-serial {display: flex;flex-direction: column;align-items: center;background-color: white;padding-right: 0.2em;padding-left: 0.2em;position: relative;}#sk-container-id-2 div.sk-item {position: relative;z-index: 1;}#sk-container-id-2 div.sk-parallel {display: flex;align-items: stretch;justify-content: center;background-color: white;position: relative;}#sk-container-id-2 div.sk-item::before, #sk-container-id-2 div.sk-parallel-item::before {content: \"\";position: absolute;border-left: 1px solid gray;box-sizing: border-box;top: 0;bottom: 0;left: 50%;z-index: -1;}#sk-container-id-2 div.sk-parallel-item {display: flex;flex-direction: column;z-index: 1;position: relative;background-color: white;}#sk-container-id-2 div.sk-parallel-item:first-child::after {align-self: flex-end;width: 50%;}#sk-container-id-2 div.sk-parallel-item:last-child::after {align-self: flex-start;width: 50%;}#sk-container-id-2 div.sk-parallel-item:only-child::after {width: 0;}#sk-container-id-2 div.sk-dashed-wrapped {border: 1px dashed gray;margin: 0 0.4em 0.5em 0.4em;box-sizing: border-box;padding-bottom: 0.4em;background-color: white;}#sk-container-id-2 div.sk-label label {font-family: monospace;font-weight: bold;display: inline-block;line-height: 1.2em;}#sk-container-id-2 div.sk-label-container {text-align: center;}#sk-container-id-2 div.sk-container {/* jupyter's `normalize.less` sets `[hidden] { display: none; }` but bootstrap.min.css set `[hidden] { display: none !important; }` so we also need the `!important` here to be able to override the default hidden behavior on the sphinx rendered scikit-learn.org. See: https://github.com/scikit-learn/scikit-learn/issues/21755 */display: inline-block !important;position: relative;}#sk-container-id-2 div.sk-text-repr-fallback {display: none;}</style><div id=\"sk-container-id-2\" class=\"sk-top-container\"><div class=\"sk-text-repr-fallback\"><pre>TfidfVectorizer(vocabulary=[&#x27;king&#x27;, &#x27;happily&#x27;, &#x27;and&#x27;, &#x27;thy&#x27;, &#x27;ipsum&#x27;,\n",
       "                            &#x27;laboris&#x27;])</pre><b>In a Jupyter environment, please rerun this cell to show the HTML representation or trust the notebook. <br />On GitHub, the HTML representation is unable to render, please try loading this page with nbviewer.org.</b></div><div class=\"sk-container\" hidden><div class=\"sk-item\"><div class=\"sk-estimator sk-toggleable\"><input class=\"sk-toggleable__control sk-hidden--visually\" id=\"sk-estimator-id-2\" type=\"checkbox\" checked><label for=\"sk-estimator-id-2\" class=\"sk-toggleable__label sk-toggleable__label-arrow\">TfidfVectorizer</label><div class=\"sk-toggleable__content\"><pre>TfidfVectorizer(vocabulary=[&#x27;king&#x27;, &#x27;happily&#x27;, &#x27;and&#x27;, &#x27;thy&#x27;, &#x27;ipsum&#x27;,\n",
       "                            &#x27;laboris&#x27;])</pre></div></div></div></div></div>"
      ],
      "text/plain": [
       "TfidfVectorizer(vocabulary=['king', 'happily', 'and', 'thy', 'ipsum',\n",
       "                            'laboris'])"
      ]
     },
     "execution_count": 23,
     "metadata": {},
     "output_type": "execute_result"
    }
   ],
   "source": [
    "tfidf_vec = TfidfVectorizer(vocabulary=vocabulary)\n",
    "tfidf_vec"
   ]
  },
  {
   "cell_type": "code",
   "execution_count": 24,
   "id": "43",
   "metadata": {},
   "outputs": [
    {
     "data": {
      "text/plain": [
       "<3x6 sparse matrix of type '<class 'numpy.float64'>'\n",
       "\twith 12 stored elements in Compressed Sparse Row format>"
      ]
     },
     "execution_count": 24,
     "metadata": {},
     "output_type": "execute_result"
    }
   ],
   "source": [
    "tfidf_vec.fit_transform(corpus)"
   ]
  },
  {
   "cell_type": "code",
   "execution_count": 25,
   "id": "44",
   "metadata": {},
   "outputs": [
    {
     "data": {
      "text/plain": [
       "array([[0.17, 0.22, 0.69, 0.67, 0.  , 0.  ],\n",
       "       [0.89, 0.  , 0.45, 0.  , 0.  , 0.  ],\n",
       "       [0.14, 0.19, 0.58, 0.56, 0.24, 0.49]])"
      ]
     },
     "execution_count": 25,
     "metadata": {},
     "output_type": "execute_result"
    }
   ],
   "source": [
    "tfidf_vec.fit_transform(corpus).todense().round(2)"
   ]
  },
  {
   "cell_type": "markdown",
   "id": "bca76dd1",
   "metadata": {},
   "source": [
    "### Qustion 2\n",
    "\n",
    "* Your task is to implement the TF-IDF (Term Frequency-Inverse Document Frequency) calculation from scratch. You need to write three functions that work together to compute TF-IDF values that match scikit-learn's TfidfVectorizer results.\n",
    "\n",
    "* Implement `compute_tf(term, document)`:\n",
    "\n",
    "* Input: A term (string) and a document (string)\n",
    "* Output: Term frequency (float)\n",
    "* Steps:\n",
    "\n",
    "  * Use tokenize() to get words from document\n",
    "  * Count how many times the term appears\n",
    "  * Divide by total number of words\n",
    "  * Handle case of empty document (return 0)\n",
    "\n",
    "\n",
    "\n",
    "\n",
    "* Then implement compute_idf(term, documents):\n",
    "\n",
    "* Input: A term (string) and list of documents (list of strings)\n",
    "* Output: IDF score (float)\n",
    "* Formula: $log((1 + N)/(1 + df)) + 1$\n",
    "\n",
    "N = total number of documents\n",
    "df = number of documents containing the term\n",
    "\n",
    "\n",
    "Steps:\n",
    "\n",
    "  * Count total documents (N)\n",
    "  * Count documents containing term (df)\n",
    "  * Apply IDF formula\n",
    "\n",
    "\n",
    "\n",
    "\n",
    "* Finally, implement compute_tf_idf(document, terms, documents):\n",
    "\n",
    "* Inputs:\n",
    " \n",
    "  * document: String to analyze\n",
    "  * terms: List of terms to compute TF-IDF for\n",
    "  * documents: Full corpus of documents\n",
    "* Output: List of normalized TF-IDF scores\n",
    "\n",
    "* Steps\n",
    "\n",
    "  * Compute IDF scores for all terms inside this function\n",
    "  * Calculate TF-IDF for each term\n",
    "  * Apply L2 normalization\n",
    "  * Round to 2 decimal places\n",
    "\n",
    "\n"
   ]
  },
  {
   "cell_type": "code",
   "execution_count": null,
   "id": "1ff45439",
   "metadata": {},
   "outputs": [],
   "source": []
  },
  {
   "cell_type": "code",
   "execution_count": 27,
   "id": "45",
   "metadata": {},
   "outputs": [
    {
     "name": "stdout",
     "output_type": "stream",
     "text": [
      "[0.17, 0.22, 0.69, 0.67, 0.0, 0.0]\n",
      "[0.89, 0.0, 0.45, 0.0, 0.0, 0.0]\n",
      "[0.14, 0.19, 0.58, 0.56, 0.24, 0.49]\n"
     ]
    }
   ],
   "source": [
    "import math\n",
    "import numpy as np\n",
    "import re\n",
    "\n",
    "def tokenize(document):\n",
    "    # Tokenizing using a regex to match words and convert to lowercase\n",
    "    return re.findall(r'\\w+', document.lower())\n",
    "\n",
    "def compute_tf(term, document):\n",
    "    pass\n",
    "\n",
    "def compute_idf(term, documents):\n",
    "    pass\n",
    "\n",
    "def compute_tf_idf(document, terms, documents):\n",
    "    pass\n",
    "\n",
    "for doc in corpus:\n",
    "    tf_idf_values = compute_tf_idf(doc, vocabulary, corpus)\n",
    "    print(tf_idf_values)"
   ]
  },
  {
   "cell_type": "code",
   "execution_count": null,
   "id": "f78b98d3",
   "metadata": {},
   "outputs": [],
   "source": []
  }
 ],
 "metadata": {
  "celltoolbar": "Slideshow",
  "kernelspec": {
   "display_name": "Python 3 (ipykernel)",
   "language": "python",
   "name": "python3"
  },
  "language_info": {
   "codemirror_mode": {
    "name": "ipython",
    "version": 3
   },
   "file_extension": ".py",
   "mimetype": "text/x-python",
   "name": "python",
   "nbconvert_exporter": "python",
   "pygments_lexer": "ipython3",
   "version": "3.9.16"
  }
 },
 "nbformat": 4,
 "nbformat_minor": 5
}
