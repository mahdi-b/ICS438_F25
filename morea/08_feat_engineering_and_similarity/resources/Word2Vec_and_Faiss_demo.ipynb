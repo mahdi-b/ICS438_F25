{
 "cells": [
  {
   "cell_type": "code",
   "execution_count": 4,
   "id": "91ec2ca6",
   "metadata": {},
   "outputs": [],
   "source": [
    "# !pip install fasttext\n",
    "# !pip install gensim"
   ]
  },
  {
   "cell_type": "code",
   "execution_count": 4,
   "id": "80a9f973",
   "metadata": {},
   "outputs": [],
   "source": [
    "import gensim \n",
    "import logging"
   ]
  },
  {
   "cell_type": "markdown",
   "id": "be275a52",
   "metadata": {},
   "source": [
    "### NPR Media Dialog Dataset Overview\n",
    "\n",
    "* Dataset Specifications (npr.org archives):\n",
    "  * 140,000+ NPR radio interview transcripts\n",
    "  * 20-year temporal coverage\n",
    "  * 10,000+ hours of transcribed audio content\n",
    "\n",
    "\n",
    "\n",
    "* Available via Kaggle platform\n",
    "  * [kaggle.com/datasets/shuyangli94/interview-npr-media-dialog-transcripts](kaggle.com/datasets/shuyangli94/interview-npr-media-dialog-transcripts)"
   ]
  },
  {
   "cell_type": "code",
   "execution_count": 1,
   "id": "8d4014d5",
   "metadata": {},
   "outputs": [
    {
     "name": "stdout",
     "output_type": "stream",
     "text": [
      "episode,episode_order,speaker,utterance\n",
      "\n",
      "57264,9,\"Ms. LOREN MOONEY (Editor-in-Chief, Bicycling Magazine)\",\"It's a 2,200-mile race. To give some sense of perspective, that's roughly the distance between Washington, D.C. and Las Vegas. They do it over the course of three weeks at very fast speeds. But incredibly, oftentimes the distance between first and second is somewhere between and one and three minutes.\"\n",
      "\n",
      "57264,10,\"Ms. LOREN MOONEY (Editor-in-Chief, Bicycling Magazine)\",\"So for a top competitor like Lance to try to make up that much time -he's now 13 minutes, 26 seconds behind the current race leader, Cadel Evans of Australia. And even Lance said yesterday that for him, the -any chance of winning the tour has gone out the window. He still does have a teammate on his team, RadioShack team, American Levi Leipheimer currently in eighth place, two minutes, 14 seconds back. And Lance is going to do what he can to help Leipheimer do well.\"\n",
      "\n",
      "57264,11,\"NEAL CONAN, host\",\"So in every team, presumably there's one star, one equivalent to Lance Armstrong and the other team - the rest of the teammates project him, do what they can to help him succeed?\"\n",
      "\n"
     ]
    }
   ],
   "source": [
    "with open(\"./media/npr_1000_utterances.csv\", 'r') as f:\n",
    "    i = 0 \n",
    "    for i,line in enumerate (f):\n",
    "        print(line)\n",
    "        if i ==3:\n",
    "            break\n",
    "        i += 1\n",
    "        "
   ]
  },
  {
   "cell_type": "code",
   "execution_count": 2,
   "id": "8141d59c",
   "metadata": {},
   "outputs": [
    {
     "name": "stdout",
     "output_type": "stream",
     "text": [
      "['episode', 'episode_order', 'speaker', 'utterance']\n"
     ]
    }
   ],
   "source": [
    "import csv\n",
    "reader = csv.reader(open(\"./media/npr_1000_utterances.csv\"), delimiter=',', quotechar='\"')\n",
    "for row in reader:\n",
    "    print(row)\n",
    "    break"
   ]
  },
  {
   "cell_type": "markdown",
   "id": "e07cd83f",
   "metadata": {},
   "source": [
    "We will use `simple_preprocess` to   lowercases, tokenizes, de-accent the a string.\n",
    "The output of `simple_preprocess` are final tokens = unicode strings.\n",
    "\n"
   ]
  },
  {
   "cell_type": "code",
   "execution_count": 7,
   "id": "ff6951df-67a8-4da6-b32d-986324b141f5",
   "metadata": {},
   "outputs": [
    {
     "data": {
      "text/plain": [
       "['www', 'google', 'com', 'so', 'test', 'in', 'every', 'time', 'what']"
      ]
     },
     "execution_count": 7,
     "metadata": {},
     "output_type": "execute_result"
    }
   ],
   "source": [
    "some_text = \"WWW.google.com So #$test in ~every! time! What?\"\n",
    "\n",
    "gensim.utils.simple_preprocess(some_text) "
   ]
  },
  {
   "cell_type": "code",
   "execution_count": 8,
   "id": "cf40e2d6",
   "metadata": {},
   "outputs": [],
   "source": [
    "def read_input(input_file):\n",
    "    utterances = []\n",
    "    with open(input_file, newline='', encoding='utf-8') as csvfile:\n",
    "        reader = csv.reader(csvfile, delimiter=',', quotechar='\"')\n",
    "        next(reader, None)\n",
    "        for row in reader:\n",
    "            text = row[-1]  \n",
    "            yield gensim.utils.simple_preprocess(text)  # Yield the preprocessed text\n",
    "\n",
    "utterances = list(read_input(\"./media/npr_1000_utterances.csv\"))\n"
   ]
  },
  {
   "cell_type": "code",
   "execution_count": 10,
   "id": "a8cbd4aa",
   "metadata": {},
   "outputs": [
    {
     "data": {
      "text/plain": [
       "999"
      ]
     },
     "execution_count": 10,
     "metadata": {},
     "output_type": "execute_result"
    }
   ],
   "source": [
    "len(utterances)\n"
   ]
  },
  {
   "cell_type": "code",
   "execution_count": 12,
   "id": "6e697fed",
   "metadata": {},
   "outputs": [
    {
     "data": {
      "text/plain": [
       "['that', 'right', 'one', 'of', 'the', 'very', 'cool', 'things', 'about', 'the']"
      ]
     },
     "execution_count": 12,
     "metadata": {},
     "output_type": "execute_result"
    }
   ],
   "source": [
    "utterances[20][0:10]"
   ]
  },
  {
   "cell_type": "markdown",
   "id": "1cdd4a9a",
   "metadata": {},
   "source": [
    "We will use `gensim` to train a `Word2Vec` model on the 1000 utterances\n",
    "\n",
    "https://radimrehurek.com/gensim/models/word2vec.html"
   ]
  },
  {
   "cell_type": "code",
   "execution_count": 13,
   "id": "ad1b9b25",
   "metadata": {},
   "outputs": [
    {
     "data": {
      "text/plain": [
       "<gensim.models.word2vec.Word2Vec at 0x17783b850>"
      ]
     },
     "execution_count": 13,
     "metadata": {},
     "output_type": "execute_result"
    }
   ],
   "source": [
    "model = gensim.models.Word2Vec(utterances, window=10, min_count=2, workers=10)\n",
    "model"
   ]
  },
  {
   "cell_type": "code",
   "execution_count": 16,
   "id": "7b9b758b",
   "metadata": {},
   "outputs": [
    {
     "data": {
      "text/plain": [
       "{'the': 0,\n",
       " 'and': 1,\n",
       " 'of': 2,\n",
       " 'to': 3,\n",
       " 'that': 4,\n",
       " 'in': 5,\n",
       " 'you': 6,\n",
       " 'it': 7,\n",
       " 'is': 8,\n",
       " 'they': 9,\n",
       " 'we': 10,\n",
       " 'for': 11,\n",
       " 'this': 12,\n",
       " 'on': 13,\n",
       " 'are': 14,\n",
       " 'was': 15,\n",
       " 'have': 16,\n",
       " 'he': 17,\n",
       " 'so': 18,\n",
       " 'be': 19,\n",
       " 'there': 20,\n",
       " 'with': 21,\n",
       " 'but': 22,\n",
       " 'know': 23,\n",
       " 'what': 24,\n",
       " 'as': 25,\n",
       " 'not': 26,\n",
       " 'about': 27,\n",
       " 're': 28,\n",
       " 'do': 29,\n",
       " 'think': 30,\n",
       " 'or': 31,\n",
       " 'who': 32,\n",
       " 'people': 33,\n",
       " 'at': 34,\n",
       " 'from': 35,\n",
       " 'can': 36,\n",
       " 'just': 37,\n",
       " 'like': 38,\n",
       " 'very': 39,\n",
       " 'us': 40,\n",
       " 'one': 41,\n",
       " 'if': 42,\n",
       " 'well': 43,\n",
       " 'has': 44,\n",
       " 'some': 45,\n",
       " 'their': 46,\n",
       " 'an': 47,\n",
       " 'all': 48,\n",
       " 'when': 49,\n",
       " 'much': 50,\n",
       " 'these': 51,\n",
       " 'by': 52,\n",
       " 'his': 53,\n",
       " 'them': 54,\n",
       " 'more': 55,\n",
       " 'out': 56,\n",
       " 'how': 57,\n",
       " 'because': 58,\n",
       " 'would': 59,\n",
       " 'don': 60,\n",
       " 'now': 61,\n",
       " 'really': 62,\n",
       " 'right': 63,\n",
       " 'been': 64,\n",
       " 'talk': 65,\n",
       " 'here': 66,\n",
       " 'get': 67,\n",
       " 'time': 68,\n",
       " 'had': 69,\n",
       " 'case': 70,\n",
       " 'public': 71,\n",
       " 'other': 72,\n",
       " 'npr': 73,\n",
       " 'up': 74,\n",
       " 'our': 75,\n",
       " 'your': 76,\n",
       " 'were': 77,\n",
       " 'see': 78,\n",
       " 'said': 79,\n",
       " 'those': 80,\n",
       " 'did': 81,\n",
       " 'will': 82,\n",
       " 've': 83,\n",
       " 'going': 84,\n",
       " 'go': 85,\n",
       " 'where': 86,\n",
       " 'my': 87,\n",
       " 'she': 88,\n",
       " 'chili': 89,\n",
       " 'which': 90,\n",
       " 'new': 91,\n",
       " 'also': 92,\n",
       " 'years': 93,\n",
       " 'court': 94,\n",
       " 'many': 95,\n",
       " 'then': 96,\n",
       " 'today': 97,\n",
       " 'president': 98,\n",
       " 'lot': 99,\n",
       " 'say': 100,\n",
       " 'back': 101,\n",
       " 'into': 102,\n",
       " 'over': 103,\n",
       " 'me': 104,\n",
       " 'no': 105,\n",
       " 'good': 106,\n",
       " 'let': 107,\n",
       " 'kind': 108,\n",
       " 'even': 109,\n",
       " 'than': 110,\n",
       " 'thanks': 111,\n",
       " 'two': 112,\n",
       " 'year': 113,\n",
       " 'yeah': 114,\n",
       " 'want': 115,\n",
       " 'things': 116,\n",
       " 'internet': 117,\n",
       " 'thank': 118,\n",
       " 'make': 119,\n",
       " 'll': 120,\n",
       " 'look': 121,\n",
       " 'life': 122,\n",
       " 'could': 123,\n",
       " 'chicago': 124,\n",
       " 'news': 125,\n",
       " 'why': 126,\n",
       " 'only': 127,\n",
       " 'first': 128,\n",
       " 'way': 129,\n",
       " 'may': 130,\n",
       " 'should': 131,\n",
       " 'ph': 132,\n",
       " 'after': 133,\n",
       " 'got': 134,\n",
       " 'still': 135,\n",
       " 'any': 136,\n",
       " 'soundbite': 137,\n",
       " 'point': 138,\n",
       " 'hot': 139,\n",
       " 'talking': 140,\n",
       " 'call': 141,\n",
       " 'three': 142,\n",
       " 'her': 143,\n",
       " 'sure': 144,\n",
       " 'day': 145,\n",
       " 'little': 146,\n",
       " 'police': 147,\n",
       " 'actually': 148,\n",
       " 'chilies': 149,\n",
       " 'states': 150,\n",
       " 'different': 151,\n",
       " 'sort': 152,\n",
       " 'part': 153,\n",
       " 'something': 154,\n",
       " 'nation': 155,\n",
       " 'yes': 156,\n",
       " 'next': 157,\n",
       " 'take': 158,\n",
       " 'didn': 159,\n",
       " 'most': 160,\n",
       " 'mean': 161,\n",
       " 'cases': 162,\n",
       " 'down': 163,\n",
       " 'him': 164,\n",
       " 'question': 165,\n",
       " 'great': 166,\n",
       " 'book': 167,\n",
       " 'defenders': 168,\n",
       " 'too': 169,\n",
       " 'week': 170,\n",
       " 'both': 171,\n",
       " 'suicide': 172,\n",
       " 'another': 173,\n",
       " 'same': 174,\n",
       " 'last': 175,\n",
       " 'without': 176,\n",
       " 'long': 177,\n",
       " 'does': 178,\n",
       " 'country': 179,\n",
       " 'story': 180,\n",
       " 'person': 181,\n",
       " 'says': 182,\n",
       " 'through': 183,\n",
       " 'need': 184,\n",
       " 'government': 185,\n",
       " 'between': 186,\n",
       " 'music': 187,\n",
       " 'org': 188,\n",
       " 'ago': 189,\n",
       " 'work': 190,\n",
       " 'north': 191,\n",
       " 'state': 192,\n",
       " 'probably': 193,\n",
       " 'hi': 194,\n",
       " 'tour': 195,\n",
       " 'high': 196,\n",
       " 'hear': 197,\n",
       " 'certainly': 198,\n",
       " 'defender': 199,\n",
       " 'whether': 200,\n",
       " 'before': 201,\n",
       " 'school': 202,\n",
       " 'world': 203,\n",
       " 'arizona': 204,\n",
       " 'every': 205,\n",
       " 'around': 206,\n",
       " 'prison': 207,\n",
       " 'though': 208,\n",
       " 'law': 209,\n",
       " 'office': 210,\n",
       " 'tell': 211,\n",
       " 'feel': 212,\n",
       " 'course': 213,\n",
       " 'murder': 214,\n",
       " 'thing': 215,\n",
       " 'song': 216,\n",
       " 'doing': 217,\n",
       " 'put': 218,\n",
       " 'old': 219,\n",
       " 'vote': 220,\n",
       " 'find': 221,\n",
       " 'called': 222,\n",
       " 'system': 223,\n",
       " 'difficult': 224,\n",
       " 'west': 225,\n",
       " 'issue': 226,\n",
       " 'phone': 227,\n",
       " 'own': 228,\n",
       " 'ed': 229,\n",
       " 'care': 230,\n",
       " 'sentence': 231,\n",
       " 'came': 232,\n",
       " 'de': 233,\n",
       " 'won': 234,\n",
       " 'each': 235,\n",
       " 'program': 236,\n",
       " 'justice': 237,\n",
       " 'american': 238,\n",
       " 'neal': 239,\n",
       " 'science': 240,\n",
       " 'big': 241,\n",
       " 'war': 242,\n",
       " 'being': 243,\n",
       " 'against': 244,\n",
       " 'again': 245,\n",
       " 'family': 246,\n",
       " 'house': 247,\n",
       " 'trump': 248,\n",
       " 'issues': 249,\n",
       " 'flavor': 250,\n",
       " 'crime': 251,\n",
       " 'parole': 252,\n",
       " 'juveniles': 253,\n",
       " 'white': 254,\n",
       " 'general': 255,\n",
       " 'industry': 256,\n",
       " 'heat': 257,\n",
       " 'number': 258,\n",
       " 'party': 259,\n",
       " 'gary': 260,\n",
       " 'democrats': 261,\n",
       " 'supreme': 262,\n",
       " 'made': 263,\n",
       " 'important': 264,\n",
       " 'man': 265,\n",
       " 'use': 266,\n",
       " 'four': 267,\n",
       " 'sometimes': 268,\n",
       " 'goes': 269,\n",
       " 'percent': 270,\n",
       " 'real': 271,\n",
       " 'death': 272,\n",
       " 'france': 273,\n",
       " 'its': 274,\n",
       " 'coming': 275,\n",
       " 'while': 276,\n",
       " 'kevin': 277,\n",
       " 'end': 278,\n",
       " 'davis': 279,\n",
       " 'under': 280,\n",
       " 'love': 281,\n",
       " 'united': 282,\n",
       " 'understand': 283,\n",
       " 'found': 284,\n",
       " 'basically': 285,\n",
       " 'almost': 286,\n",
       " 'always': 287,\n",
       " 'korea': 288,\n",
       " 'bit': 289,\n",
       " 'south': 290,\n",
       " 'used': 291,\n",
       " 'come': 292,\n",
       " 'interesting': 293,\n",
       " 'particular': 294,\n",
       " 'often': 295,\n",
       " 'doesn': 296,\n",
       " 'maybe': 297,\n",
       " 'give': 298,\n",
       " 'far': 299,\n",
       " 'york': 300,\n",
       " 'food': 301,\n",
       " 'working': 302,\n",
       " 'job': 303,\n",
       " 'told': 304,\n",
       " 'federal': 305,\n",
       " 'five': 306,\n",
       " 'report': 307,\n",
       " 'pepper': 308,\n",
       " 'mexico': 309,\n",
       " 'days': 310,\n",
       " 'able': 311,\n",
       " 'health': 312,\n",
       " 'team': 313,\n",
       " 'woman': 314,\n",
       " 'trying': 315,\n",
       " 'political': 316,\n",
       " 'off': 317,\n",
       " 'media': 318,\n",
       " 'fact': 319,\n",
       " 'ahead': 320,\n",
       " 'email': 321,\n",
       " 'university': 322,\n",
       " 'wants': 323,\n",
       " 'held': 324,\n",
       " 'night': 325,\n",
       " 'might': 326,\n",
       " 'hurricane': 327,\n",
       " 'process': 328,\n",
       " 'went': 329,\n",
       " 'watch': 330,\n",
       " 'opinion': 331,\n",
       " 'terms': 332,\n",
       " 'spent': 333,\n",
       " 'company': 334,\n",
       " 'saying': 335,\n",
       " 'looking': 336,\n",
       " 'client': 337,\n",
       " 'seed': 338,\n",
       " 'tucson': 339,\n",
       " 'phil': 340,\n",
       " 'marijane': 341,\n",
       " 'joins': 342,\n",
       " 'water': 343,\n",
       " 'human': 344,\n",
       " 'absolutely': 345,\n",
       " 'exactly': 346,\n",
       " 'group': 347,\n",
       " 'times': 348,\n",
       " 'sense': 349,\n",
       " 'information': 350,\n",
       " 'appreciate': 351,\n",
       " 'online': 352,\n",
       " 'true': 353,\n",
       " 'join': 354,\n",
       " 'wild': 355,\n",
       " 'later': 356,\n",
       " 'name': 357,\n",
       " 'action': 358,\n",
       " 'bad': 359,\n",
       " 'obviously': 360,\n",
       " 'john': 361,\n",
       " 'seeing': 362,\n",
       " 'keep': 363,\n",
       " 'believe': 364,\n",
       " 'done': 365,\n",
       " 'matter': 366,\n",
       " 'kansas': 367,\n",
       " 'pay': 368,\n",
       " 'deal': 369,\n",
       " 'second': 370,\n",
       " 'problem': 371,\n",
       " 'network': 372,\n",
       " 'having': 373,\n",
       " 'hand': 374,\n",
       " 'best': 375,\n",
       " 'committed': 376,\n",
       " 'race': 377,\n",
       " 'clients': 378,\n",
       " 'unintelligible': 379,\n",
       " 'line': 380,\n",
       " 'friday': 381,\n",
       " 'green': 382,\n",
       " 'ask': 383,\n",
       " 'wrote': 384,\n",
       " 'congress': 385,\n",
       " 'grow': 386,\n",
       " 'mm': 387,\n",
       " 'example': 388,\n",
       " 'constitution': 389,\n",
       " 'tv': 390,\n",
       " 'leader': 391,\n",
       " 'scoville': 392,\n",
       " 'together': 393,\n",
       " 'money': 394,\n",
       " 'better': 395,\n",
       " 'needs': 396,\n",
       " 'until': 397,\n",
       " 'along': 398,\n",
       " 'making': 399,\n",
       " 'defending': 400,\n",
       " 'clear': 401,\n",
       " 'less': 402,\n",
       " 'history': 403,\n",
       " 'felt': 404,\n",
       " 'type': 405,\n",
       " 'washington': 406,\n",
       " 'black': 407,\n",
       " 'few': 408,\n",
       " 'welcome': 409,\n",
       " 'crimes': 410,\n",
       " 'young': 411,\n",
       " 'release': 412,\n",
       " 'happened': 413,\n",
       " 'criminal': 414,\n",
       " 'gone': 415,\n",
       " 'plant': 416,\n",
       " 'show': 417,\n",
       " 'jeff': 418,\n",
       " 'since': 419,\n",
       " 'never': 420,\n",
       " 'place': 421,\n",
       " 'bike': 422,\n",
       " 'turn': 423,\n",
       " 'calls': 424,\n",
       " 'thought': 425,\n",
       " 'trial': 426,\n",
       " 'brazil': 427,\n",
       " 'treatment': 428,\n",
       " 'individuals': 429,\n",
       " 'conversation': 430,\n",
       " 'involved': 431,\n",
       " 'judge': 432,\n",
       " 'attorney': 433,\n",
       " 'officer': 434,\n",
       " 'read': 435,\n",
       " 'stay': 436,\n",
       " 'david': 437,\n",
       " 'everybody': 438,\n",
       " 'ways': 439,\n",
       " 'recording': 440,\n",
       " 'questions': 441,\n",
       " 'decision': 442,\n",
       " 'wanted': 443,\n",
       " 'plants': 444,\n",
       " 'broad': 445,\n",
       " 'wall': 446,\n",
       " 'someone': 447,\n",
       " 'victim': 448,\n",
       " 'campus': 449,\n",
       " 'try': 450,\n",
       " 'americans': 451,\n",
       " 'front': 452,\n",
       " 'hard': 453,\n",
       " 'moon': 454,\n",
       " 'seems': 455,\n",
       " 'cook': 456,\n",
       " 'morning': 457,\n",
       " 'term': 458,\n",
       " 'stuff': 459,\n",
       " 'during': 460,\n",
       " 'continue': 461,\n",
       " 'department': 462,\n",
       " 'california': 463,\n",
       " 'free': 464,\n",
       " 'getting': 465,\n",
       " 'oh': 466,\n",
       " 'home': 467,\n",
       " 'speed': 468,\n",
       " 'gets': 469,\n",
       " 'left': 470,\n",
       " 'stephen': 471,\n",
       " 'seen': 472,\n",
       " 'released': 473,\n",
       " 'audience': 474,\n",
       " 'listening': 475,\n",
       " 'side': 476,\n",
       " 'laughter': 477,\n",
       " 'cuba': 478,\n",
       " 'children': 479,\n",
       " 'wouldn': 480,\n",
       " 'set': 481,\n",
       " 'million': 482,\n",
       " 'reason': 483,\n",
       " 'ever': 484,\n",
       " 'florida': 485,\n",
       " 'live': 486,\n",
       " 'several': 487,\n",
       " 'earlier': 488,\n",
       " 'county': 489,\n",
       " 'clearly': 490,\n",
       " 'capital': 491,\n",
       " 'january': 492,\n",
       " 'others': 493,\n",
       " 'details': 494,\n",
       " 'records': 495,\n",
       " 'republicans': 496,\n",
       " 'full': 497,\n",
       " 'jersey': 498,\n",
       " 'defense': 499,\n",
       " 'help': 500,\n",
       " 'individual': 501,\n",
       " 'calling': 502,\n",
       " 'attention': 503,\n",
       " 'riders': 504,\n",
       " 'away': 505,\n",
       " 'enough': 506,\n",
       " 'iraq': 507,\n",
       " 'oil': 508,\n",
       " 'kinds': 509,\n",
       " 'guys': 510,\n",
       " 'hello': 511,\n",
       " 'start': 512,\n",
       " 'african': 513,\n",
       " 'using': 514,\n",
       " 'typically': 515,\n",
       " 'everyday': 516,\n",
       " 'win': 517,\n",
       " 'cost': 518,\n",
       " 'himself': 519,\n",
       " 'charged': 520,\n",
       " 'yet': 521,\n",
       " 'service': 522,\n",
       " 'cops': 523,\n",
       " 'role': 524,\n",
       " 'suspect': 525,\n",
       " 'eight': 526,\n",
       " 'possibility': 527,\n",
       " 'victims': 528,\n",
       " 'available': 529,\n",
       " 'least': 530,\n",
       " 'level': 531,\n",
       " 'face': 532,\n",
       " 'summit': 533,\n",
       " 'project': 534,\n",
       " 'talked': 535,\n",
       " 'mcallister': 536,\n",
       " 'fun': 537,\n",
       " 'cooke': 538,\n",
       " 'sam': 539,\n",
       " 'kids': 540,\n",
       " 'books': 541,\n",
       " 'given': 542,\n",
       " 'limited': 543,\n",
       " 'mentioned': 544,\n",
       " 'election': 545,\n",
       " 'evidence': 546,\n",
       " 'minutes': 547,\n",
       " 'punishment': 548,\n",
       " 'conan': 549,\n",
       " 'hope': 550,\n",
       " 'huge': 551,\n",
       " 'ready': 552,\n",
       " 'beyond': 553,\n",
       " 'loren': 554,\n",
       " 'considered': 555,\n",
       " 'students': 556,\n",
       " 'behind': 557,\n",
       " 'pretty': 558,\n",
       " 'dangerous': 559,\n",
       " 'gave': 560,\n",
       " 'comes': 561,\n",
       " 'anything': 562,\n",
       " 'officers': 563,\n",
       " 'curry': 564,\n",
       " 'amount': 565,\n",
       " 'video': 566,\n",
       " 'watching': 567,\n",
       " 'agree': 568,\n",
       " 'former': 569,\n",
       " 'data': 570,\n",
       " 'seven': 571,\n",
       " 'peppers': 572,\n",
       " 'weekend': 573,\n",
       " 'cell': 574,\n",
       " 'head': 575,\n",
       " 'makes': 576,\n",
       " 'non': 577,\n",
       " 'chilis': 578,\n",
       " 'seem': 579,\n",
       " 'couple': 580,\n",
       " 'national': 581,\n",
       " 'isn': 582,\n",
       " 'member': 583,\n",
       " 'across': 584,\n",
       " 'ok': 585,\n",
       " 'tea': 586,\n",
       " 'large': 587,\n",
       " 'lost': 588,\n",
       " 'lives': 589,\n",
       " 'worked': 590,\n",
       " 'area': 591,\n",
       " 'mauer': 592,\n",
       " 'happens': 593,\n",
       " 'season': 594,\n",
       " 'took': 595,\n",
       " 'penalty': 596,\n",
       " 'sentences': 597,\n",
       " 'hit': 598,\n",
       " 'okay': 599,\n",
       " 'oliver': 600,\n",
       " 'scott': 601,\n",
       " 'capacity': 602,\n",
       " 'hurricanes': 603,\n",
       " 'bye': 604,\n",
       " 'college': 605,\n",
       " 'pictures': 606,\n",
       " 'follow': 607,\n",
       " 'city': 608,\n",
       " 'knew': 609,\n",
       " 'hundreds': 610,\n",
       " 'defend': 611,\n",
       " 'wasn': 612,\n",
       " 'mild': 613,\n",
       " 'breeding': 614,\n",
       " 'quote': 615,\n",
       " 'homicides': 616,\n",
       " 'sentenced': 617,\n",
       " 'sales': 618,\n",
       " 'range': 619,\n",
       " 'gonna': 620,\n",
       " 'flatow': 621,\n",
       " 'ira': 622,\n",
       " 'definitely': 623,\n",
       " 'sensitive': 624,\n",
       " 'professor': 625,\n",
       " 'hearing': 626,\n",
       " 'weeks': 627,\n",
       " 'warrant': 628,\n",
       " 'task': 629,\n",
       " 'decisions': 630,\n",
       " 'guess': 631,\n",
       " 'ombudsman': 632,\n",
       " 'yesterday': 633,\n",
       " 'placek': 634,\n",
       " 'aloysius': 635,\n",
       " 'kept': 636,\n",
       " 'necessary': 637,\n",
       " 'past': 638,\n",
       " 'speech': 639,\n",
       " 'bill': 640,\n",
       " 'hey': 641,\n",
       " 'cellphone': 642,\n",
       " 'brought': 643,\n",
       " 'desert': 644,\n",
       " 'top': 645,\n",
       " 'research': 646,\n",
       " 'nabhan': 647,\n",
       " 'such': 648,\n",
       " 'campaign': 649,\n",
       " 'birds': 650,\n",
       " 'affected': 651,\n",
       " 'saw': 652,\n",
       " 'stories': 653,\n",
       " 'force': 654,\n",
       " 'power': 655,\n",
       " 'order': 656,\n",
       " 'savage': 657,\n",
       " 'texas': 658,\n",
       " 'context': 659,\n",
       " 'compounds': 660,\n",
       " 'majority': 661,\n",
       " 'content': 662,\n",
       " 'wife': 663,\n",
       " 'press': 664,\n",
       " 'anybody': 665,\n",
       " 'private': 666,\n",
       " 'chief': 667,\n",
       " 'civil': 668,\n",
       " 'happy': 669,\n",
       " 'particularly': 670,\n",
       " 'asked': 671,\n",
       " 'change': 672,\n",
       " 'races': 673,\n",
       " 'whole': 674,\n",
       " 'either': 675,\n",
       " 'spicy': 676,\n",
       " 'services': 677,\n",
       " 'move': 678,\n",
       " 'support': 679,\n",
       " 'problems': 680,\n",
       " 'car': 681,\n",
       " 'meeting': 682,\n",
       " 'spoke': 683,\n",
       " 'rider': 684,\n",
       " 'christian': 685,\n",
       " 'hour': 686,\n",
       " 'argument': 687,\n",
       " 'idea': 688,\n",
       " 'administration': 689,\n",
       " 'represent': 690,\n",
       " 'view': 691,\n",
       " 'become': 692,\n",
       " 'sunni': 693,\n",
       " 'quite': 694,\n",
       " 'means': 695,\n",
       " 'anywhere': 696,\n",
       " 'klein': 697,\n",
       " 'lance': 698,\n",
       " 'military': 699,\n",
       " 'current': 700,\n",
       " 'minority': 701,\n",
       " 'battle': 702,\n",
       " 'juvenile': 703,\n",
       " 'miles': 704,\n",
       " 'built': 705,\n",
       " 'anyone': 706,\n",
       " 'reporters': 707,\n",
       " 'small': 708,\n",
       " 'following': 709,\n",
       " 'distance': 710,\n",
       " 'sides': 711,\n",
       " 'myself': 712,\n",
       " 'especially': 713,\n",
       " 'mountains': 714,\n",
       " 'overall': 715,\n",
       " 'programs': 716,\n",
       " 'jae': 717,\n",
       " 'ruling': 718,\n",
       " 'talks': 719,\n",
       " 'marc': 720,\n",
       " 'filed': 721,\n",
       " 'backbone': 722,\n",
       " 'kennedy': 723,\n",
       " 'challenging': 724,\n",
       " 'play': 725,\n",
       " 'thousands': 726,\n",
       " 'third': 727,\n",
       " 'strike': 728,\n",
       " 'democratic': 729,\n",
       " 'enforcement': 730,\n",
       " 'men': 731,\n",
       " 'republican': 732,\n",
       " 'population': 733,\n",
       " 'guest': 734,\n",
       " 'inside': 735,\n",
       " 'newspapers': 736,\n",
       " 'air': 737,\n",
       " 'cuban': 738,\n",
       " 'describing': 739,\n",
       " 'storm': 740,\n",
       " 'killed': 741,\n",
       " 'longer': 742,\n",
       " 'recently': 743,\n",
       " 'named': 744,\n",
       " 'emanuel': 745,\n",
       " 'activity': 746,\n",
       " 'business': 747,\n",
       " 'newscast': 748,\n",
       " 'price': 749,\n",
       " 'energy': 750,\n",
       " 'moment': 751,\n",
       " 'answer': 752,\n",
       " 'companies': 753,\n",
       " 'shouldn': 754,\n",
       " 'center': 755,\n",
       " 'higher': 756,\n",
       " 'operation': 757,\n",
       " 'friends': 758,\n",
       " 'accused': 759,\n",
       " 'jean': 760,\n",
       " 'homes': 761,\n",
       " 'hold': 762,\n",
       " 'mooney': 763,\n",
       " 'record': 764,\n",
       " 'glen': 765,\n",
       " 'write': 766,\n",
       " 'body': 767,\n",
       " 'involving': 768,\n",
       " 'sexual': 769,\n",
       " 'due': 770,\n",
       " 'compassion': 771,\n",
       " 'rather': 772,\n",
       " 'somebody': 773,\n",
       " 'correct': 774,\n",
       " 'happen': 775,\n",
       " 'reports': 776,\n",
       " 'basic': 777,\n",
       " 'community': 778,\n",
       " 'damned': 779,\n",
       " 'lisa': 780,\n",
       " 'theme': 781,\n",
       " 'ike': 782,\n",
       " 'television': 783,\n",
       " 'successful': 784,\n",
       " 'reserve': 785,\n",
       " 'chance': 786,\n",
       " 'everything': 787,\n",
       " 'killing': 788,\n",
       " 'carpenter': 789,\n",
       " 'please': 790,\n",
       " 'seeds': 791,\n",
       " 'outside': 792,\n",
       " 'digital': 793,\n",
       " 'location': 794,\n",
       " 'social': 795,\n",
       " 'ones': 796,\n",
       " 'age': 797,\n",
       " 'species': 798,\n",
       " 'search': 799,\n",
       " 'shot': 800,\n",
       " 'conditions': 801,\n",
       " 'student': 802,\n",
       " 'hmm': 803,\n",
       " 'afternoon': 804,\n",
       " 'uses': 805,\n",
       " 'genes': 806,\n",
       " 'whatever': 807,\n",
       " 'samina': 808,\n",
       " 'units': 809,\n",
       " 'nature': 810,\n",
       " 'blocks': 811,\n",
       " 'share': 812,\n",
       " 'six': 813,\n",
       " 'schumer': 814,\n",
       " 'ohio': 815,\n",
       " 'significant': 816,\n",
       " 'senate': 817,\n",
       " 'certain': 818,\n",
       " 'brief': 819,\n",
       " 'archived': 820,\n",
       " 'sentencing': 821,\n",
       " 'magazine': 822,\n",
       " 'director': 823,\n",
       " 'aren': 824,\n",
       " 'complaint': 825,\n",
       " 'rights': 826,\n",
       " 'event': 827,\n",
       " 'leave': 828,\n",
       " 'natural': 829,\n",
       " 'mother': 830,\n",
       " 'amendment': 831,\n",
       " 'begin': 832,\n",
       " 'bicycling': 833,\n",
       " 'serving': 834,\n",
       " 'heard': 835,\n",
       " 'agreed': 836,\n",
       " 'boy': 837,\n",
       " 'commitment': 838,\n",
       " 'fired': 839,\n",
       " 'editor': 840,\n",
       " 'counsel': 841,\n",
       " 'complete': 842,\n",
       " 'petition': 843,\n",
       " 'unusual': 844,\n",
       " 'reach': 845,\n",
       " 'percentage': 846,\n",
       " 'resources': 847,\n",
       " 'minors': 848,\n",
       " 'decided': 849,\n",
       " 'joined': 850,\n",
       " 'bring': 851,\n",
       " 'changed': 852,\n",
       " 'average': 853,\n",
       " 'provide': 854,\n",
       " 'amazing': 855,\n",
       " 'raise': 856,\n",
       " 'powers': 857,\n",
       " 'close': 858,\n",
       " 'regulate': 859,\n",
       " 'track': 860,\n",
       " 'step': 861,\n",
       " 'coverage': 862,\n",
       " 'must': 863,\n",
       " 'category': 864,\n",
       " 'debate': 865,\n",
       " 'weren': 866,\n",
       " 'movement': 867,\n",
       " 'remember': 868,\n",
       " 'potential': 869,\n",
       " 'eighth': 870,\n",
       " 'position': 871,\n",
       " 'oftentimes': 872,\n",
       " 'nine': 873,\n",
       " 'cyclists': 874,\n",
       " 'itself': 875,\n",
       " 'representing': 876,\n",
       " 'unpopular': 877,\n",
       " 'violent': 878,\n",
       " 'anaheim': 879,\n",
       " 'reading': 880,\n",
       " 'table': 881,\n",
       " 'subject': 882,\n",
       " 'changes': 883,\n",
       " 'sitting': 884,\n",
       " 'control': 885,\n",
       " 'belt': 886,\n",
       " 'turns': 887,\n",
       " 'varieties': 888,\n",
       " 'hm': 889,\n",
       " 'likely': 890,\n",
       " 'storms': 891,\n",
       " 'worst': 892,\n",
       " 'fairly': 893,\n",
       " 'guy': 894,\n",
       " 'cut': 895,\n",
       " 'author': 896,\n",
       " 'fully': 897,\n",
       " 'racing': 898,\n",
       " 'buildings': 899,\n",
       " 'shiites': 900,\n",
       " 'sunnis': 901,\n",
       " 'favor': 902,\n",
       " 'within': 903,\n",
       " 'son': 904,\n",
       " 'near': 905,\n",
       " 'damage': 906,\n",
       " 'officials': 907,\n",
       " 'sign': 908,\n",
       " 'street': 909,\n",
       " 'deborah': 910,\n",
       " 'lines': 911,\n",
       " 'kim': 912,\n",
       " 'perception': 913,\n",
       " 'victoria': 914,\n",
       " 'function': 915,\n",
       " 'self': 916,\n",
       " 'elevation': 917,\n",
       " 'daniel': 918,\n",
       " 'jail': 919,\n",
       " 'placenta': 920,\n",
       " 'behavior': 921,\n",
       " 'shepard': 922,\n",
       " 'joe': 923,\n",
       " 'local': 924,\n",
       " 'mike': 925,\n",
       " 'prosecutors': 926,\n",
       " 'experience': 927,\n",
       " 'store': 928,\n",
       " 'palfrey': 929,\n",
       " 'effort': 930,\n",
       " 'official': 931,\n",
       " 'am': 932,\n",
       " 'received': 933,\n",
       " 'missing': 934,\n",
       " 'instead': 935,\n",
       " 'ought': 936,\n",
       " 'democrat': 937,\n",
       " 'word': 938,\n",
       " 'elite': 939,\n",
       " 'break': 940,\n",
       " 'child': 941,\n",
       " 'umass': 942,\n",
       " 'growing': 943,\n",
       " 'fine': 944,\n",
       " 'run': 945,\n",
       " 'lawyer': 946,\n",
       " 'personal': 947,\n",
       " 'daley': 948,\n",
       " 'mayor': 949,\n",
       " 'cable': 950,\n",
       " 'legal': 951,\n",
       " 'dartmouth': 952,\n",
       " 'act': 953,\n",
       " 'moved': 954,\n",
       " 'baraka': 955,\n",
       " 'living': 956,\n",
       " 'essentially': 957,\n",
       " 'cd': 958,\n",
       " 'voice': 959,\n",
       " 'trust': 960,\n",
       " 'mail': 961,\n",
       " 'poor': 962,\n",
       " 'paying': 963,\n",
       " 'convicted': 964,\n",
       " 'janet': 965,\n",
       " 'secure': 966,\n",
       " 'arrested': 967,\n",
       " 'husband': 968,\n",
       " 'father': 969,\n",
       " 'vcu': 970,\n",
       " 'studios': 971,\n",
       " 'aids': 972,\n",
       " 'taking': 973,\n",
       " 'herself': 974,\n",
       " 'exchanges': 975,\n",
       " 'spitzer': 976,\n",
       " 'bigger': 977,\n",
       " 'mr': 978,\n",
       " 'temer': 979,\n",
       " 'user': 980,\n",
       " 'unless': 981,\n",
       " 'caller': 982,\n",
       " 'anna': 983,\n",
       " 'ballot': 984,\n",
       " 'reported': 985,\n",
       " 'necessarily': 986,\n",
       " 'senator': 987,\n",
       " 'crossing': 988,\n",
       " 'scale': 989,\n",
       " 'prices': 990,\n",
       " 'numbers': 991,\n",
       " 'listeners': 992,\n",
       " 'post': 993,\n",
       " 'nothing': 994,\n",
       " 'realize': 995,\n",
       " 'blog': 996,\n",
       " 'technologies': 997,\n",
       " 'picture': 998,\n",
       " 'per': 999,\n",
       " ...}"
      ]
     },
     "execution_count": 16,
     "metadata": {},
     "output_type": "execute_result"
    }
   ],
   "source": [
    "model.wv.key_to_index "
   ]
  },
  {
   "cell_type": "code",
   "execution_count": 26,
   "id": "bebf4387",
   "metadata": {},
   "outputs": [
    {
     "data": {
      "text/plain": [
       "2337"
      ]
     },
     "execution_count": 26,
     "metadata": {},
     "output_type": "execute_result"
    }
   ],
   "source": [
    "len(model.wv.key_to_index)"
   ]
  },
  {
   "cell_type": "code",
   "execution_count": 17,
   "id": "362fd691-9894-40db-ae31-111f1162a688",
   "metadata": {},
   "outputs": [
    {
     "data": {
      "text/plain": [
       "406"
      ]
     },
     "execution_count": 17,
     "metadata": {},
     "output_type": "execute_result"
    }
   ],
   "source": [
    "model.wv.key_to_index.get(\"washington\")"
   ]
  },
  {
   "cell_type": "code",
   "execution_count": 19,
   "id": "2ed3e250",
   "metadata": {},
   "outputs": [
    {
     "data": {
      "text/plain": [
       "124"
      ]
     },
     "execution_count": 19,
     "metadata": {},
     "output_type": "execute_result"
    }
   ],
   "source": [
    "model.wv.key_to_index.get(\"chicago\")"
   ]
  },
  {
   "cell_type": "code",
   "execution_count": 24,
   "id": "71d4ca9c",
   "metadata": {},
   "outputs": [
    {
     "data": {
      "text/plain": [
       "True"
      ]
     },
     "execution_count": 24,
     "metadata": {},
     "output_type": "execute_result"
    }
   ],
   "source": [
    "model.wv.key_to_index.get(\"tokyo\") == None"
   ]
  },
  {
   "cell_type": "markdown",
   "id": "58a09890",
   "metadata": {},
   "source": [
    "### Question 1.\n",
    "In the code above, we see that Washington is set to index 406, and Chicago is set to index 124. Why is Tokyo set to None?"
   ]
  },
  {
   "cell_type": "code",
   "execution_count": 27,
   "id": "a69bd963",
   "metadata": {},
   "outputs": [
    {
     "data": {
      "text/plain": [
       "100"
      ]
     },
     "execution_count": 27,
     "metadata": {},
     "output_type": "execute_result"
    }
   ],
   "source": [
    "model.wv[\"washington\"].size"
   ]
  },
  {
   "cell_type": "code",
   "execution_count": 28,
   "id": "e417a612-5fb0-49cd-88b0-b80d01138a7f",
   "metadata": {},
   "outputs": [
    {
     "data": {
      "text/plain": [
       "array([-0.01453825,  0.11561118,  0.05901224,  0.01848982,  0.02993853,\n",
       "       -0.2699527 ,  0.09842443,  0.34577912, -0.14953035, -0.11280701,\n",
       "       -0.06670459, -0.14930536, -0.05689364,  0.08399664,  0.07548301,\n",
       "       -0.07253155,  0.03045561, -0.11971742, -0.12283409, -0.32158768,\n",
       "        0.09490295,  0.09169069,  0.14070782, -0.11774407,  0.00546052,\n",
       "        0.01279462, -0.05683667, -0.02806698, -0.18858129,  0.01687071,\n",
       "        0.19345355, -0.01585543,  0.0303948 , -0.1799805 , -0.04571705,\n",
       "        0.10247669, -0.01555746, -0.10694227, -0.08396591, -0.10558803,\n",
       "       -0.01866447, -0.12303678, -0.04440008, -0.02612207,  0.08921865,\n",
       "       -0.03680946, -0.07383728, -0.0439963 ,  0.13914657,  0.12657501,\n",
       "        0.10129873, -0.10588013, -0.06920014, -0.03927993, -0.05805773,\n",
       "        0.03013077,  0.03459086, -0.03486379, -0.15963997,  0.00557181,\n",
       "        0.0070584 ,  0.02559014,  0.07467877,  0.02383271, -0.14963184,\n",
       "        0.1535382 ,  0.07176617,  0.10931878, -0.18806885,  0.11739955,\n",
       "       -0.06281084,  0.01409482,  0.12399015,  0.03453001,  0.13840966,\n",
       "        0.07353891,  0.05222156,  0.02520899, -0.12295122,  0.02379221,\n",
       "       -0.08626525, -0.07092171, -0.1658435 ,  0.20513462, -0.06082834,\n",
       "       -0.07040749,  0.02763514,  0.19131465,  0.11692192, -0.01133166,\n",
       "        0.18757483,  0.12009783,  0.12392973, -0.01990761,  0.27945122,\n",
       "        0.1088696 ,  0.04619856, -0.06400923, -0.00405364,  0.01438952],\n",
       "      dtype=float32)"
      ]
     },
     "execution_count": 28,
     "metadata": {},
     "output_type": "execute_result"
    }
   ],
   "source": [
    "model.wv[\"washington\"]"
   ]
  },
  {
   "cell_type": "code",
   "execution_count": 29,
   "id": "7b729a73",
   "metadata": {},
   "outputs": [
    {
     "data": {
      "text/plain": [
       "[('him', 0.9987382292747498),\n",
       " ('from', 0.9987295866012573),\n",
       " ('his', 0.9987185597419739),\n",
       " ('after', 0.9987154006958008),\n",
       " ('has', 0.9987115859985352),\n",
       " ('us', 0.9987057447433472)]"
      ]
     },
     "execution_count": 29,
     "metadata": {},
     "output_type": "execute_result"
    }
   ],
   "source": [
    "w1 = [\"washington\"]\n",
    "model.wv.most_similar(positive=w1, topn=6)"
   ]
  },
  {
   "cell_type": "markdown",
   "id": "5436a32a",
   "metadata": {},
   "source": [
    "## Question 2. \n",
    "When searching for the words most similar to 'Washington', we get results like 'his', 'from', etc., which are clearly not semantically similar to the word 'Washington'. Why is that? Didn't we show that Word2Vec does a good job of grouping semantically similar words, like city names?"
   ]
  },
  {
   "cell_type": "markdown",
   "id": "4ed85f4d",
   "metadata": {},
   "source": [
    "### Some issues with the embeddings\n",
    "\n",
    "-- Add text after pracitcal"
   ]
  },
  {
   "cell_type": "code",
   "execution_count": 31,
   "id": "537453d0",
   "metadata": {},
   "outputs": [
    {
     "data": {
      "text/plain": [
       "<gensim.models.word2vec.Word2Vec at 0x1125c85e0>"
      ]
     },
     "execution_count": 31,
     "metadata": {},
     "output_type": "execute_result"
    }
   ],
   "source": [
    "utterances = list(read_input(\"./media/npr_100000_utterances.csv\"))\n",
    "model = gensim.models.Word2Vec(utterances, window=10, min_count=2, workers=10)\n",
    "model"
   ]
  },
  {
   "cell_type": "code",
   "execution_count": 32,
   "id": "8611d221",
   "metadata": {},
   "outputs": [
    {
     "data": {
      "text/plain": [
       "[('palestinians', 0.7815094590187073),\n",
       " ('israel', 0.7738756537437439),\n",
       " ('diplomatic', 0.7640045285224915),\n",
       " ('hamas', 0.7584590315818787),\n",
       " ('palestinian', 0.7460921406745911),\n",
       " ('democracy', 0.7318993806838989)]"
      ]
     },
     "execution_count": 32,
     "metadata": {},
     "output_type": "execute_result"
    }
   ],
   "source": [
    "w1 = [\"peace\"]\n",
    "model.wv.most_similar (positive=w1,topn=6)"
   ]
  },
  {
   "cell_type": "code",
   "execution_count": 33,
   "id": "203de796",
   "metadata": {},
   "outputs": [
    {
     "data": {
      "text/plain": [
       "[('india', 0.7822583317756653),\n",
       " ('paris', 0.773598313331604),\n",
       " ('indonesia', 0.7654559016227722),\n",
       " ('australia', 0.7619239091873169),\n",
       " ('kenya', 0.7597754001617432),\n",
       " ('nigeria', 0.7595521807670593)]"
      ]
     },
     "execution_count": 33,
     "metadata": {},
     "output_type": "execute_result"
    }
   ],
   "source": [
    "w1 = [\"france\"]\n",
    "model.wv.most_similar (positive=w1,topn=6)"
   ]
  },
  {
   "cell_type": "code",
   "execution_count": 34,
   "id": "f1a16c23",
   "metadata": {},
   "outputs": [
    {
     "data": {
      "text/plain": [
       "[('wind', 0.7141364216804504),\n",
       " ('blow', 0.6803496479988098),\n",
       " ('coal', 0.6799625158309937),\n",
       " ('costs', 0.6738210320472717),\n",
       " ('carbon', 0.6735171675682068),\n",
       " ('product', 0.6574962139129639)]"
      ]
     },
     "execution_count": 34,
     "metadata": {},
     "output_type": "execute_result"
    }
   ],
   "source": [
    "w1 = [\"clean\"]\n",
    "model.wv.most_similar (positive=w1,topn=6)"
   ]
  },
  {
   "cell_type": "code",
   "execution_count": null,
   "id": "e8f61671",
   "metadata": {},
   "outputs": [],
   "source": [
    "### Question 3.\n",
    "\n",
    "Why do the embeddings seem more specific now? Can you explain?"
   ]
  },
  {
   "cell_type": "markdown",
   "id": "ef7dc271",
   "metadata": {},
   "source": [
    "### Facebook's FastText\n",
    "```FastText is an open-source, free, lightweight library that allows users to learn text representations and text classifiers. It works on standard, generic hardware. Models can later be reduced in size to even fit on mobile devices.```\n"
   ]
  },
  {
   "cell_type": "markdown",
   "id": "b5a5309a",
   "metadata": {},
   "source": [
    "![](https://www.dropbox.com/s/i74guibnv5mxx2h/fasttext.png?dl=1)\n",
    "\n",
    "https://fasttext.cc/"
   ]
  },
  {
   "cell_type": "code",
   "execution_count": 35,
   "id": "2feaed64",
   "metadata": {},
   "outputs": [
    {
     "name": "stdout",
     "output_type": "stream",
     "text": [
      "--2024-10-22 09:52:32--  https://dl.fbaipublicfiles.com/fasttext/vectors-english/wiki-news-300d-1M.vec.zip\n",
      "Resolving dl.fbaipublicfiles.com (dl.fbaipublicfiles.com)... 2600:9000:20a6:6200:13:6e38:acc0:93a1, 2600:9000:20a6:7800:13:6e38:acc0:93a1, 2600:9000:20a6:5200:13:6e38:acc0:93a1, ...\n",
      "Connecting to dl.fbaipublicfiles.com (dl.fbaipublicfiles.com)|2600:9000:20a6:6200:13:6e38:acc0:93a1|:443... connected.\n",
      "HTTP request sent, awaiting response... 200 OK\n",
      "Length: 681808098 (650M) [application/zip]\n",
      "Saving to: ‘wiki-news-300d-1M.vec.zip’\n",
      "\n",
      "wiki-news-300d-1M.v 100%[===================>] 650.22M  28.3MB/s    in 30s     \n",
      "\n",
      "2024-10-22 09:53:03 (21.7 MB/s) - ‘wiki-news-300d-1M.vec.zip’ saved [681808098/681808098]\n",
      "\n"
     ]
    }
   ],
   "source": [
    "!wget https://dl.fbaipublicfiles.com/fasttext/vectors-english/wiki-news-300d-1M.vec.zip"
   ]
  },
  {
   "cell_type": "code",
   "execution_count": 36,
   "id": "d8e9e7f1",
   "metadata": {},
   "outputs": [
    {
     "name": "stdout",
     "output_type": "stream",
     "text": [
      "Archive:  media/wiki-news-300d-1M.vec.zip\r\n"
     ]
    }
   ],
   "source": [
    "!mv wiki-news-300d-1M.vec.zip media/\n",
    "!unzip -f media/wiki-news-300d-1M.vec.zip"
   ]
  },
  {
   "cell_type": "code",
   "execution_count": 37,
   "id": "297cb11f",
   "metadata": {},
   "outputs": [
    {
     "name": "stdout",
     "output_type": "stream",
     "text": [
      "Athens\r\n",
      "Greece\r\n",
      "Bangkok\r\n",
      "Thailand\r\n",
      "Latvia\r\n",
      "lats\r\n",
      "Bulgaria\r\n",
      "lev\r\n",
      "bad\r\n",
      "worse\r\n"
     ]
    }
   ],
   "source": [
    "!head ./media/words_to_keep"
   ]
  },
  {
   "cell_type": "code",
   "execution_count": 38,
   "id": "0d5c7e3d",
   "metadata": {},
   "outputs": [
    {
     "data": {
      "text/plain": [
       "['Athens',\n",
       " 'Greece',\n",
       " 'Bangkok',\n",
       " 'Thailand',\n",
       " 'Latvia',\n",
       " 'lats',\n",
       " 'Bulgaria',\n",
       " 'lev',\n",
       " 'bad',\n",
       " 'worse',\n",
       " 'big',\n",
       " 'bigger',\n",
       " 'boy',\n",
       " 'girl',\n",
       " 'brother',\n",
       " 'sister']"
      ]
     },
     "execution_count": 38,
     "metadata": {},
     "output_type": "execute_result"
    }
   ],
   "source": [
    "keep_words= [x.rstrip() for x in open(\"./media/words_to_keep\")]\n",
    "keep_words"
   ]
  },
  {
   "cell_type": "code",
   "execution_count": 40,
   "id": "bf7a5ecb",
   "metadata": {},
   "outputs": [
    {
     "ename": "FileNotFoundError",
     "evalue": "[Errno 2] No such file or directory: 'media/wiki-news-300d-1M.vec'",
     "output_type": "error",
     "traceback": [
      "\u001b[0;31m---------------------------------------------------------------------------\u001b[0m",
      "\u001b[0;31mFileNotFoundError\u001b[0m                         Traceback (most recent call last)",
      "Cell \u001b[0;32mIn [40], line 3\u001b[0m\n\u001b[1;32m      1\u001b[0m \u001b[38;5;28;01mimport\u001b[39;00m \u001b[38;5;21;01mnumpy\u001b[39;00m \u001b[38;5;28;01mas\u001b[39;00m \u001b[38;5;21;01mnp\u001b[39;00m\n\u001b[1;32m      2\u001b[0m words_embeds \u001b[38;5;241m=\u001b[39m {}\n\u001b[0;32m----> 3\u001b[0m \u001b[38;5;28;01mfor\u001b[39;00m line \u001b[38;5;129;01min\u001b[39;00m \u001b[38;5;28;43mopen\u001b[39;49m\u001b[43m(\u001b[49m\u001b[38;5;124;43m\"\u001b[39;49m\u001b[38;5;124;43mmedia/wiki-news-300d-1M.vec\u001b[39;49m\u001b[38;5;124;43m\"\u001b[39;49m\u001b[43m)\u001b[49m:\n\u001b[1;32m      4\u001b[0m     data \u001b[38;5;241m=\u001b[39m line\u001b[38;5;241m.\u001b[39msplit()\n\u001b[1;32m      5\u001b[0m     \u001b[38;5;28;01mif\u001b[39;00m data[\u001b[38;5;241m0\u001b[39m] \u001b[38;5;129;01min\u001b[39;00m keep_words:\n",
      "\u001b[0;31mFileNotFoundError\u001b[0m: [Errno 2] No such file or directory: 'media/wiki-news-300d-1M.vec'"
     ]
    }
   ],
   "source": [
    "import numpy as np\n",
    "words_embeds = {}\n",
    "for line in open(\"media/wiki-news-300d-1M.vec\"):\n",
    "    data = line.split()\n",
    "    if data[0] in keep_words:\n",
    "        words_embeds[data[0]] = np.array(list(map(float, data[1:])))\n"
   ]
  },
  {
   "cell_type": "code",
   "execution_count": 50,
   "id": "261e702c",
   "metadata": {},
   "outputs": [
    {
     "data": {
      "text/plain": [
       "300"
      ]
     },
     "execution_count": 50,
     "metadata": {},
     "output_type": "execute_result"
    }
   ],
   "source": [
    "words_embeds[\"big\"].size\n"
   ]
  },
  {
   "cell_type": "code",
   "execution_count": 51,
   "id": "66013a45",
   "metadata": {},
   "outputs": [
    {
     "data": {
      "text/plain": [
       "dict_keys(['big', 'bad', 'girl', 'Greece', 'boy', 'brother', 'worse', 'sister', 'bigger', 'Thailand', 'Bulgaria', 'Athens', 'Latvia', 'Bangkok', 'lats', 'lev'])"
      ]
     },
     "execution_count": 51,
     "metadata": {},
     "output_type": "execute_result"
    }
   ],
   "source": [
    "words_embeds.keys()"
   ]
  },
  {
   "cell_type": "code",
   "execution_count": 52,
   "id": "354e5d2f",
   "metadata": {},
   "outputs": [
    {
     "data": {
      "text/plain": [
       "array([ 0.3193, -0.0592, -0.0461, -0.1192, -0.0269,  0.0761, -0.0135,\n",
       "       -0.0527, -0.0506,  0.073 ,  0.0514, -0.1087,  0.0921, -0.0437,\n",
       "        0.0175,  0.204 , -0.0187, -0.0671,  0.1144, -0.0361, -0.1047,\n",
       "        0.1144, -0.2408,  0.0436,  0.0406, -0.0068, -0.1024,  0.1106,\n",
       "       -0.0419, -0.1826,  0.1547,  0.0084, -0.2653,  0.1108, -0.1934,\n",
       "        0.152 , -0.1   , -0.0516,  0.0547, -0.0557, -0.0244,  0.1113,\n",
       "       -0.0535,  0.0241,  0.0024, -0.0016, -0.0264,  0.0544,  0.0263,\n",
       "       -0.0619,  0.0101, -0.0284, -0.6605,  0.12  ,  0.051 , -0.0162,\n",
       "       -0.0769,  0.1983,  0.0784,  0.0058,  0.0147, -0.0124, -0.0843,\n",
       "       -0.076 , -0.0489, -0.0935, -0.0857,  0.113 ,  0.0732, -0.0112,\n",
       "        0.0516, -0.0555, -0.026 ,  0.0495, -0.0793,  0.1126,  0.0691,\n",
       "        0.1725, -0.0754,  0.049 ,  0.036 , -0.1203, -0.0533, -0.185 ,\n",
       "        0.108 , -0.073 , -0.2247, -0.2533,  0.1525,  0.0283, -0.0906,\n",
       "        0.1891,  0.0952, -0.0831,  0.1297,  0.1307, -0.0464,  0.0717,\n",
       "        0.0647, -0.0067, -0.2529,  0.0477, -0.0363,  0.1027, -0.0676,\n",
       "        0.1854,  0.1998,  0.0371, -0.3388,  0.1181,  0.0703,  0.1413,\n",
       "        0.0536,  0.0219, -0.0063, -0.1822, -0.3151, -0.1762, -0.1727,\n",
       "       -0.451 , -0.0104,  0.0166,  0.1902, -0.0361, -0.028 ,  0.263 ,\n",
       "        0.0306,  0.1736,  0.2473, -0.0301,  0.0036,  0.2979, -0.0866,\n",
       "        0.0542, -0.0219,  0.118 , -0.0455, -0.1473, -0.0924,  0.1029,\n",
       "        0.0844,  0.063 ,  0.1515,  0.212 ,  0.053 ,  0.0436,  0.0217,\n",
       "       -0.0409, -0.1192, -0.1309, -0.1141, -0.0074, -0.0096,  0.004 ,\n",
       "       -0.1566,  0.0187, -0.1142,  0.065 ,  0.0323, -0.0358,  0.0073,\n",
       "       -0.2284,  0.064 ,  0.1503,  0.0066,  0.1153,  0.1018,  0.1183,\n",
       "       -0.148 , -0.0377, -0.0398, -0.0993, -0.0892,  0.0649,  0.1157,\n",
       "       -0.0604,  0.2441, -0.1802,  0.1441,  0.0768, -0.1027, -0.0414,\n",
       "       -0.0212,  0.1544, -0.0651,  0.0129,  0.1929, -0.1133, -0.0481,\n",
       "        0.0746,  0.0185,  0.0486, -0.1424,  0.0473,  0.0012, -0.0509,\n",
       "       -0.0853,  0.0225,  0.1406,  0.0232, -0.0666, -0.1215, -0.1195,\n",
       "       -0.0482,  0.1838,  0.0149, -0.1235, -0.1072,  0.0065,  0.0344,\n",
       "       -0.0378,  0.0475, -0.047 , -0.0156, -0.0398, -0.1028, -0.0299,\n",
       "       -0.0596,  0.1034, -0.0347, -0.0509, -0.0429,  0.1024,  0.1888,\n",
       "        0.0467,  0.0797,  0.0307,  0.0037, -0.005 , -0.0884, -0.2874,\n",
       "        0.1423,  0.4253, -0.0449, -0.2076, -0.1025,  0.0101,  0.1853,\n",
       "       -0.3444, -0.0824, -0.0531, -0.0139,  0.038 , -0.0606, -0.003 ,\n",
       "       -0.1401,  0.1382, -0.0076, -0.0624,  0.3538,  0.1459,  0.1313,\n",
       "       -0.0751, -0.0563, -0.0091, -0.0223, -0.2093,  0.0916, -0.0427,\n",
       "       -0.0763, -0.0661,  0.0626,  0.0897, -0.1476, -0.4812, -0.0301,\n",
       "        0.1338,  0.1397, -0.0199,  0.0892,  0.0102,  0.0805, -0.0375,\n",
       "       -0.1161, -0.0057,  0.143 , -0.0438, -0.0931,  0.0229,  0.1268,\n",
       "       -0.1536, -0.1259, -0.0057,  0.0952,  0.0919,  0.1516, -0.0319,\n",
       "       -0.24  ,  0.1136,  0.1703, -0.0128,  0.0314,  0.0022,  0.0357,\n",
       "        0.1626, -0.0577, -0.0027, -0.0098,  0.05  , -0.1224])"
      ]
     },
     "execution_count": 52,
     "metadata": {},
     "output_type": "execute_result"
    }
   ],
   "source": [
    "res = words_embeds[\"girl\"] - words_embeds[\"boy\"] + words_embeds[\"brother\"]\n",
    "res"
   ]
  },
  {
   "cell_type": "code",
   "execution_count": 56,
   "id": "20e282a6",
   "metadata": {},
   "outputs": [
    {
     "data": {
      "text/plain": [
       "array([ 0.09,  0.03, -0.02, -0.01,  0.06,  0.  , -0.03, -0.1 , -0.18,\n",
       "        0.05,  0.08,  0.09,  0.15, -0.  , -0.02,  0.12, -0.15, -0.14,\n",
       "        0.08,  0.1 , -0.11,  0.09, -0.12, -0.12,  0.04,  0.05, -0.  ,\n",
       "       -0.  , -0.04, -0.11, -0.03, -0.03, -0.06,  0.02, -0.13,  0.05,\n",
       "       -0.13,  0.04, -0.01, -0.03,  0.11,  0.03,  0.07,  0.01,  0.1 ,\n",
       "        0.  ,  0.02,  0.06,  0.1 , -0.07,  0.02,  0.05, -0.02,  0.12,\n",
       "        0.07, -0.04, -0.01, -0.03,  0.01, -0.04,  0.03, -0.17,  0.02,\n",
       "        0.04, -0.16,  0.11, -0.03,  0.05, -0.06,  0.03, -0.05, -0.07,\n",
       "        0.03, -0.  , -0.08, -0.05,  0.06,  0.1 , -0.01,  0.08,  0.01,\n",
       "       -0.07,  0.02,  0.03,  0.08, -0.14, -0.11, -0.12,  0.03,  0.05,\n",
       "        0.02,  0.05,  0.03, -0.02,  0.08, -0.02, -0.06,  0.09,  0.07,\n",
       "        0.02, -0.  ,  0.1 , -0.  ,  0.06, -0.06, -0.09, -0.  , -0.08,\n",
       "       -0.04,  0.1 , -0.07,  0.08,  0.1 ,  0.02, -0.  , -0.03, -0.22,\n",
       "       -0.06, -0.05, -0.07,  0.04, -0.01,  0.06, -0.  ,  0.01,  0.04,\n",
       "       -0.01,  0.05,  0.04, -0.04, -0.05,  0.15, -0.05, -0.07, -0.02,\n",
       "        0.13,  0.04, -0.01,  0.03,  0.07,  0.03,  0.05,  0.09,  0.01,\n",
       "        0.03, -0.03, -0.04, -0.1 , -0.06, -0.09,  0.12, -0.04,  0.02,\n",
       "        0.02, -0.05,  0.02, -0.04, -0.06,  0.03,  0.02,  0.03, -0.08,\n",
       "        0.13,  0.08,  0.02,  0.07,  0.  ,  0.1 , -0.06, -0.11, -0.08,\n",
       "       -0.01, -0.02,  0.1 ,  0.  , -0.  ,  0.01, -0.03,  0.04,  0.08,\n",
       "       -0.06,  0.01, -0.03,  0.03, -0.05, -0.  , -0.07, -0.06, -0.13,\n",
       "       -0.04, -0.02, -0.07, -0.08,  0.02, -0.11,  0.06,  0.04, -0.07,\n",
       "        0.03,  0.07, -0.08, -0.05, -0.18, -0.01,  0.07, -0.03,  0.12,\n",
       "       -0.1 , -0.06,  0.05,  0.04,  0.06, -0.02, -0.04,  0.08, -0.1 ,\n",
       "        0.03,  0.01, -0.1 , -0.08, -0.02,  0.01,  0.05,  0.16,  0.09,\n",
       "        0.1 , -0.08,  0.01, -0.04,  0.02, -0.05,  0.04,  0.04, -0.03,\n",
       "       -0.14, -0.  ,  0.06, -0.02, -0.05,  0.1 , -0.1 ,  0.01,  0.02,\n",
       "        0.  , -0.02, -0.01,  0.05, -0.01,  0.01, -0.03, -0.05, -0.  ,\n",
       "       -0.01,  0.1 , -0.02,  0.01, -0.12,  0.06, -0.  ,  0.  , -0.03,\n",
       "        0.05, -0.09, -0.11, -0.24,  0.01,  0.05,  0.04,  0.06,  0.06,\n",
       "        0.04, -0.01, -0.03, -0.12, -0.04,  0.11,  0.01, -0.03, -0.06,\n",
       "        0.13, -0.1 ,  0.04,  0.03,  0.09,  0.13,  0.07,  0.07, -0.08,\n",
       "       -0.02,  0.06,  0.01, -0.14,  0.08,  0.03,  0.03, -0.03,  0.03,\n",
       "        0.01, -0.07,  0.  ])"
      ]
     },
     "execution_count": 56,
     "metadata": {},
     "output_type": "execute_result"
    }
   ],
   "source": [
    "(res - words_embeds[\"sister\"]).round(2)"
   ]
  },
  {
   "cell_type": "code",
   "execution_count": 57,
   "id": "849461d1",
   "metadata": {},
   "outputs": [
    {
     "data": {
      "text/plain": [
       "array([-0.1327,  0.0784, -0.055 ,  0.0611,  0.0797,  0.1164,  0.046 ,\n",
       "       -0.037 , -0.0355,  0.0513, -0.0199, -0.0035, -0.0899, -0.1537,\n",
       "        0.1146, -0.0609, -0.0377,  0.0771,  0.1355, -0.0447,  0.0406,\n",
       "        0.0276, -0.0242, -0.1399, -0.015 , -0.017 ,  0.0434,  0.1223,\n",
       "       -0.1286, -0.0405, -0.0133,  0.0051,  0.148 , -0.0099, -0.0094,\n",
       "       -0.0259, -0.0225, -0.0012,  0.0467,  0.0649, -0.0056, -0.1069,\n",
       "       -0.0731, -0.0892,  0.0733, -0.147 , -0.0383, -0.021 , -0.0656,\n",
       "       -0.0414,  0.0473, -0.1991,  0.0511, -0.1198, -0.0425,  0.0225,\n",
       "        0.0601, -0.0004,  0.1398, -0.1176,  0.0966, -0.0023, -0.0718,\n",
       "       -0.1041, -0.0655,  0.0543, -0.0539, -0.0064,  0.014 , -0.0332,\n",
       "        0.0053, -0.005 ,  0.0586, -0.0089, -0.0059,  0.0169,  0.0279,\n",
       "        0.0184, -0.0467, -0.1185,  0.0281, -0.1469,  0.0144, -0.0349,\n",
       "       -0.029 , -0.0187,  0.0252,  0.0442,  0.0651, -0.029 , -0.0815,\n",
       "        0.0467, -0.067 ,  0.0571,  0.0345, -0.0431,  0.036 , -0.0751,\n",
       "        0.0092, -0.0862,  0.0389,  0.0342, -0.0658,  0.0239,  0.0905,\n",
       "        0.0289,  0.061 ,  0.0361,  0.2203, -0.0791, -0.0133, -0.1703,\n",
       "        0.0123, -0.0828, -0.0798,  0.0219, -0.0244,  0.0702,  0.0208,\n",
       "       -0.0464,  0.0115,  0.1861,  0.0253, -0.061 , -0.062 , -0.0317,\n",
       "       -0.0357, -0.1717,  0.0884,  0.0203, -0.2204,  0.0104, -0.1121,\n",
       "       -0.0707,  0.0403, -0.0053, -0.0635, -0.0236,  0.2271, -0.1433,\n",
       "        0.0159,  0.047 , -0.0564,  0.0294, -0.0453,  0.0174,  0.0115,\n",
       "        0.1021,  0.056 ,  0.0449,  0.054 , -0.1198, -0.0737,  0.0879,\n",
       "        0.0077, -0.0389, -0.081 ,  0.0016,  0.0128,  0.0446, -0.3555,\n",
       "       -0.0208,  0.0773,  0.0858,  0.0981,  0.0124, -0.0456, -0.0716,\n",
       "       -0.0302,  0.026 , -0.079 , -0.0192, -0.0301, -0.0464, -0.045 ,\n",
       "       -0.1567, -0.04  ,  0.111 ,  0.0522,  0.0672,  0.0056,  0.1485,\n",
       "       -0.0944, -0.0309,  0.0452, -0.0186, -0.0941,  0.0117,  0.0474,\n",
       "        0.1355, -0.044 ,  0.0219, -0.046 , -0.0041, -0.073 , -0.0906,\n",
       "       -0.1119,  0.0108, -0.0533,  0.0478,  0.1159, -0.0834,  0.087 ,\n",
       "        0.0611, -0.0648, -0.0423, -0.0183, -0.0042, -0.0193, -0.0726,\n",
       "       -0.1142,  0.0732,  0.0243,  0.1204,  0.0746, -0.0381, -0.0085,\n",
       "       -0.0638, -0.1633,  0.2374,  0.0199,  0.1293,  0.0976, -0.043 ,\n",
       "       -0.0626, -0.1019, -0.0404,  0.002 ,  0.0127, -0.134 ,  0.0528,\n",
       "       -0.0334,  0.0267, -0.0407,  0.0496, -0.0748, -0.0304, -0.1855,\n",
       "        0.0248, -0.0349,  0.0388,  0.0062,  0.013 ,  0.0604, -0.0165,\n",
       "        0.0734, -0.0835,  0.0108,  0.066 , -0.0274,  0.0203, -0.065 ,\n",
       "        0.0251, -0.0038,  0.151 ,  0.0324,  0.0595, -0.0361, -0.0372,\n",
       "        0.062 , -0.2015,  0.0479,  0.0984, -0.0091, -0.0253, -0.0207,\n",
       "       -0.1285, -0.062 , -0.1421,  0.0391, -0.0191,  0.0514, -0.0187,\n",
       "        0.0473,  0.0245, -0.0711,  0.1757,  0.0211,  0.0103, -0.0392,\n",
       "        0.0941, -0.0541, -0.0161, -0.1476,  0.0122,  0.0136, -0.0226,\n",
       "       -0.083 ,  0.0444, -0.1325,  0.0293, -0.0418,  0.0116, -0.0124,\n",
       "        0.0033,  0.0623,  0.042 ,  0.0038, -0.1803,  0.0187])"
      ]
     },
     "execution_count": 57,
     "metadata": {},
     "output_type": "execute_result"
    }
   ],
   "source": [
    "words_embeds[\"big\"] - words_embeds[\"bigger\"]"
   ]
  },
  {
   "cell_type": "code",
   "execution_count": 58,
   "id": "c86d5f3a",
   "metadata": {},
   "outputs": [
    {
     "data": {
      "text/plain": [
       "array([-0.0787,  0.0242, -0.1185, -0.0537,  0.043 , -0.0393,  0.0571,\n",
       "        0.0376, -0.0712,  0.0804, -0.0086, -0.0253, -0.0076, -0.0387,\n",
       "        0.0228, -0.0386, -0.1761,  0.1261, -0.1006, -0.0851, -0.0035,\n",
       "        0.0702,  0.0701, -0.032 , -0.1056, -0.0551, -0.0382,  0.0622,\n",
       "       -0.1478,  0.0503, -0.0453,  0.0566,  0.1311,  0.1304, -0.0086,\n",
       "       -0.0209, -0.1283,  0.0258, -0.0828,  0.1165,  0.031 ,  0.0346,\n",
       "       -0.166 , -0.0239, -0.0041,  0.0102,  0.1294, -0.0491,  0.0247,\n",
       "       -0.0963,  0.0205, -0.125 , -0.0094, -0.0271, -0.0095, -0.0034,\n",
       "        0.0866, -0.0041,  0.1393, -0.1289,  0.0528,  0.0063, -0.1536,\n",
       "       -0.0411,  0.0974,  0.2016, -0.0616,  0.0381,  0.0947, -0.0441,\n",
       "        0.0408,  0.0899, -0.0282,  0.0379,  0.0183,  0.0029,  0.0329,\n",
       "        0.0653,  0.1541, -0.0011,  0.0159, -0.0963,  0.1247, -0.0394,\n",
       "        0.0224,  0.0022, -0.0763, -0.0646,  0.2064,  0.1143, -0.0372,\n",
       "        0.0529,  0.0101,  0.0577,  0.0126,  0.0242,  0.0227,  0.0749,\n",
       "        0.0312, -0.0792,  0.0285,  0.1511, -0.0114,  0.0903,  0.1325,\n",
       "       -0.0421,  0.0679, -0.0051,  0.2073, -0.1845, -0.0771, -0.1836,\n",
       "        0.0812, -0.0139, -0.1975,  0.0519,  0.0068, -0.076 ,  0.064 ,\n",
       "        0.0063, -0.0734,  0.0403, -0.0104, -0.0515, -0.1401,  0.0055,\n",
       "        0.093 , -0.2951,  0.0726,  0.0164,  0.0499, -0.0477, -0.0683,\n",
       "        0.0032, -0.0602, -0.042 , -0.1132, -0.0168,  0.2775, -0.1709,\n",
       "       -0.0032, -0.0454, -0.0434, -0.0199,  0.0452, -0.0277,  0.0159,\n",
       "       -0.0986,  0.0472,  0.0632, -0.0819,  0.0343, -0.1633,  0.0206,\n",
       "        0.04  , -0.0046, -0.0618,  0.0409,  0.109 ,  0.0358, -0.2537,\n",
       "        0.0409,  0.0505,  0.0587,  0.1146,  0.0544,  0.0376,  0.0944,\n",
       "        0.0165,  0.1191,  0.0111, -0.103 , -0.1089, -0.0743, -0.0096,\n",
       "       -0.1116,  0.0353, -0.1328,  0.0597,  0.1278,  0.1087,  0.0231,\n",
       "       -0.0746, -0.0778,  0.1135,  0.1077, -0.0216,  0.0832,  0.022 ,\n",
       "        0.2293, -0.1069, -0.1115,  0.0277,  0.0691, -0.0045, -0.0706,\n",
       "       -0.1694,  0.141 , -0.1348,  0.0197,  0.0162, -0.1753,  0.0075,\n",
       "        0.0105, -0.1054, -0.1683, -0.1836,  0.0982, -0.0024, -0.02  ,\n",
       "        0.0074, -0.0549, -0.0164, -0.0602, -0.0357,  0.0935, -0.0466,\n",
       "       -0.0501, -0.2002,  0.2457,  0.0384,  0.1169, -0.0021, -0.0652,\n",
       "       -0.0565, -0.2604, -0.0939, -0.1365, -0.1276, -0.2031,  0.1792,\n",
       "       -0.002 , -0.0096, -0.019 , -0.0755, -0.2365,  0.0438, -0.1667,\n",
       "        0.0308, -0.0797,  0.0316, -0.0174, -0.0185,  0.0324, -0.0666,\n",
       "       -0.0292, -0.1039, -0.1239, -0.0534,  0.0345, -0.0717,  0.1057,\n",
       "        0.0362, -0.1335,  0.2186, -0.0198,  0.0295, -0.0524,  0.0072,\n",
       "       -0.0003, -0.071 ,  0.1764,  0.0664,  0.0249, -0.0277,  0.0019,\n",
       "       -0.1679, -0.0854, -0.1193,  0.0288, -0.0091,  0.0414, -0.0466,\n",
       "        0.0515,  0.0042, -0.0298,  0.1657, -0.0594,  0.0269, -0.014 ,\n",
       "       -0.0105, -0.1407, -0.0398,  0.0062, -0.0083, -0.0175,  0.1885,\n",
       "       -0.0486,  0.1707, -0.0904,  0.0326, -0.0808,  0.0444,  0.1051,\n",
       "        0.0035,  0.1401,  0.0054,  0.006 , -0.259 , -0.0478])"
      ]
     },
     "execution_count": 58,
     "metadata": {},
     "output_type": "execute_result"
    }
   ],
   "source": [
    "words_embeds[\"bad\"] - words_embeds[\"worse\"]"
   ]
  },
  {
   "cell_type": "code",
   "execution_count": 59,
   "id": "597f953a",
   "metadata": {},
   "outputs": [
    {
     "data": {
      "text/plain": [
       "array([ 5.400e-02, -5.420e-02, -6.350e-02, -1.148e-01, -3.670e-02,\n",
       "       -1.557e-01,  1.110e-02,  7.460e-02, -3.570e-02,  2.910e-02,\n",
       "        1.130e-02, -2.180e-02,  8.230e-02,  1.150e-01, -9.180e-02,\n",
       "        2.230e-02, -1.384e-01,  4.900e-02, -2.361e-01, -4.040e-02,\n",
       "       -4.410e-02,  4.260e-02,  9.430e-02,  1.079e-01, -9.060e-02,\n",
       "       -3.810e-02, -8.160e-02, -6.010e-02, -1.920e-02,  9.080e-02,\n",
       "       -3.200e-02,  5.150e-02, -1.690e-02,  1.403e-01,  8.000e-04,\n",
       "        5.000e-03, -1.058e-01,  2.700e-02, -1.295e-01,  5.160e-02,\n",
       "        3.660e-02,  1.415e-01, -9.290e-02,  6.530e-02, -7.740e-02,\n",
       "        1.572e-01,  1.677e-01, -2.810e-02,  9.030e-02, -5.490e-02,\n",
       "       -2.680e-02,  7.410e-02, -6.050e-02,  9.270e-02,  3.300e-02,\n",
       "       -2.590e-02,  2.650e-02, -3.700e-03, -5.000e-04, -1.130e-02,\n",
       "       -4.380e-02,  8.600e-03, -8.180e-02,  6.300e-02,  1.629e-01,\n",
       "        1.473e-01, -7.700e-03,  4.450e-02,  8.070e-02, -1.090e-02,\n",
       "        3.550e-02,  9.490e-02, -8.680e-02,  4.680e-02,  2.420e-02,\n",
       "       -1.400e-02,  5.000e-03,  4.690e-02,  2.008e-01,  1.174e-01,\n",
       "       -1.220e-02,  5.060e-02,  1.103e-01, -4.500e-03,  5.140e-02,\n",
       "        2.090e-02, -1.015e-01, -1.088e-01,  1.413e-01,  1.433e-01,\n",
       "        4.430e-02,  6.200e-03,  7.710e-02,  6.000e-04, -2.190e-02,\n",
       "        6.730e-02, -1.330e-02,  1.500e-01,  2.200e-02,  7.000e-03,\n",
       "       -1.040e-02,  1.169e-01,  5.440e-02,  6.640e-02,  4.200e-02,\n",
       "       -7.100e-02,  6.900e-03, -4.120e-02, -1.300e-02, -1.054e-01,\n",
       "       -6.380e-02, -1.330e-02,  6.890e-02,  6.890e-02, -1.177e-01,\n",
       "        3.000e-02,  3.120e-02, -1.462e-01,  4.320e-02,  5.270e-02,\n",
       "       -8.490e-02, -1.458e-01, -3.570e-02,  9.500e-03, -7.810e-02,\n",
       "        3.720e-02,  1.287e-01, -1.234e-01, -1.580e-02, -3.900e-03,\n",
       "        2.703e-01, -5.810e-02,  4.380e-02,  7.390e-02, -1.005e-01,\n",
       "       -3.670e-02, -4.970e-02,  6.800e-03,  5.040e-02, -2.760e-02,\n",
       "       -1.910e-02, -9.240e-02,  1.300e-02, -4.930e-02,  9.050e-02,\n",
       "       -4.510e-02,  4.400e-03, -2.007e-01, -8.800e-03,  1.830e-02,\n",
       "       -1.359e-01,  1.541e-01, -8.960e-02, -6.730e-02,  3.230e-02,\n",
       "        3.430e-02,  1.920e-02,  3.930e-02,  9.620e-02, -8.800e-03,\n",
       "        1.018e-01,  6.170e-02, -2.680e-02, -2.710e-02,  1.650e-02,\n",
       "        4.200e-02,  8.320e-02,  1.660e-01,  4.670e-02,  9.310e-02,\n",
       "        9.010e-02, -8.380e-02, -7.880e-02, -2.790e-02,  3.540e-02,\n",
       "        4.510e-02,  7.530e-02, -2.438e-01,  7.500e-03,  6.060e-02,\n",
       "        1.031e-01, -1.254e-01,  1.980e-02, -4.690e-02,  6.830e-02,\n",
       "        1.263e-01,  7.250e-02,  7.150e-02, -2.540e-02,  9.380e-02,\n",
       "       -6.290e-02, -1.334e-01,  7.370e-02,  7.320e-02,  6.850e-02,\n",
       "        2.000e-02, -5.750e-02,  1.302e-01, -8.150e-02, -2.810e-02,\n",
       "       -9.970e-02, -9.190e-02, -7.950e-02, -5.060e-02, -4.060e-02,\n",
       "       -1.260e-01, -1.653e-01,  1.024e-01,  1.690e-02,  5.260e-02,\n",
       "        1.216e-01, -1.281e-01, -4.070e-02, -1.806e-01, -1.103e-01,\n",
       "        1.316e-01, -3.810e-02,  1.370e-02, -3.690e-02,  8.300e-03,\n",
       "        1.850e-02, -1.240e-02, -9.970e-02, -2.220e-02,  6.100e-03,\n",
       "       -1.585e-01, -5.350e-02, -1.385e-01, -1.403e-01, -6.910e-02,\n",
       "        1.264e-01,  3.140e-02, -3.630e-02,  2.170e-02, -1.251e-01,\n",
       "       -1.617e-01,  7.420e-02,  1.880e-02,  6.000e-03, -4.480e-02,\n",
       "       -7.200e-03, -2.360e-02, -3.150e-02, -2.800e-02, -5.010e-02,\n",
       "       -1.026e-01, -2.040e-02, -1.347e-01, -1.194e-01,  6.190e-02,\n",
       "       -9.200e-02,  1.707e-01,  1.110e-02, -1.297e-01,  6.760e-02,\n",
       "       -5.220e-02, -3.000e-02, -1.630e-02,  4.440e-02, -6.230e-02,\n",
       "        1.305e-01,  1.285e-01, -3.200e-02,  3.400e-02, -2.400e-03,\n",
       "        2.260e-02, -3.940e-02, -2.340e-02,  2.280e-02, -1.030e-02,\n",
       "        1.000e-02, -1.000e-02, -2.790e-02,  4.200e-03, -2.030e-02,\n",
       "        4.130e-02, -1.000e-02, -8.050e-02,  1.660e-02,  2.520e-02,\n",
       "       -1.046e-01, -8.660e-02, -2.370e-02,  1.538e-01, -2.050e-02,\n",
       "       -3.110e-02,  2.111e-01,  3.440e-02,  1.263e-01,  4.210e-02,\n",
       "        3.300e-03, -3.900e-02,  3.280e-02,  1.175e-01,  2.000e-04,\n",
       "        7.780e-02, -3.660e-02,  2.200e-03, -7.870e-02, -6.650e-02])"
      ]
     },
     "execution_count": 59,
     "metadata": {},
     "output_type": "execute_result"
    }
   ],
   "source": [
    "(words_embeds[\"bad\"] - words_embeds[\"worse\"]) - (words_embeds[\"big\"] - words_embeds[\"bigger\"])"
   ]
  },
  {
   "cell_type": "code",
   "execution_count": 55,
   "id": "fbb7522f",
   "metadata": {},
   "outputs": [
    {
     "ename": "NameError",
     "evalue": "name 'dbutils' is not defined",
     "output_type": "error",
     "traceback": [
      "\u001b[0;31m---------------------------------------------------------------------------\u001b[0m",
      "\u001b[0;31mNameError\u001b[0m                                 Traceback (most recent call last)",
      "Cell \u001b[0;32mIn[55], line 3\u001b[0m\n\u001b[1;32m      1\u001b[0m \u001b[38;5;66;03m# https://github.com/facebookresearch/faiss\u001b[39;00m\n\u001b[1;32m      2\u001b[0m \u001b[38;5;66;03m# !pip install faiss\u001b[39;00m\n\u001b[0;32m----> 3\u001b[0m \u001b[43mdbutils\u001b[49m\u001b[38;5;241m.\u001b[39mfs\u001b[38;5;241m.\u001b[39mls(\u001b[38;5;124m\"\u001b[39m\u001b[38;5;124mdbfs:/FileStore/\u001b[39m\u001b[38;5;124m\"\u001b[39m)\n",
      "\u001b[0;31mNameError\u001b[0m: name 'dbutils' is not defined"
     ]
    }
   ],
   "source": [
    "# https://github.com/facebookresearch/faiss\n",
    "# !pip install faiss\n",
    "dbutils.fs.ls(\"dbfs:/FileStore/\")"
   ]
  },
  {
   "cell_type": "code",
   "execution_count": 61,
   "id": "436e99f2",
   "metadata": {},
   "outputs": [],
   "source": [
    "import faiss"
   ]
  },
  {
   "cell_type": "code",
   "execution_count": 88,
   "id": "2217da2a",
   "metadata": {},
   "outputs": [],
   "source": [
    "words = np.array(list(words_embeds.keys()))\n",
    "embeds = np.array(list(words_embeds.values()))"
   ]
  },
  {
   "cell_type": "code",
   "execution_count": 75,
   "id": "f84bc308",
   "metadata": {},
   "outputs": [],
   "source": [
    "index = faiss.IndexFlatL2(300)\n",
    "index.add(embeds)   "
   ]
  },
  {
   "cell_type": "code",
   "execution_count": 80,
   "id": "658f28ed",
   "metadata": {},
   "outputs": [
    {
     "data": {
      "text/plain": [
       "array([[ 3.180e-02, -1.105e-01, -1.446e-01, -3.510e-02, -4.610e-02,\n",
       "         6.990e-02,  4.390e-02, -4.310e-02,  7.330e-02, -6.790e-02,\n",
       "         7.900e-03, -1.142e-01, -3.660e-02, -3.880e-02, -8.730e-02,\n",
       "         1.160e-02, -1.213e-01,  7.770e-02,  1.200e-03, -9.450e-02,\n",
       "         8.100e-03,  7.300e-03,  4.880e-02,  1.211e-01, -2.710e-02,\n",
       "        -1.052e-01, -4.690e-02, -6.370e-02, -4.960e-02, -1.770e-02,\n",
       "         4.860e-02, -3.890e-02,  2.301e-01,  1.047e-01,  8.890e-02,\n",
       "         1.141e-01, -2.470e-02, -5.620e-02, -6.120e-02,  9.820e-02,\n",
       "         1.081e-01,  6.760e-02, -1.718e-01, -1.690e-02, -1.780e-02,\n",
       "        -6.100e-03,  3.450e-02,  8.070e-02,  1.600e-02,  2.320e-02,\n",
       "         4.800e-02, -9.170e-02, -7.630e-01, -4.980e-02,  3.170e-02,\n",
       "        -3.420e-02,  1.029e-01,  2.180e-02,  6.800e-03, -5.440e-02,\n",
       "        -1.476e-01, -2.400e-03,  3.340e-02, -5.610e-02,  1.173e-01,\n",
       "        -1.176e-01,  2.580e-02,  9.420e-02, -5.800e-02,  1.440e-02,\n",
       "        -2.730e-02,  5.440e-02, -6.590e-02, -8.370e-02,  5.880e-02,\n",
       "         2.010e-02,  2.260e-01, -5.320e-02,  1.632e-01,  1.736e-01,\n",
       "        -5.200e-03,  5.720e-02,  4.590e-02, -2.270e-01, -4.280e-02,\n",
       "        -6.900e-02, -3.890e-02, -1.825e-01,  8.290e-02,  7.570e-02,\n",
       "         1.640e-02,  1.291e-01, -1.293e-01, -8.890e-02, -4.020e-02,\n",
       "         2.015e-01,  2.340e-02,  1.723e-01,  6.180e-02,  3.010e-02,\n",
       "        -1.490e-01,  2.002e-01,  9.610e-02,  6.280e-02,  3.110e-02,\n",
       "        -5.740e-02,  2.817e-01,  3.930e-02,  3.550e-02,  2.600e-03,\n",
       "        -7.670e-02, -3.230e-02, -8.400e-03, -5.810e-02, -1.306e-01,\n",
       "        -5.150e-02, -3.410e-02,  2.870e-02,  2.350e-02, -2.967e-01,\n",
       "        -1.443e-01,  8.770e-02, -1.761e-01,  2.520e-02, -2.300e-02,\n",
       "         1.878e-01, -1.730e-02, -8.380e-02, -7.640e-02,  1.619e-01,\n",
       "         1.408e-01, -1.177e-01, -1.117e-01,  3.280e-02, -1.147e-01,\n",
       "        -3.743e-01, -5.180e-02,  3.260e-02,  2.254e-01, -9.010e-02,\n",
       "         3.940e-02,  4.540e-02, -4.970e-02,  2.476e-01,  4.660e-02,\n",
       "        -1.683e-01,  8.530e-02, -8.300e-02, -6.060e-02,  1.310e-01,\n",
       "         4.660e-02,  3.810e-02, -4.880e-02,  7.580e-02,  1.207e-01,\n",
       "         1.063e-01, -6.220e-02,  1.130e-01,  2.430e-02, -4.270e-02,\n",
       "        -2.125e-01,  7.220e-02,  6.170e-02,  5.110e-02,  2.861e-01,\n",
       "        -9.000e-04,  1.378e-01, -2.041e-01,  7.740e-02,  1.320e-02,\n",
       "         1.538e-01, -1.280e-02, -1.423e-01, -6.800e-03,  7.870e-02,\n",
       "         5.640e-02,  2.336e-01,  1.158e-01, -3.550e-02,  7.750e-02,\n",
       "         1.282e-01,  1.467e-01, -1.595e-01, -1.030e-01, -3.310e-02,\n",
       "         1.245e-01, -9.350e-02, -1.444e-01,  1.075e-01,  6.060e-02,\n",
       "        -5.590e-02,  6.800e-03,  9.460e-02, -4.400e-02,  1.090e-01,\n",
       "         6.690e-02, -1.593e-01,  4.200e-02,  1.348e-01,  3.530e-02,\n",
       "        -1.340e-02, -1.932e-01, -6.390e-02,  3.060e-02,  1.084e-01,\n",
       "        -1.180e-02, -8.750e-02,  7.480e-02,  7.050e-02,  5.360e-02,\n",
       "         1.043e-01,  1.300e-03, -7.340e-02, -1.549e-01, -6.990e-02,\n",
       "         1.086e-01, -1.342e-01, -5.560e-02, -3.560e-02, -4.260e-02,\n",
       "         1.625e-01, -1.137e-01, -6.400e-03, -1.178e-01,  7.800e-03,\n",
       "        -2.980e-01, -1.092e-01, -6.820e-02, -1.520e-02, -2.102e-01,\n",
       "         1.200e-02, -7.480e-02,  2.661e-01,  3.620e-02,  9.400e-03,\n",
       "        -2.090e-02, -6.100e-02, -2.538e-01, -1.619e-01, -1.240e-02,\n",
       "        -2.900e-03,  4.460e-02, -7.580e-02,  7.210e-02, -5.100e-02,\n",
       "        -7.600e-02, -4.000e-04, -2.990e-02,  2.420e-02,  3.306e-01,\n",
       "         3.440e-02,  8.960e-02,  4.230e-02,  1.400e-02,  2.028e-01,\n",
       "        -6.300e-02, -9.440e-02,  4.770e-02, -9.400e-03, -5.430e-02,\n",
       "         5.280e-02,  8.150e-02,  3.050e-02,  1.120e-02,  7.910e-02,\n",
       "        -3.140e-02,  9.280e-02, -1.607e-01, -1.662e-01,  1.331e-01,\n",
       "         1.406e-01,  2.110e-02,  5.300e-03, -1.840e-02, -9.900e-03,\n",
       "         2.630e-02,  4.630e-02, -1.377e-01, -4.820e-02,  9.350e-02,\n",
       "        -2.130e-02, -3.510e-02, -4.350e-02, -1.505e-01,  2.750e-02,\n",
       "         1.757e-01,  1.457e-01, -7.300e-02,  5.110e-02, -1.990e-02,\n",
       "         3.760e-02,  1.400e-02,  1.200e-02,  4.990e-02,  1.125e-01,\n",
       "        -1.610e-01,  2.910e-02,  2.310e-01, -7.490e-02, -4.870e-02]])"
      ]
     },
     "execution_count": 80,
     "metadata": {},
     "output_type": "execute_result"
    }
   ],
   "source": [
    "np.array([words_embeds[\"bad\"]])"
   ]
  },
  {
   "cell_type": "code",
   "execution_count": 81,
   "id": "894f3982",
   "metadata": {},
   "outputs": [
    {
     "data": {
      "text/plain": [
       "(array([[0.       , 2.598906 , 3.0293205]], dtype=float32), array([[1, 6, 0]]))"
      ]
     },
     "execution_count": 81,
     "metadata": {},
     "output_type": "execute_result"
    }
   ],
   "source": [
    "index.search(np.array([words_embeds[\"bad\"]]), k=3)"
   ]
  },
  {
   "cell_type": "code",
   "execution_count": 87,
   "id": "9b3295fd",
   "metadata": {},
   "outputs": [
    {
     "data": {
      "text/plain": [
       "array(dict_keys(['big', 'bad', 'girl', 'Greece', 'boy', 'brother', 'worse', 'sister', 'bigger', 'Thailand', 'Bulgaria', 'Athens', 'Latvia', 'Bangkok', 'lats', 'lev']),\n",
       "      dtype=object)"
      ]
     },
     "execution_count": 87,
     "metadata": {},
     "output_type": "execute_result"
    }
   ],
   "source": [
    "words"
   ]
  },
  {
   "cell_type": "code",
   "execution_count": null,
   "id": "f99c7a02",
   "metadata": {},
   "outputs": [],
   "source": [
    "words[0]"
   ]
  },
  {
   "cell_type": "code",
   "execution_count": null,
   "id": "87108e75",
   "metadata": {},
   "outputs": [],
   "source": [
    "index.is_trained"
   ]
  },
  {
   "cell_type": "markdown",
   "id": "c8fe5cbb",
   "metadata": {},
   "source": [
    "### Demo from Faiss: The Missing Manual\n",
    "- Demo posted on Pinecone's website\n",
    "\n",
    "  - [Faiss: The Missing Manual](https://www.pinecone.io/learn/series/faiss/faiss-tutorial/)"
   ]
  },
  {
   "cell_type": "code",
   "execution_count": null,
   "id": "f1933bdf",
   "metadata": {},
   "outputs": [],
   "source": []
  },
  {
   "cell_type": "code",
   "execution_count": null,
   "id": "d71a7183",
   "metadata": {},
   "outputs": [],
   "source": []
  }
 ],
 "metadata": {
  "kernelspec": {
   "display_name": "Python 3 (ipykernel)",
   "language": "python",
   "name": "python3"
  },
  "language_info": {
   "codemirror_mode": {
    "name": "ipython",
    "version": 3
   },
   "file_extension": ".py",
   "mimetype": "text/x-python",
   "name": "python",
   "nbconvert_exporter": "python",
   "pygments_lexer": "ipython3",
   "version": "3.9.16"
  }
 },
 "nbformat": 4,
 "nbformat_minor": 5
}
