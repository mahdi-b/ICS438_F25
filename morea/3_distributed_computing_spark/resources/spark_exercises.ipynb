{
 "cells": [
  {
   "cell_type": "markdown",
   "id": "0",
   "metadata": {},
   "source": [
    "### Using Spark to Query The Flight Delay Dataset"
   ]
  },
  {
   "cell_type": "markdown",
   "id": "1",
   "metadata": {},
   "source": [
    "Practice Spark with a dataset of flight arrival and departure details for all commercial flights in the USA for a month. Ensure you use Spark `DataFrames` and run on your Databricks account. Our aim is to \n",
    "The dataset can be downloaded [here](https://www.dropbox.com/s/egrza8zt8r0zyty/flight_info.csv?dl=1).\n",
    "Field details can be found [here](https://www.dropbox.com/scl/fi/dtab1jaa8amv2rz4zthsm/flight_info.info?rlkey=qojb5t58i71gtqkilxvl60rns&dl=0). Note the info file contains columns that were removed from the dataset. \n"
   ]
  },
  {
   "cell_type": "markdown",
   "id": "2",
   "metadata": {},
   "source": [
    "\n",
    "**Q1.** Load `flight_info.csv` into a Spark DataFrame `flight_info`. Also, determine the total number of entries in the file. \n",
    "*Note: Initialize a `sparkSession` before loading the data.*\n"
   ]
  },
  {
   "cell_type": "code",
   "execution_count": null,
   "id": "3",
   "metadata": {},
   "outputs": [],
   "source": [
    "### Write your code here"
   ]
  },
  {
   "cell_type": "markdown",
   "id": "4",
   "metadata": {},
   "source": [
    "Q2. Identify the airlines present in this dataset using the `UniqueCarrier` field. The field `UniqueCarrier` denotes the unique carrier code, e.g., `AA = American Airlines`."
   ]
  },
  {
   "cell_type": "code",
   "execution_count": null,
   "id": "5",
   "metadata": {},
   "outputs": [],
   "source": [
    "### Write your code here"
   ]
  },
  {
   "cell_type": "markdown",
   "id": "6",
   "metadata": {},
   "source": [
    "Q3. Calculate the number of flight delays for each carrier. Use `CRSDepTime` for scheduled departure and `DepTime` for actual departure. A flight is considered delayed if `DepTime > CRSDepTime`. List results in descending order of delays."
   ]
  },
  {
   "cell_type": "code",
   "execution_count": null,
   "id": "7",
   "metadata": {},
   "outputs": [],
   "source": [
    "### Write your code here"
   ]
  },
  {
   "cell_type": "markdown",
   "id": "8",
   "metadata": {},
   "source": [
    "Q4. Load `airlines.csv` into a DataFrame airlines_info. Then, match it with flight_info to display the full name of each airline along with delay counts. The carrier code is in the 4th column of airlines.csv. Since this file lacks a header, inspect the column names assigned by Spark for your query.\n",
    "Expected Output: Rows containing UniqueCarrier, airline name, and delay count."
   ]
  },
  {
   "cell_type": "code",
   "execution_count": null,
   "id": "9",
   "metadata": {},
   "outputs": [],
   "source": [
    "### Write your code here"
   ]
  },
  {
   "cell_type": "markdown",
   "id": "10",
   "metadata": {},
   "source": [
    "Q5. Calculate the number of delays per airline per day, using `DayOfWeek` column in `flight_info`. Sort the data by `UniqueCarrier` and `DayOfWeek` (ascending)."
   ]
  },
  {
   "cell_type": "code",
   "execution_count": null,
   "id": "11",
   "metadata": {},
   "outputs": [],
   "source": [
    "### Write your code here"
   ]
  },
  {
   "cell_type": "code",
   "execution_count": null,
   "id": "12",
   "metadata": {},
   "outputs": [],
   "source": [
    "Normalize delay counts per airline by the total number of flights for that carrier."
   ]
  },
  {
   "cell_type": "code",
   "execution_count": null,
   "id": "13",
   "metadata": {},
   "outputs": [],
   "source": [
    "### Write your code here"
   ]
  }
 ],
 "metadata": {
  "kernelspec": {
   "display_name": "Python 3 (ipykernel)",
   "language": "python",
   "name": "python3"
  },
  "language_info": {
   "codemirror_mode": {
    "name": "ipython",
    "version": 3
   },
   "file_extension": ".py",
   "mimetype": "text/x-python",
   "name": "python",
   "nbconvert_exporter": "python",
   "pygments_lexer": "ipython3",
   "version": "3.8.11"
  }
 },
 "nbformat": 4,
 "nbformat_minor": 5
}
